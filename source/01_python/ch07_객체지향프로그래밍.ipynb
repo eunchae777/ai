{
 "cells": [
  {
   "cell_type": "code",
   "execution_count": 1,
   "id": "d6ec582c",
   "metadata": {},
   "outputs": [
    {
     "data": {
      "text/html": [
       "\n",
       "<style>\n",
       "div.container{width:90% !important;}\n",
       "div.cell.code_cell.rendered{width:100%;}\n",
       "div.input_prompt{padding:0px;}\n",
       "div.CodeMirror {font-family:Consolas; font-size:12pt;}\n",
       "div.text_cell_render.rendered_html{font-size:12pt;}\n",
       "div.output {font-size:12pt; font-weight:bold;}\n",
       "div.input {font-family:Consolas; font-size:12pt;}\n",
       "div.prompt {min-width:70px;}\n",
       "div#toc-wrapper{padding-top:120px;}\n",
       "div.text_cell_render ul li{font-size:12pt;padding:5px;}\n",
       "table.dataframe{font-size:12px;}\n",
       "</style>\n"
      ],
      "text/plain": [
       "<IPython.core.display.HTML object>"
      ]
     },
     "metadata": {},
     "output_type": "display_data"
    }
   ],
   "source": [
    "from IPython.display import display, HTML\n",
    "display(HTML(\"\"\"\n",
    "<style>\n",
    "div.container{width:90% !important;}\n",
    "div.cell.code_cell.rendered{width:100%;}\n",
    "div.input_prompt{padding:0px;}\n",
    "div.CodeMirror {font-family:Consolas; font-size:12pt;}\n",
    "div.text_cell_render.rendered_html{font-size:12pt;}\n",
    "div.output {font-size:12pt; font-weight:bold;}\n",
    "div.input {font-family:Consolas; font-size:12pt;}\n",
    "div.prompt {min-width:70px;}\n",
    "div#toc-wrapper{padding-top:120px;}\n",
    "div.text_cell_render ul li{font-size:12pt;padding:5px;}\n",
    "table.dataframe{font-size:12px;}\n",
    "</style>\n",
    "\"\"\"))"
   ]
  },
  {
   "cell_type": "markdown",
   "id": "e5205ec6",
   "metadata": {},
   "source": [
    "<b><font size=\"7\" color=\"red\">ch07. 객체지향프로그래밍</font></b>"
   ]
  },
  {
   "cell_type": "code",
   "execution_count": 2,
   "id": "e8bee563",
   "metadata": {},
   "outputs": [
    {
     "name": "stdout",
     "output_type": "stream",
     "text": [
      "홍길동 남자\n",
      "{'name': '홍낄뚱', 'gender': '남자', 'academy': 'MBC'}\n",
      "{'name': '김길숙', 'gender': '여자', 'academy': 'MBC'}\n"
     ]
    }
   ],
   "source": [
    "person1 = {'name':'홍길동', 'gender':'남자', 'academy':'MBC'}\n",
    "person2 = {'name':'김길숙', 'gender':'여자', 'academy':'MBC'}\n",
    "print(person1['name'], person1.get('gender'))\n",
    "person1['name'] = \"홍낄뚱\"\n",
    "print(person1)\n",
    "print(person2)\n",
    "# person1.my_function"
   ]
  },
  {
   "cell_type": "code",
   "execution_count": 3,
   "id": "adeaa25e",
   "metadata": {},
   "outputs": [
    {
     "name": "stdout",
     "output_type": "stream",
     "text": [
      "MBC의 김길숙님은 여자입니다\n",
      "MBC의 홍길동님은 남자입니다\n",
      "MBC의 홍홍홍님은 여자입니다\n"
     ]
    }
   ],
   "source": [
    "class Person: \n",
    "    academy ='MBC' # 클래스변수\n",
    "    def __init__(self, name, gender): # 생성자함수\n",
    "        self.name = name\n",
    "        self.gender = gender\n",
    "    def print_info(self):\n",
    "        print(\"{}의 {}님은 {}입니다\".format(self.academy, self.name, self.gender))\n",
    "p1 = Person(\"김길숙\", \"여자\") # 객체변수(인스턴스) 생성\n",
    "p1.print_info()\n",
    "p2 = Person(\"홍길동\", \"남자\")\n",
    "p2.print_info()\n",
    "p1.name = \"홍홍홍\"\n",
    "p1.print_info()"
   ]
  },
  {
   "cell_type": "code",
   "execution_count": 4,
   "id": "17d45435",
   "metadata": {},
   "outputs": [
    {
     "name": "stdout",
     "output_type": "stream",
     "text": [
      "SBS의 홍길동님은 남자입니다\n",
      "MBC의 홍홍홍님은 여자입니다\n"
     ]
    }
   ],
   "source": [
    "p2.academy = 'SBS'\n",
    "p2.print_info()\n",
    "p1.print_info()"
   ]
  },
  {
   "cell_type": "markdown",
   "id": "0b2851bc",
   "metadata": {},
   "source": [
    "# 1절 객체와 클래스\n",
    "```\n",
    "class 클래스명(상속받을 클래스명):\n",
    "    \"독스트링\"\n",
    "    변수나 함수들을 선언\n",
    "```"
   ]
  },
  {
   "cell_type": "code",
   "execution_count": 5,
   "id": "813a8a88",
   "metadata": {},
   "outputs": [
    {
     "data": {
      "text/plain": [
       "__main__.Person"
      ]
     },
     "execution_count": 5,
     "metadata": {},
     "output_type": "execute_result"
    }
   ],
   "source": [
    "class Person:\n",
    "    \"Person 클래스는 어쩌구 저쩌구 여러줄 설명하는 독스트링\"\n",
    "    pass\n",
    "#    def __init__(self):\n",
    "#    pass\n",
    "p1 = Person()\n",
    "type(p1)"
   ]
  },
  {
   "cell_type": "code",
   "execution_count": 6,
   "id": "5f2c21d8",
   "metadata": {},
   "outputs": [
    {
     "name": "stdout",
     "output_type": "stream",
     "text": [
      "<__main__.Person object at 0x0000021283F16950>\n",
      "<__main__.Person object at 0x0000021283F16950>\n"
     ]
    }
   ],
   "source": [
    "print(p1)\n",
    "print(p1.__str__())"
   ]
  },
  {
   "cell_type": "code",
   "execution_count": 7,
   "id": "198f63fe",
   "metadata": {},
   "outputs": [
    {
     "data": {
      "text/plain": [
       "True"
      ]
     },
     "execution_count": 7,
     "metadata": {},
     "output_type": "execute_result"
    }
   ],
   "source": [
    "isinstance(p1, Person)"
   ]
  },
  {
   "cell_type": "code",
   "execution_count": 8,
   "id": "24c7c0e2",
   "metadata": {},
   "outputs": [
    {
     "data": {
      "text/plain": [
       "'Person 클래스는 어쩌구 저쩌구 여러줄 설명하는 독스트링'"
      ]
     },
     "execution_count": 8,
     "metadata": {},
     "output_type": "execute_result"
    }
   ],
   "source": [
    "p1.__doc__"
   ]
  },
  {
   "cell_type": "markdown",
   "id": "3bc74a89",
   "metadata": {},
   "source": [
    "# 2절 생성자(`__init__()`)와 소멸자(`__del__()`)\n",
    "- 생성자 : __init__(self, [매개변수1, 매개변수2..]) - 객체가 생성될 때 자동 실행\n",
    "        객체 생성시 필요한 코드(인스턴스 변수 생성과 초기화)를 포함한다\n",
    "- 소멸자 : __del__(self) - 객체가 소멸될 때 자동 실행\n",
    "        객체 소멸시 필요한 코드를 포함\n",
    "        인스턴스(객체)의 레퍼런스 카운트가 0이 될 때 실행"
   ]
  },
  {
   "cell_type": "code",
   "execution_count": 9,
   "id": "deeca376",
   "metadata": {},
   "outputs": [],
   "source": [
    "class Person:\n",
    "    def __init__(self, name, gender):\n",
    "        self.name = name # 인스턴스 변수를 초기화\n",
    "        self.gender = gender\n",
    "        print(\"Person형 객체를 생성\")\n",
    "    def __del__(self):\n",
    "        print(\"Person형 객체 소멸\")\n",
    "    def print_info(self):\n",
    "        print(\"{}님은 {}입니다\".format(self.name, self.gender))\n",
    "    def __str__(self): # 오버라이딩(함수의 재정의)\n",
    "        return \"{}님은 {}입니다\".format(self.name, self.gender)"
   ]
  },
  {
   "cell_type": "code",
   "execution_count": 10,
   "id": "339ca8ae",
   "metadata": {},
   "outputs": [
    {
     "name": "stdout",
     "output_type": "stream",
     "text": [
      "Person형 객체를 생성\n"
     ]
    }
   ],
   "source": [
    "p1 = Person(\"신사임당\",\"여자\")"
   ]
  },
  {
   "cell_type": "code",
   "execution_count": 11,
   "id": "55588d59",
   "metadata": {},
   "outputs": [
    {
     "name": "stdout",
     "output_type": "stream",
     "text": [
      "신사임당님은 여자입니다\n"
     ]
    }
   ],
   "source": [
    "p1.print_info()"
   ]
  },
  {
   "cell_type": "code",
   "execution_count": 12,
   "id": "d50212af",
   "metadata": {},
   "outputs": [
    {
     "name": "stdout",
     "output_type": "stream",
     "text": [
      "신사임당님은 여자입니다\n",
      "신사임당님은 여자입니다\n"
     ]
    }
   ],
   "source": [
    "print(p1)\n",
    "print(p1.__str__())"
   ]
  },
  {
   "cell_type": "code",
   "execution_count": 13,
   "id": "6f9ffbcc",
   "metadata": {},
   "outputs": [
    {
     "data": {
      "text/plain": [
       "(__main__.Person, True)"
      ]
     },
     "execution_count": 13,
     "metadata": {},
     "output_type": "execute_result"
    }
   ],
   "source": [
    "type(p1), isinstance(p1, Person)"
   ]
  },
  {
   "cell_type": "code",
   "execution_count": 14,
   "id": "fd541463",
   "metadata": {},
   "outputs": [
    {
     "name": "stdout",
     "output_type": "stream",
     "text": [
      "Person형 객체 소멸\n"
     ]
    }
   ],
   "source": [
    "del p1"
   ]
  },
  {
   "cell_type": "code",
   "execution_count": 15,
   "id": "36333c3e",
   "metadata": {},
   "outputs": [
    {
     "name": "stdout",
     "output_type": "stream",
     "text": [
      "Person형 객체를 생성\n"
     ]
    }
   ],
   "source": [
    "p2 = Person(\"홍길동\", \"남자\")"
   ]
  },
  {
   "cell_type": "code",
   "execution_count": 16,
   "id": "eb40ee53",
   "metadata": {},
   "outputs": [],
   "source": [
    "p3 = p2"
   ]
  },
  {
   "cell_type": "code",
   "execution_count": 17,
   "id": "f6459456",
   "metadata": {},
   "outputs": [],
   "source": [
    "del p2"
   ]
  },
  {
   "cell_type": "code",
   "execution_count": 18,
   "id": "74f9ea94",
   "metadata": {},
   "outputs": [
    {
     "name": "stdout",
     "output_type": "stream",
     "text": [
      "Person형 객체 소멸\n"
     ]
    }
   ],
   "source": [
    "del p3"
   ]
  },
  {
   "cell_type": "markdown",
   "id": "fe92eff5",
   "metadata": {},
   "source": [
    "- **오버라이딩**(함수의 재정의)\n",
    "- **오버로딩**(함수의 중복정의)\n",
    "- 생성자함수 **오버로딩**불가"
   ]
  },
  {
   "cell_type": "code",
   "execution_count": 19,
   "id": "0c7e7dd0",
   "metadata": {},
   "outputs": [],
   "source": [
    "class Person:\n",
    "    # 생성자함수의 오버로딩 불가. 대신 기본값을 갖는 매개변수 이용\n",
    "    def __init__(self, name=\"홍길동\", gender=\"남자\"):\n",
    "        self.name = name # 인스턴스 변수를 초기화\n",
    "        self.gender = gender\n",
    "        print(\"Person형 객체를 생성\")\n",
    "    def print_info(self):\n",
    "        print(\"{}님은 {}입니다\".format(self.name, self.gender))\n",
    "    def __str__(self): # 오버라이딩(함수의 재정의)\n",
    "        return \"{}님은 {}입니다\".format(self.name, self.gender)"
   ]
  },
  {
   "cell_type": "code",
   "execution_count": 20,
   "id": "1b092b1f",
   "metadata": {},
   "outputs": [
    {
     "name": "stdout",
     "output_type": "stream",
     "text": [
      "Person형 객체를 생성\n",
      "Person형 객체를 생성\n",
      "Person형 객체를 생성\n",
      "Person형 객체를 생성\n",
      "Person형 객체를 생성\n"
     ]
    }
   ],
   "source": [
    "p1 = Person(\"김길숙\", \"여자\")\n",
    "p2 = Person(\"감강찬\")\n",
    "p3 = Person()\n",
    "p4 = Person(gender=\"여자\")\n",
    "p5 = Person(gender=\"여자\", name=\"홍이쁨\")"
   ]
  },
  {
   "cell_type": "code",
   "execution_count": 21,
   "id": "4e7cc9a2",
   "metadata": {},
   "outputs": [
    {
     "name": "stdout",
     "output_type": "stream",
     "text": [
      "p1= 김길숙님은 여자입니다\n",
      "p2= 감강찬님은 남자입니다\n",
      "p3= 홍길동님은 남자입니다\n",
      "p4= 홍길동님은 여자입니다\n"
     ]
    }
   ],
   "source": [
    "print('p1=', p1)\n",
    "print('p2=', p2)\n",
    "print('p3=', p3)\n",
    "print('p4=', p4)"
   ]
  },
  {
   "cell_type": "markdown",
   "id": "7d90afe9",
   "metadata": {},
   "source": [
    "# 3절 변수와 메소드(함수)\n",
    "- 인스턴스변수 vs 클래스변수 vs  static변수(정적변수)\n",
    "- 인스턴스메소드(self) vs 클래스메소드(cls) vs static메소드()"
   ]
  },
  {
   "cell_type": "code",
   "execution_count": 22,
   "id": "e857a755",
   "metadata": {},
   "outputs": [
    {
     "name": "stdout",
     "output_type": "stream",
     "text": [
      "MBC\n",
      "p1객체변수(인스턴스) = MBC의 홍길동님은 남자입니다\n",
      "p2객체변수(인스턴스) = MBC의 홍길동님은 남자입니다\n",
      "p1객체변수(인스턴스) = SBS의 홍길동님은 남자입니다\n",
      "p2객체변수(인스턴스) = 다른데의 홍길동님은 남자입니다\n"
     ]
    }
   ],
   "source": [
    "# 클래스 변수는 클래스 내부에 선언되며, 생성된 모든 인스턴스(객체)에 동일한 값을 가진다\n",
    "# 인스턴스(객체).클래스변수로 수정하면 해당 인스턴스(객체)만 반영\n",
    "# 클래스명.클래스변수로 수정하면 모든 인스턴스에 반영\n",
    "class Person:\n",
    "    academy = 'MBC' # 클래스변수\n",
    "    def __init__(self, name=\"홍길동\", gender=\"남자\"): # 생성자함수\n",
    "        self.name = name\n",
    "        self.gender = gender\n",
    "    def __str__(self):\n",
    "        return \"{}의 {}님은 {}입니다\".format(self.academy, self.name, self.gender)\n",
    "print(Person.academy)\n",
    "p1 = Person()\n",
    "p2 = Person()\n",
    "print('p1객체변수(인스턴스) =', p1.__str__())\n",
    "print('p2객체변수(인스턴스) =', p2)\n",
    "p1.academy = \"SBS\" # 인스턴스(객체).클래스변수로 수정하면 해당 인스턴스(객체)만 반영\n",
    "Person.academy = \"다른데\"\n",
    "print('p1객체변수(인스턴스) =', p1)\n",
    "print('p2객체변수(인스턴스) =', p2)"
   ]
  },
  {
   "cell_type": "markdown",
   "id": "07f3bcea",
   "metadata": {},
   "source": [
    "※ 인스턴스 메소드 vs 클래스 메소드 vs static 메소드\n",
    "- 인스턴스메소드 : 첫번째 인자에 self를 꼭 명시. 객체를 통해서만 호출할 수 있는 메소드\n",
    "- 클래스메소드 :  메소드위에 @calssmethod를 명시. 첫번째 인자에 clz(cls)를 명시\n",
    "- static메소드 : 메소드위에 @staticmethod를 명시. 디폴드 인자없음"
   ]
  },
  {
   "cell_type": "code",
   "execution_count": 23,
   "id": "2f57fd06",
   "metadata": {},
   "outputs": [],
   "source": [
    "class Person:\n",
    "    academy = 'MBC' # 클래스 변수\n",
    "    def __init__(self, name=\"홍길동\", gender=\"남자\"):\n",
    "        self.name = name\n",
    "        self.gender = gender\n",
    "    def print_info(self): # 인스턴스메소드 : 객체변수.print_info()로 호출\n",
    "        print(\"일반(인스턴스)메소드 - {}의 {}님은 {}입니다\".format(self.academy,\n",
    "                                                   self.name,\n",
    "                                                   self.gender))\n",
    "    def change_info(self, name=\"익명\", gender=\"여자\"):\n",
    "        self.name = name\n",
    "        self.gender = gender\n",
    "        print(\"일반(인스턴스)메소드를 통해 {}로 이름변경. {}로 성별변경\".format(self.name,\n",
    "                                                         self.gender))\n",
    "    @classmethod\n",
    "    def do_(clz): # clz=> Person의미. 클래스 변수를 이용한 로직\n",
    "        clz.academy = 'classAcademy' \n",
    "        print(\"클래스 메소드에서 {}로 클래스변수 변경\".format(clz.academy))\n",
    "    @classmethod\n",
    "    def done_(clz, academy): # clz=> Person의미. 클래스 변수를 이용한 로직\n",
    "        clz.academy = academy \n",
    "        print(\"클래스 메소드에서 {}로 클래스변수 변경\".format(clz.academy))\n",
    "    @staticmethod\n",
    "    def that_(): # 클래스변수보다는 로직이 우선일 경우\n",
    "        Person.academy = \"staticAcademy\"\n",
    "        print(\"static 메소드에서 {}로 클래스 변수 변경\".format(Person.academy))"
   ]
  },
  {
   "cell_type": "code",
   "execution_count": 24,
   "id": "08aa98eb",
   "metadata": {},
   "outputs": [
    {
     "name": "stdout",
     "output_type": "stream",
     "text": [
      "일반(인스턴스)메소드 - MBC의 홍길동님은 남자입니다\n"
     ]
    }
   ],
   "source": [
    "p1 = Person()\n",
    "p1.print_info()"
   ]
  },
  {
   "cell_type": "code",
   "execution_count": 25,
   "id": "f8e1c5c9",
   "metadata": {},
   "outputs": [
    {
     "name": "stdout",
     "output_type": "stream",
     "text": [
      "static 메소드에서 staticAcademy로 클래스 변수 변경\n"
     ]
    }
   ],
   "source": [
    "Person.that_()"
   ]
  },
  {
   "cell_type": "code",
   "execution_count": 26,
   "id": "c7ce4802",
   "metadata": {},
   "outputs": [
    {
     "name": "stdout",
     "output_type": "stream",
     "text": [
      "일반(인스턴스)메소드 - staticAcademy의 홍길동님은 남자입니다\n"
     ]
    }
   ],
   "source": [
    "p1.print_info()"
   ]
  },
  {
   "cell_type": "code",
   "execution_count": 27,
   "id": "ff89438f",
   "metadata": {},
   "outputs": [
    {
     "name": "stdout",
     "output_type": "stream",
     "text": [
      "일반(인스턴스)메소드를 통해 익명로 이름변경. 여자로 성별변경\n",
      "일반(인스턴스)메소드 - staticAcademy의 익명님은 여자입니다\n"
     ]
    }
   ],
   "source": [
    "p1.change_info()\n",
    "p1.print_info()"
   ]
  },
  {
   "cell_type": "code",
   "execution_count": 28,
   "id": "99178193",
   "metadata": {},
   "outputs": [
    {
     "name": "stdout",
     "output_type": "stream",
     "text": [
      "일반(인스턴스)메소드 - staticAcademy의 홍길동님은 남자입니다\n"
     ]
    }
   ],
   "source": [
    "p2 = Person()\n",
    "p2.print_info()"
   ]
  },
  {
   "cell_type": "code",
   "execution_count": 29,
   "id": "d404da96",
   "metadata": {},
   "outputs": [
    {
     "name": "stdout",
     "output_type": "stream",
     "text": [
      "클래스 메소드에서 classAcademy로 클래스변수 변경\n",
      "일반(인스턴스)메소드 - classAcademy의 익명님은 여자입니다\n",
      "일반(인스턴스)메소드 - classAcademy의 홍길동님은 남자입니다\n"
     ]
    }
   ],
   "source": [
    "Person.do_()\n",
    "p1.print_info()\n",
    "p2.print_info()"
   ]
  },
  {
   "cell_type": "code",
   "execution_count": 30,
   "id": "86ada148",
   "metadata": {},
   "outputs": [
    {
     "name": "stdout",
     "output_type": "stream",
     "text": [
      "클래스 메소드에서 SBS로 클래스변수 변경\n",
      "일반(인스턴스)메소드 - SBS의 익명님은 여자입니다\n",
      "일반(인스턴스)메소드 - SBS의 홍길동님은 남자입니다\n"
     ]
    }
   ],
   "source": [
    "Person.done_(\"SBS\")\n",
    "p1.print_info()\n",
    "p2.print_info()"
   ]
  },
  {
   "cell_type": "markdown",
   "id": "024c9d51",
   "metadata": {},
   "source": [
    "# 4절 상속과 재정의\n",
    "- 클래스 재사용\n",
    "- 상속을 이용하면 부모클래스의 모든 속성을 자식클래스로 물려줄 수 있음\n",
    "```\n",
    "class 자식클래스명(부모클래스명):\n",
    "```"
   ]
  },
  {
   "cell_type": "code",
   "execution_count": 31,
   "id": "f151adb0",
   "metadata": {},
   "outputs": [],
   "source": [
    "class Person:\n",
    "    def __init__(self, name, gender):\n",
    "        self.name = name # 인스턴스 변수를 초기화\n",
    "        self.gender = gender\n",
    "        print(\"Person형 객채 생성합니다(부모클래스)\")\n",
    "    def print_info(self):\n",
    "        print(self)\n",
    "    def __str__(self): # 오버라이딩(함수의 재정의)\n",
    "        return \"{}님은 {}입니다\".format(self.name, self.gender)"
   ]
  },
  {
   "cell_type": "code",
   "execution_count": 32,
   "id": "158437f0",
   "metadata": {},
   "outputs": [],
   "source": [
    "class Student(Person):\n",
    "    def __init__(self, name, gender, major):\n",
    "        self.name = name\n",
    "        self.gender = gender\n",
    "        self.major = major\n",
    "        print(\"Student 객체 생성합니다(자식클래스)\")\n",
    "    # 재정의(override) : 부모클래스에서 정의한 함수를 자식클래스에서 다시 정의\n",
    "    def __str__(self):\n",
    "        return \"{}님은 {}입니다. 전공은 {}입니다\".format(self.name, self.gender, self.major)"
   ]
  },
  {
   "cell_type": "code",
   "execution_count": 33,
   "id": "2e524070",
   "metadata": {},
   "outputs": [
    {
     "name": "stdout",
     "output_type": "stream",
     "text": [
      "Person형 객채 생성합니다(부모클래스)\n",
      "홍길동님은 남자입니다\n",
      "True\n"
     ]
    }
   ],
   "source": [
    "p1 = Person(\"홍길동\", \"남자\")\n",
    "print(p1)\n",
    "print(isinstance(p1, Person))"
   ]
  },
  {
   "cell_type": "code",
   "execution_count": 34,
   "id": "fbd19f1d",
   "metadata": {},
   "outputs": [
    {
     "name": "stdout",
     "output_type": "stream",
     "text": [
      "Student 객체 생성합니다(자식클래스)\n",
      "홍길숙님은 여자입니다. 전공은 AI입니다\n"
     ]
    }
   ],
   "source": [
    "s1 = Student(\"홍길숙\", \"여자\", \"AI\")\n",
    "print(s1)"
   ]
  },
  {
   "cell_type": "code",
   "execution_count": 35,
   "id": "714e83ef",
   "metadata": {},
   "outputs": [
    {
     "name": "stdout",
     "output_type": "stream",
     "text": [
      "홍길숙님은 여자입니다. 전공은 AI입니다\n"
     ]
    }
   ],
   "source": [
    "s1.print_info()"
   ]
  },
  {
   "cell_type": "code",
   "execution_count": 36,
   "id": "c17dec96",
   "metadata": {},
   "outputs": [
    {
     "name": "stdout",
     "output_type": "stream",
     "text": [
      "True\n",
      "True\n"
     ]
    }
   ],
   "source": [
    "print(isinstance(s1, Student))\n",
    "print(isinstance(s1, Person))"
   ]
  },
  {
   "cell_type": "markdown",
   "id": "ef1441ee",
   "metadata": {},
   "source": [
    "### super() 이용\n",
    "- super() : \"부모클래스의\"를 의미\n"
   ]
  },
  {
   "cell_type": "code",
   "execution_count": 37,
   "id": "acab0806",
   "metadata": {},
   "outputs": [],
   "source": [
    "class Person:\n",
    "    def __init__(self, name, gender):\n",
    "        self.name = name # 인스턴스 변수를 초기화\n",
    "        self.gender = gender\n",
    "        print(\"Person형 객채 생성합니다(부모클래스)\")\n",
    "    def print_info(self):\n",
    "        print(self)\n",
    "    def __str__(self): # 오버라이딩(함수의 재정의)\n",
    "        return \"{}님은 {}입니다\".format(self.name, self.gender)\n",
    "class Student(Person):\n",
    "    def __init__(self, name, gender, major):\n",
    "        super().__init__(name, gender)\n",
    "        self.major = major\n",
    "        print(\"Student 객체 생성합니다(자식클래스)\")\n",
    "    # 재정의(override) : 부모클래스에서 정의한 함수를 자식클래스에서 다시 정의\n",
    "    def __str__(self):\n",
    "        return super().__str__() + \"전공은 {}입니다\".format(self.major)"
   ]
  },
  {
   "cell_type": "code",
   "execution_count": 38,
   "id": "f118d650",
   "metadata": {},
   "outputs": [
    {
     "name": "stdout",
     "output_type": "stream",
     "text": [
      "Person형 객채 생성합니다(부모클래스)\n",
      "Student 객체 생성합니다(자식클래스)\n",
      "아무개님은 여자입니다전공은 AI입니다\n",
      "아무개님은 여자입니다전공은 AI입니다\n"
     ]
    }
   ],
   "source": [
    "s2 = Student(\"아무개\", \"여자\", \"AI\")\n",
    "print(s2)\n",
    "s2.print_info()"
   ]
  },
  {
   "cell_type": "markdown",
   "id": "23fadb63",
   "metadata": {},
   "source": [
    "### static 변수(정적변수) : 여러 객체들 사이에 데이터를 공유라고 싶을 때 사용\n",
    "- static 변수 : 앞에 under score2개(__) 붙임. 클래스멸._클래스명__static변수명으로 참조\n",
    "- static 변수는 클래스 내부에서만 접근하도록 하려는 용도"
   ]
  },
  {
   "cell_type": "code",
   "execution_count": 39,
   "id": "99d6b12b",
   "metadata": {},
   "outputs": [],
   "source": [
    "class Student(Person):\n",
    "    'name, gender에 major변수를 갖는 Student 타입. Stuent객체를 몇번 생성되어 있는지 공유'\n",
    "    __count = 0 # static변수\n",
    "    def __init__(self, name, gender, major):\n",
    "        super().__init__(name, gender)\n",
    "        self.major = major\n",
    "        Student._Student__count += 1 # 객체가 생성될 때마다 __count 1 증가\n",
    "    def __del__(self):\n",
    "        Student._Student__count -= 1 # 객체가 소멸될 때마다 __count 1 감소\n",
    "    def __str__(self):\n",
    "        return super().__str__() + \", 전공은 {} - 객체 {} 생성\".format(self.major,\n",
    "                                                        Student._Student__count)\n",
    "    @classmethod\n",
    "    def get_count(cls): # 클래스변수나 static변수를 이용하는 로직\n",
    "        return cls.__count\n",
    "        #return Student._Student__count"
   ]
  },
  {
   "cell_type": "code",
   "execution_count": 40,
   "id": "d344b081",
   "metadata": {},
   "outputs": [
    {
     "name": "stdout",
     "output_type": "stream",
     "text": [
      "Person형 객채 생성합니다(부모클래스)\n",
      "홍길동님은 남자입니다, 전공은 컴공 - 객체 1 생성\n",
      "객체 갯수 : 1\n",
      "객체 갯수 : 1\n"
     ]
    }
   ],
   "source": [
    "s1 = Student(\"홍길동\",\"남자\",\"컴공\")\n",
    "print(s1)\n",
    "print(\"객체 갯수 :\",Student.get_count())\n",
    "print(\"객체 갯수 :\", s1.get_count()) # 클래스 메소는 클래스명.클래스메소드() 추천"
   ]
  },
  {
   "cell_type": "code",
   "execution_count": 41,
   "id": "e89de115",
   "metadata": {},
   "outputs": [
    {
     "name": "stdout",
     "output_type": "stream",
     "text": [
      "Person형 객채 생성합니다(부모클래스)\n",
      "아무개님은 여자입니다전공은 AI입니다\n",
      "객체 갯수 : 1\n"
     ]
    }
   ],
   "source": [
    "s1 = Student(\"홍길숙\",\"여자\",\"컴공\")\n",
    "print(s2)\n",
    "print(\"객체 갯수 :\",Student.get_count())"
   ]
  },
  {
   "cell_type": "code",
   "execution_count": 42,
   "id": "b89608cb",
   "metadata": {},
   "outputs": [],
   "source": [
    "del s1 "
   ]
  },
  {
   "cell_type": "code",
   "execution_count": 43,
   "id": "feb0b29f",
   "metadata": {},
   "outputs": [
    {
     "name": "stdout",
     "output_type": "stream",
     "text": [
      "객체 갯수 : 0\n"
     ]
    }
   ],
   "source": [
    "print(\"객체 갯수 :\",Student.get_count())"
   ]
  },
  {
   "cell_type": "code",
   "execution_count": 44,
   "id": "ae5a9449",
   "metadata": {},
   "outputs": [],
   "source": [
    "del s2"
   ]
  },
  {
   "cell_type": "code",
   "execution_count": 45,
   "id": "ca129d39",
   "metadata": {},
   "outputs": [
    {
     "name": "stdout",
     "output_type": "stream",
     "text": [
      "객체 갯수 : 0\n"
     ]
    }
   ],
   "source": [
    "print(\"객체 갯수 :\",Student.get_count())"
   ]
  },
  {
   "cell_type": "markdown",
   "id": "b82ccc27",
   "metadata": {},
   "source": [
    "# 5절 연습문제\n",
    "## 실습형"
   ]
  },
  {
   "cell_type": "code",
   "execution_count": null,
   "id": "7eb3d891",
   "metadata": {},
   "outputs": [],
   "source": [
    "# 1\n",
    "class Shape:\n",
    "    def __init(s):\n",
    "        pass\n",
    "    def move(sel): # x축으로 얼마 move할지, y축으로 얼마 move할지를 받아 move\n",
    "        pass\n",
    "    def cal_area(self): # 호출시 강제로 예외발생\n",
    "        raise Exception(\"예외메세지\")\n",
    "    def __str__(self):\n",
    "        pass\n",
    "    @staticmethod\n",
    "    def staticmethod_():\n",
    "        print('도형 클래스의 staticmethod 호출')"
   ]
  },
  {
   "cell_type": "code",
   "execution_count": null,
   "id": "43269658",
   "metadata": {},
   "outputs": [],
   "source": []
  },
  {
   "cell_type": "code",
   "execution_count": null,
   "id": "9960ac3a",
   "metadata": {},
   "outputs": [],
   "source": []
  },
  {
   "cell_type": "code",
   "execution_count": null,
   "id": "80de3a55",
   "metadata": {},
   "outputs": [],
   "source": []
  },
  {
   "cell_type": "code",
   "execution_count": null,
   "id": "7a4bb39d",
   "metadata": {},
   "outputs": [],
   "source": []
  },
  {
   "cell_type": "code",
   "execution_count": null,
   "id": "fbb60a98",
   "metadata": {},
   "outputs": [],
   "source": []
  },
  {
   "cell_type": "code",
   "execution_count": null,
   "id": "937d699a",
   "metadata": {},
   "outputs": [],
   "source": []
  },
  {
   "cell_type": "code",
   "execution_count": null,
   "id": "ea7fb293",
   "metadata": {},
   "outputs": [],
   "source": []
  },
  {
   "cell_type": "code",
   "execution_count": null,
   "id": "1dd1c9e2",
   "metadata": {},
   "outputs": [],
   "source": []
  },
  {
   "cell_type": "code",
   "execution_count": null,
   "id": "4041aef2",
   "metadata": {},
   "outputs": [],
   "source": []
  },
  {
   "cell_type": "code",
   "execution_count": null,
   "id": "72eb56be",
   "metadata": {},
   "outputs": [],
   "source": []
  },
  {
   "cell_type": "code",
   "execution_count": null,
   "id": "931660ff",
   "metadata": {},
   "outputs": [],
   "source": []
  },
  {
   "cell_type": "code",
   "execution_count": null,
   "id": "75f3a85c",
   "metadata": {},
   "outputs": [],
   "source": []
  },
  {
   "cell_type": "code",
   "execution_count": null,
   "id": "c3f93309",
   "metadata": {},
   "outputs": [],
   "source": []
  },
  {
   "cell_type": "code",
   "execution_count": null,
   "id": "6fff4f18",
   "metadata": {},
   "outputs": [],
   "source": []
  },
  {
   "cell_type": "code",
   "execution_count": null,
   "id": "a3c98929",
   "metadata": {},
   "outputs": [],
   "source": []
  },
  {
   "cell_type": "code",
   "execution_count": null,
   "id": "1d013609",
   "metadata": {},
   "outputs": [],
   "source": []
  },
  {
   "cell_type": "code",
   "execution_count": null,
   "id": "2a1f3907",
   "metadata": {},
   "outputs": [],
   "source": []
  },
  {
   "cell_type": "code",
   "execution_count": null,
   "id": "c55065d4",
   "metadata": {},
   "outputs": [],
   "source": []
  },
  {
   "cell_type": "code",
   "execution_count": null,
   "id": "1e3ff24d",
   "metadata": {},
   "outputs": [],
   "source": []
  },
  {
   "cell_type": "code",
   "execution_count": null,
   "id": "c309b92d",
   "metadata": {},
   "outputs": [],
   "source": []
  },
  {
   "cell_type": "code",
   "execution_count": null,
   "id": "3ff96dcf",
   "metadata": {},
   "outputs": [],
   "source": []
  },
  {
   "cell_type": "code",
   "execution_count": null,
   "id": "83ea0c2c",
   "metadata": {},
   "outputs": [],
   "source": []
  },
  {
   "cell_type": "code",
   "execution_count": null,
   "id": "202d4d9f",
   "metadata": {},
   "outputs": [],
   "source": []
  },
  {
   "cell_type": "code",
   "execution_count": null,
   "id": "f35a1c80",
   "metadata": {},
   "outputs": [],
   "source": []
  },
  {
   "cell_type": "code",
   "execution_count": null,
   "id": "51f31998",
   "metadata": {},
   "outputs": [],
   "source": []
  },
  {
   "cell_type": "code",
   "execution_count": null,
   "id": "de61031f",
   "metadata": {},
   "outputs": [],
   "source": []
  },
  {
   "cell_type": "code",
   "execution_count": null,
   "id": "f70d7aa6",
   "metadata": {},
   "outputs": [],
   "source": []
  },
  {
   "cell_type": "code",
   "execution_count": null,
   "id": "c1868fbc",
   "metadata": {},
   "outputs": [],
   "source": []
  },
  {
   "cell_type": "code",
   "execution_count": null,
   "id": "91176881",
   "metadata": {},
   "outputs": [],
   "source": []
  },
  {
   "cell_type": "code",
   "execution_count": null,
   "id": "50bcb705",
   "metadata": {},
   "outputs": [],
   "source": []
  },
  {
   "cell_type": "code",
   "execution_count": null,
   "id": "34901cd4",
   "metadata": {},
   "outputs": [],
   "source": []
  },
  {
   "cell_type": "code",
   "execution_count": null,
   "id": "23677696",
   "metadata": {},
   "outputs": [],
   "source": []
  },
  {
   "cell_type": "code",
   "execution_count": null,
   "id": "ac8b76fa",
   "metadata": {},
   "outputs": [],
   "source": []
  },
  {
   "cell_type": "code",
   "execution_count": null,
   "id": "7ef066bc",
   "metadata": {},
   "outputs": [],
   "source": []
  },
  {
   "cell_type": "code",
   "execution_count": null,
   "id": "397bb1c8",
   "metadata": {},
   "outputs": [],
   "source": []
  },
  {
   "cell_type": "code",
   "execution_count": null,
   "id": "ccb0ed5b",
   "metadata": {},
   "outputs": [],
   "source": []
  },
  {
   "cell_type": "code",
   "execution_count": null,
   "id": "f97c4adb",
   "metadata": {},
   "outputs": [],
   "source": []
  },
  {
   "cell_type": "code",
   "execution_count": null,
   "id": "a6a2d45e",
   "metadata": {},
   "outputs": [],
   "source": []
  },
  {
   "cell_type": "code",
   "execution_count": null,
   "id": "53a5777a",
   "metadata": {},
   "outputs": [],
   "source": []
  },
  {
   "cell_type": "code",
   "execution_count": null,
   "id": "e70e0c81",
   "metadata": {},
   "outputs": [],
   "source": []
  },
  {
   "cell_type": "code",
   "execution_count": null,
   "id": "07e076ce",
   "metadata": {},
   "outputs": [],
   "source": []
  },
  {
   "cell_type": "code",
   "execution_count": null,
   "id": "d1bfa411",
   "metadata": {},
   "outputs": [],
   "source": []
  },
  {
   "cell_type": "code",
   "execution_count": null,
   "id": "d8d17cc5",
   "metadata": {},
   "outputs": [],
   "source": []
  },
  {
   "cell_type": "code",
   "execution_count": null,
   "id": "ce25e29c",
   "metadata": {},
   "outputs": [],
   "source": []
  },
  {
   "cell_type": "code",
   "execution_count": null,
   "id": "c302ad92",
   "metadata": {},
   "outputs": [],
   "source": []
  },
  {
   "cell_type": "code",
   "execution_count": null,
   "id": "781230a2",
   "metadata": {},
   "outputs": [],
   "source": []
  },
  {
   "cell_type": "code",
   "execution_count": null,
   "id": "7f68db25",
   "metadata": {},
   "outputs": [],
   "source": []
  },
  {
   "cell_type": "code",
   "execution_count": null,
   "id": "cd541c8a",
   "metadata": {},
   "outputs": [],
   "source": []
  },
  {
   "cell_type": "code",
   "execution_count": null,
   "id": "449dedec",
   "metadata": {},
   "outputs": [],
   "source": []
  },
  {
   "cell_type": "code",
   "execution_count": null,
   "id": "2cbf61a1",
   "metadata": {},
   "outputs": [],
   "source": []
  },
  {
   "cell_type": "code",
   "execution_count": null,
   "id": "8822c2ad",
   "metadata": {},
   "outputs": [],
   "source": []
  }
 ],
 "metadata": {
  "kernelspec": {
   "display_name": "Python 3 (ipykernel)",
   "language": "python",
   "name": "python3"
  },
  "language_info": {
   "codemirror_mode": {
    "name": "ipython",
    "version": 3
   },
   "file_extension": ".py",
   "mimetype": "text/x-python",
   "name": "python",
   "nbconvert_exporter": "python",
   "pygments_lexer": "ipython3",
   "version": "3.10.9"
  },
  "toc": {
   "base_numbering": 1,
   "nav_menu": {},
   "number_sections": false,
   "sideBar": true,
   "skip_h1_title": false,
   "title_cell": "Table of Contents",
   "title_sidebar": "Contents",
   "toc_cell": false,
   "toc_position": {
    "height": "calc(100% - 180px)",
    "left": "10px",
    "top": "150px",
    "width": "294.818px"
   },
   "toc_section_display": true,
   "toc_window_display": true
  }
 },
 "nbformat": 4,
 "nbformat_minor": 5
}
