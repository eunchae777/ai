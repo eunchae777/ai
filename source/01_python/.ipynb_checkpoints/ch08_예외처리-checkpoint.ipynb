{
 "cells": [
  {
   "cell_type": "code",
   "execution_count": 3,
   "id": "c6fca7bd",
   "metadata": {},
   "outputs": [
    {
     "data": {
      "text/html": [
       "\n",
       "<style>\n",
       "div.container{width:90% !important;}\n",
       "div.cell.code_cell.rendered{width:100%;}\n",
       "div.input_prompt{padding:0px;}\n",
       "div.CodeMirror {font-family:Consolas; font-size:12pt;}\n",
       "div.text_cell_render.rendered_html{font-size:12pt;}\n",
       "div.output {font-size:12pt; font-weight:bold;}\n",
       "div.input {font-family:Consolas; font-size:12pt;}\n",
       "div.prompt {min-width:70px;}\n",
       "div#toc-wrapper{padding-top:120px;}\n",
       "div.text_cell_render ul li{font-size:12pt;padding:5px;}\n",
       "table.dataframe{font-size:12px;}\n",
       "</style>\n"
      ],
      "text/plain": [
       "<IPython.core.display.HTML object>"
      ]
     },
     "metadata": {},
     "output_type": "display_data"
    }
   ],
   "source": [
    "from IPython.display import display, HTML\n",
    "display(HTML(\"\"\"\n",
    "<style>\n",
    "div.container{width:90% !important;}\n",
    "div.cell.code_cell.rendered{width:100%;}\n",
    "div.input_prompt{padding:0px;}\n",
    "div.CodeMirror {font-family:Consolas; font-size:12pt;}\n",
    "div.text_cell_render.rendered_html{font-size:12pt;}\n",
    "div.output {font-size:12pt; font-weight:bold;}\n",
    "div.input {font-family:Consolas; font-size:12pt;}\n",
    "div.prompt {min-width:70px;}\n",
    "div#toc-wrapper{padding-top:120px;}\n",
    "div.text_cell_render ul li{font-size:12pt;padding:5px;}\n",
    "table.dataframe{font-size:12px;}\n",
    "</style>\n",
    "\"\"\"))"
   ]
  },
  {
   "cell_type": "markdown",
   "id": "17439930",
   "metadata": {},
   "source": [
    "<b><font size=\"7\" color=\"red\">ch08. 예외처리</font></b>\n",
    "- 에러\n",
    "    (1) 문법에러 : 문법적으로 나타나는 에러(프로그램을 수정)\n",
    "    (2) 실행에러(실행시 에러)\n",
    "        * 시스템 에러 : 프로그래머의 의지와 상관없이 나타나는 에러\n",
    "        * 예외 : 정상적으로 동작하는 프로그램에서 나타나는 에러(MILD한 에러)\n",
    "# 1절. 예외처리 필요성\n",
    "- 예외가 날 가능성이 있는 부분에 대해서 미리 예상하고, 그에 대한 처리를 프로그래밍하는 것\n",
    "    (필요한 이유: 좀 더 안정적인 시스템)\n",
    "```\n",
    "    ex. 파일을 다룰 때, 파일이 없거나, 쓰기금지, 파일 이코딩방법에 인한 오류\n",
    "    ex. 데이터베이스 프로그래밍 시 제약조선 등에 의한 CRUD 명령 수행 오류. DBMS 서버 오류\n",
    "    ex. 네트워크 프로그래밍 시 네트워트 연결 오류\n",
    "    ex. 리스트나 튜플의 인덱스를 벗어난 참조에 의한 오류\n",
    "```"
   ]
  },
  {
   "cell_type": "code",
   "execution_count": 11,
   "id": "1cfe22f5",
   "metadata": {},
   "outputs": [
    {
     "name": "stdout",
     "output_type": "stream",
     "text": [
      "파일명은 ?ch08.txt\n"
     ]
    },
    {
     "data": {
      "text/plain": [
       "'Hello \\nPython\\n'"
      ]
     },
     "execution_count": 11,
     "metadata": {},
     "output_type": "execute_result"
    }
   ],
   "source": [
    "# 파일명은(ch08.txt, ch02.txt ) 사용자에서 입력받아 해당 파일 내용을 출력\n",
    "filename = input('파일명은 ?')\n",
    "f = open('data/' + filename, 'r') # 파일을 연다(스트림객체 생성)\n",
    "f.read()"
   ]
  },
  {
   "cell_type": "code",
   "execution_count": 12,
   "id": "09607f11",
   "metadata": {},
   "outputs": [],
   "source": [
    "f.close()"
   ]
  },
  {
   "cell_type": "code",
   "execution_count": 9,
   "id": "f5ba6b0c",
   "metadata": {},
   "outputs": [
    {
     "name": "stdout",
     "output_type": "stream",
     "text": [
      "파일명은 ?a.txt\n"
     ]
    },
    {
     "ename": "FileNotFoundError",
     "evalue": "[Errno 2] No such file or directory: 'data/a.txt'",
     "output_type": "error",
     "traceback": [
      "\u001b[1;31m---------------------------------------------------------------------------\u001b[0m",
      "\u001b[1;31mFileNotFoundError\u001b[0m                         Traceback (most recent call last)",
      "Cell \u001b[1;32mIn[9], line 3\u001b[0m\n\u001b[0;32m      1\u001b[0m \u001b[38;5;66;03m# 예외발생 : 파일이 잘못 되었거나, 인코딩방식이 다르거나\u001b[39;00m\n\u001b[0;32m      2\u001b[0m filename \u001b[38;5;241m=\u001b[39m \u001b[38;5;28minput\u001b[39m(\u001b[38;5;124m'\u001b[39m\u001b[38;5;124m파일명은 ?\u001b[39m\u001b[38;5;124m'\u001b[39m)\n\u001b[1;32m----> 3\u001b[0m f \u001b[38;5;241m=\u001b[39m \u001b[38;5;28;43mopen\u001b[39;49m\u001b[43m(\u001b[49m\u001b[38;5;124;43m'\u001b[39;49m\u001b[38;5;124;43mdata/\u001b[39;49m\u001b[38;5;124;43m'\u001b[39;49m\u001b[43m \u001b[49m\u001b[38;5;241;43m+\u001b[39;49m\u001b[43m \u001b[49m\u001b[43mfilename\u001b[49m\u001b[43m,\u001b[49m\u001b[43m \u001b[49m\u001b[38;5;124;43m'\u001b[39;49m\u001b[38;5;124;43mr\u001b[39;49m\u001b[38;5;124;43m'\u001b[39;49m\u001b[43m)\u001b[49m \u001b[38;5;66;03m# 파일을 연다(스트림객체 생성)\u001b[39;00m\n\u001b[0;32m      4\u001b[0m \u001b[38;5;28mprint\u001b[39m(f\u001b[38;5;241m.\u001b[39mread())\n\u001b[0;32m      5\u001b[0m f\u001b[38;5;241m.\u001b[39mclose()\n",
      "File \u001b[1;32m~\\anaconda3\\lib\\site-packages\\IPython\\core\\interactiveshell.py:282\u001b[0m, in \u001b[0;36m_modified_open\u001b[1;34m(file, *args, **kwargs)\u001b[0m\n\u001b[0;32m    275\u001b[0m \u001b[38;5;28;01mif\u001b[39;00m file \u001b[38;5;129;01min\u001b[39;00m {\u001b[38;5;241m0\u001b[39m, \u001b[38;5;241m1\u001b[39m, \u001b[38;5;241m2\u001b[39m}:\n\u001b[0;32m    276\u001b[0m     \u001b[38;5;28;01mraise\u001b[39;00m \u001b[38;5;167;01mValueError\u001b[39;00m(\n\u001b[0;32m    277\u001b[0m         \u001b[38;5;124mf\u001b[39m\u001b[38;5;124m\"\u001b[39m\u001b[38;5;124mIPython won\u001b[39m\u001b[38;5;124m'\u001b[39m\u001b[38;5;124mt let you open fd=\u001b[39m\u001b[38;5;132;01m{\u001b[39;00mfile\u001b[38;5;132;01m}\u001b[39;00m\u001b[38;5;124m by default \u001b[39m\u001b[38;5;124m\"\u001b[39m\n\u001b[0;32m    278\u001b[0m         \u001b[38;5;124m\"\u001b[39m\u001b[38;5;124mas it is likely to crash IPython. If you know what you are doing, \u001b[39m\u001b[38;5;124m\"\u001b[39m\n\u001b[0;32m    279\u001b[0m         \u001b[38;5;124m\"\u001b[39m\u001b[38;5;124myou can use builtins\u001b[39m\u001b[38;5;124m'\u001b[39m\u001b[38;5;124m open.\u001b[39m\u001b[38;5;124m\"\u001b[39m\n\u001b[0;32m    280\u001b[0m     )\n\u001b[1;32m--> 282\u001b[0m \u001b[38;5;28;01mreturn\u001b[39;00m io_open(file, \u001b[38;5;241m*\u001b[39margs, \u001b[38;5;241m*\u001b[39m\u001b[38;5;241m*\u001b[39mkwargs)\n",
      "\u001b[1;31mFileNotFoundError\u001b[0m: [Errno 2] No such file or directory: 'data/a.txt'"
     ]
    }
   ],
   "source": [
    "# 예외발생 : 파일이 잘못 되었거나, 인코딩방식이 다르거나\n",
    "filename = input('파일명은 ?')\n",
    "f = open('data/' + filename, 'r') # 파일을 연다(스트림객체 생성)\n",
    "print(f.read())\n",
    "f.close()"
   ]
  },
  {
   "cell_type": "code",
   "execution_count": 18,
   "id": "5a3f1943",
   "metadata": {},
   "outputs": [
    {
     "name": "stdout",
     "output_type": "stream",
     "text": [
      "파일명은 ?ch08.txt\n",
      "Hello \n",
      "Python\n",
      "주피터노트북의 txt파일 저장은 기본이 utf-8로 저장\n",
      "김설믜\n"
     ]
    }
   ],
   "source": [
    "# 예외발생  : 인코딩방식 에러\n",
    "# 한글인코딩 방법 :\n",
    "# 한글완성형(euc-ke < cp949) : 한글 1만1172자 중 2,850자만 코드표현법(euc-kr)\n",
    "# 한글조합형(utf-8) : ch08.txt\n",
    "filename = input('파일명은 ?')\n",
    "f = open('data/' + filename, 'r', encoding='utf-8') # 파일을 연다(cp949코드가 기본 encoding 방식)\n",
    "print(f.read())\n",
    "f.close()"
   ]
  },
  {
   "cell_type": "code",
   "execution_count": 19,
   "id": "2b7fd5a0",
   "metadata": {},
   "outputs": [
    {
     "ename": "ZeroDivisionError",
     "evalue": "division by zero",
     "output_type": "error",
     "traceback": [
      "\u001b[1;31m---------------------------------------------------------------------------\u001b[0m",
      "\u001b[1;31mZeroDivisionError\u001b[0m                         Traceback (most recent call last)",
      "Cell \u001b[1;32mIn[19], line 1\u001b[0m\n\u001b[1;32m----> 1\u001b[0m \u001b[38;5;241;43m4\u001b[39;49m\u001b[38;5;241;43m/\u001b[39;49m\u001b[38;5;241;43m0\u001b[39;49m\n",
      "\u001b[1;31mZeroDivisionError\u001b[0m: division by zero"
     ]
    }
   ],
   "source": [
    "4/0"
   ]
  },
  {
   "cell_type": "code",
   "execution_count": 20,
   "id": "4927c655",
   "metadata": {},
   "outputs": [
    {
     "ename": "IndexError",
     "evalue": "list index out of range",
     "output_type": "error",
     "traceback": [
      "\u001b[1;31m---------------------------------------------------------------------------\u001b[0m",
      "\u001b[1;31mIndexError\u001b[0m                                Traceback (most recent call last)",
      "Cell \u001b[1;32mIn[20], line 2\u001b[0m\n\u001b[0;32m      1\u001b[0m a \u001b[38;5;241m=\u001b[39m[\u001b[38;5;241m1\u001b[39m,\u001b[38;5;241m2\u001b[39m,\u001b[38;5;241m3\u001b[39m]\n\u001b[1;32m----> 2\u001b[0m \u001b[43ma\u001b[49m\u001b[43m[\u001b[49m\u001b[38;5;241;43m3\u001b[39;49m\u001b[43m]\u001b[49m\n",
      "\u001b[1;31mIndexError\u001b[0m: list index out of range"
     ]
    }
   ],
   "source": [
    "a =[1,2,3]\n",
    "a[3]"
   ]
  },
  {
   "cell_type": "markdown",
   "id": "787212fc",
   "metadata": {},
   "source": [
    "# 2절 try~except로 예외처리\n",
    "## 2.1 try~except\n",
    "```\n",
    "try:\n",
    "    예외가 발생할 가능성이 있는 명영어들\n",
    "excpet:\n",
    "    예외가 발생했을 경우 실행할 명령어들"
   ]
  },
  {
   "cell_type": "code",
   "execution_count": 26,
   "id": "4017f102",
   "metadata": {},
   "outputs": [
    {
     "name": "stdout",
     "output_type": "stream",
     "text": [
      "100을 나눌 정수를 입력하세요 :0\n"
     ]
    },
    {
     "ename": "ZeroDivisionError",
     "evalue": "division by zero",
     "output_type": "error",
     "traceback": [
      "\u001b[1;31m---------------------------------------------------------------------------\u001b[0m",
      "\u001b[1;31mZeroDivisionError\u001b[0m                         Traceback (most recent call last)",
      "Cell \u001b[1;32mIn[26], line 4\u001b[0m\n\u001b[0;32m      1\u001b[0m \u001b[38;5;66;03m# 100을 입력받은 정수값으로 나눠 출력\u001b[39;00m\n\u001b[0;32m      2\u001b[0m \u001b[38;5;66;03m# ValueError: invalid literal for int() with base 10: '삼' (정수를 입력하지 않은 경우)\u001b[39;00m\n\u001b[0;32m      3\u001b[0m x \u001b[38;5;241m=\u001b[39m \u001b[38;5;28mint\u001b[39m(\u001b[38;5;28minput\u001b[39m(\u001b[38;5;124m'\u001b[39m\u001b[38;5;124m100을 나눌 정수를 입력하세요 :\u001b[39m\u001b[38;5;124m'\u001b[39m))\n\u001b[1;32m----> 4\u001b[0m \u001b[38;5;28mprint\u001b[39m(\u001b[38;5;124m'\u001b[39m\u001b[38;5;124m100을 입력한 정수로 나누면 \u001b[39m\u001b[38;5;132;01m{:.3f}\u001b[39;00m\u001b[38;5;124m'\u001b[39m\u001b[38;5;241m.\u001b[39mformat(\u001b[38;5;241;43m100\u001b[39;49m\u001b[38;5;241;43m/\u001b[39;49m\u001b[43mx\u001b[49m))\n",
      "\u001b[1;31mZeroDivisionError\u001b[0m: division by zero"
     ]
    }
   ],
   "source": [
    "# 100을 입력받은 정수값으로 나눠 출력\n",
    "# ValueError: invalid literal for int() with base 10: '삼' (정수를 입력하지 않은 경우)\n",
    "# ZeroDivisionError: division by zero (0을 입력한 경우 예외 객체의 타입과 메세지)\n",
    "x = int(input('100을 나눌 정수를 입력하세요 :'))\n",
    "print('100을 입력한 정수로 나누면 {:.3f}'.format(100/x))"
   ]
  },
  {
   "cell_type": "code",
   "execution_count": 3,
   "id": "32c58375",
   "metadata": {},
   "outputs": [
    {
     "name": "stdout",
     "output_type": "stream",
     "text": [
      "100을 나눌 정수를 입력하세요 :0\n",
      "유효한 정수가 아닙니다\n"
     ]
    }
   ],
   "source": [
    "# 100을 입력받은 정수값으로 나눠 출력\n",
    "# ValueError: invalid literal for int() with base 10: '삼' (정수를 입력하지 않은 경우)\n",
    "# ZeroDivisionError: division by zero (0을 입력한 경우 예외 객체의 타입과 메세지)\n",
    "# try절에 예외가 발생되지 않으면 eccrpt절은 수행되지 않음\n",
    "# try정에 예외가 발생되면 , try절 수행을 멈추고 except정수를 수행\n",
    "try:\n",
    "    x = int(input('100을 나눌 정수를 입력하세요 :'))\n",
    "    print('100을 입력한 정수로 나누면 {:.3f}'.format(100/x))\n",
    "except:\n",
    "    print('유효한 정수가 아닙니다')"
   ]
  },
  {
   "cell_type": "code",
   "execution_count": 6,
   "id": "99b77d9b",
   "metadata": {
    "scrolled": true
   },
   "outputs": [
    {
     "name": "stdout",
     "output_type": "stream",
     "text": [
      "100을 나눌 정수를 입력하세요 :a\n",
      "유효한 정수가 아닙니다\n",
      "100을 나눌 정수를 입력하세요 :0\n",
      "유효한 정수가 아닙니다\n",
      "100을 나눌 정수를 입력하세요 :\n",
      "유효한 정수가 아닙니다\n",
      "100을 나눌 정수를 입력하세요 :\n",
      "유효한 정수가 아닙니다\n",
      "100을 나눌 정수를 입력하세요 :2\n",
      "100을 입력한 정수로 나누면 50.000\n"
     ]
    }
   ],
   "source": [
    "# 100을 나눌 유요한 정수를 입력할때까지 입력받아 100을 나눈 결과를 출력\n",
    "# ValueError: invalid literal for int() with base 10: '삼' (정수를 입력하지 않은 경우)\n",
    "# ZeroDivisionError: division by zero (0을 입력한 경우 예외 객체의 타입과 메세지)\n",
    "while True :\n",
    "    try:\n",
    "        x = int(input('100을 나눌 정수를 입력하세요 :'))\n",
    "        print('100을 입력한 정수로 나누면 {:.3f}'.format(100/x))\n",
    "        break\n",
    "    except:\n",
    "        print('유효한 정수가 아닙니다')"
   ]
  },
  {
   "cell_type": "markdown",
   "id": "c6a09cfb",
   "metadata": {},
   "source": [
    "## 2.2 지정된 예외 처리\n",
    "```\n",
    "try:\n",
    "    예외가 발생할 수도 있는 명령어\n",
    "except 예외타입1:\n",
    "    해당 예외가 발생할 경우 실행할 명령어\n",
    "except 예외타입2:\n",
    "    해당 예외가 발생할 경우 실행할 명령어\n",
    "```"
   ]
  },
  {
   "cell_type": "code",
   "execution_count": 13,
   "id": "0041e59e",
   "metadata": {},
   "outputs": [
    {
     "name": "stdout",
     "output_type": "stream",
     "text": [
      "100을 나눌 정수를 입력하세요 :a\n",
      "정수를 입력하지 않았습니다\n"
     ]
    }
   ],
   "source": [
    "# 수를 입력받아 100을 나눈 결과를 출력\n",
    "# ValueError: invalid literal for int() with base 10: '삼' (정수를 입력하지 않은 경우)\n",
    "# ZeroDivisionError: division by zero (0을 입력한 경우 예외 객체의 타입과 메세지)\n",
    "\n",
    "try:\n",
    "    x = int(input('100을 나눌 정수를 입력하세요 :'))\n",
    "    print('100을 입력한 정수로 나누면 {:.3f}'.format(100/x))\n",
    "except ZeroDivisionError:\n",
    "    print('0으로는 나눌 수 없어요')\n",
    "except ValueError:\n",
    "    print('정수를 입력하지 않았습니다')\n",
    "except Exception:\n",
    "    print('기타 다른 예외입니다')"
   ]
  },
  {
   "cell_type": "code",
   "execution_count": 14,
   "id": "789fea1f",
   "metadata": {},
   "outputs": [
    {
     "name": "stdout",
     "output_type": "stream",
     "text": [
      "100을 나눌 정수를 입력하세요 :0\n",
      "나눌 수 있는 유효한 수가 아닙니다\n"
     ]
    }
   ],
   "source": [
    "try:\n",
    "    x = int(input('100을 나눌 정수를 입력하세요 :'))\n",
    "    print('100을 입력한 정수로 나누면 {:.3f}'.format(100/x))\n",
    "except (ZeroDivisionError, ValueError):\n",
    "    print('나눌 수 있는 유효한 수가 아닙니다')\n",
    "except Exception:\n",
    "    print('기타 다른 예외입니다')"
   ]
  },
  {
   "cell_type": "markdown",
   "id": "078bf8c2",
   "metadata": {},
   "source": [
    "## 2.3  예외 인수(e)\n",
    "```\n",
    "try:\n",
    "    예외가 발생할 수도 있는 명령러\n",
    "except 예외타입  as e:\n",
    "    print(e)\n",
    "    print(e.args[0]) # 예외메세지 출력\n",
    "```"
   ]
  },
  {
   "cell_type": "code",
   "execution_count": 21,
   "id": "b28cc5a5",
   "metadata": {},
   "outputs": [
    {
     "name": "stdout",
     "output_type": "stream",
     "text": [
      "100을 나눌 정수를 입력하세요 :0\n",
      "예외 유형: <class 'ZeroDivisionError'>\n",
      "예외 메세지 division by zero\n",
      "예외 메세지 division by zero\n",
      "예외 메세지 ('division by zero',)\n"
     ]
    }
   ],
   "source": [
    "try:\n",
    "    x = int(input('100을 나눌 정수를 입력하세요 :'))\n",
    "    print('100을 입력한 정수로 나누면 {:.3f}'.format(100/x))\n",
    "except (ZeroDivisionError, ValueError) as e:\n",
    "    print('예외 유형:',type(e))\n",
    "    print('예외 메세지',e)\n",
    "    print('예외 메세지',e.__str__())\n",
    "    print('예외 메세지',e.args)\n",
    "except Exception:\n",
    "    print('기타 다른 예외입니다')"
   ]
  },
  {
   "cell_type": "markdown",
   "id": "cc8ff533",
   "metadata": {},
   "source": [
    "```\n",
    "try:\n",
    "    예외 발생 가능 명령어\n",
    "except [예외타입 [as e]]:\n",
    "    예외타입 발생시 명령어\n",
    "[else:\n",
    "    try절 수행하다 예외가 발생 안되면 else절 수행\n",
    "    try절 수행하다 예외가 발생 except 절 수행(else절 수행 안 함)\n",
    "]\n",
    "[finally: \n",
    "    try절에서 예외가 발생하든 안 하든 마지막에 수행\n",
    "]\n",
    "```"
   ]
  },
  {
   "cell_type": "code",
   "execution_count": 23,
   "id": "a74e5dad",
   "metadata": {},
   "outputs": [
    {
     "name": "stdout",
     "output_type": "stream",
     "text": [
      "Hello \n",
      "Python\n",
      "주피터노트북의 txt파일 저장은 기본이 utf-8로 저장\n",
      "김설믜\n"
     ]
    }
   ],
   "source": [
    "try:\n",
    "    file = open('data/ch08.txt', 'r', encoding='utf-8')\n",
    "except FileNotFoundError as e:\n",
    "    print('해당 폴더나 파일이 없습니다')\n",
    "    print(e)\n",
    "except UnicodeDecodeError as e:\n",
    "    print(e)\n",
    "else:\n",
    "    print(file.read())\n",
    "finally:\n",
    "    file.close()"
   ]
  },
  {
   "cell_type": "code",
   "execution_count": null,
   "id": "286b5e31",
   "metadata": {},
   "outputs": [],
   "source": [
    "try:\n",
    "    file = open('data/ch08.txt', 'r', encoding='utf-8')\n",
    "    print(file.read())\n",
    "except FileNotFoundError as e:\n",
    "    print('해당 폴더나 파일이 없습니다')\n",
    "    print(e)\n",
    "except UnicodeDecodeError as e:\n",
    "    print(e)\n",
    "finally:\n",
    "    file.close()"
   ]
  },
  {
   "cell_type": "markdown",
   "id": "e3496e0d",
   "metadata": {},
   "source": [
    "# 3절 raise\n",
    "- 강제 예외 발생"
   ]
  },
  {
   "cell_type": "code",
   "execution_count": 24,
   "id": "448bfa9e",
   "metadata": {},
   "outputs": [
    {
     "ename": "ZeroDivisionError",
     "evalue": "0으로 나누려고 했네",
     "output_type": "error",
     "traceback": [
      "\u001b[1;31m---------------------------------------------------------------------------\u001b[0m",
      "\u001b[1;31mZeroDivisionError\u001b[0m                         Traceback (most recent call last)",
      "Cell \u001b[1;32mIn[24], line 1\u001b[0m\n\u001b[1;32m----> 1\u001b[0m \u001b[38;5;28;01mraise\u001b[39;00m \u001b[38;5;167;01mZeroDivisionError\u001b[39;00m(\u001b[38;5;124m\"\u001b[39m\u001b[38;5;124m0으로 나누려고 했네\u001b[39m\u001b[38;5;124m\"\u001b[39m)\n",
      "\u001b[1;31mZeroDivisionError\u001b[0m: 0으로 나누려고 했네"
     ]
    }
   ],
   "source": [
    "raise ZeroDivisionError(\"0으로 나누려고 했네\")"
   ]
  },
  {
   "cell_type": "code",
   "execution_count": 26,
   "id": "1a72e796",
   "metadata": {},
   "outputs": [
    {
     "ename": "SyntaxError",
     "evalue": "expected ':' (1769210683.py, line 2)",
     "output_type": "error",
     "traceback": [
      "\u001b[1;36m  Cell \u001b[1;32mIn[26], line 2\u001b[1;36m\u001b[0m\n\u001b[1;33m    class LengthZeroError(Exception)\u001b[0m\n\u001b[1;37m                                    ^\u001b[0m\n\u001b[1;31mSyntaxError\u001b[0m\u001b[1;31m:\u001b[0m expected ':'\n"
     ]
    }
   ],
   "source": [
    "# 사용자 정의 예외 : Exception클래스로부터 상속받아 구현\n",
    "class LengthZeroError(Exception)\n",
    "    '길이가 0일때 발생하는 예외'\n",
    "    def __init__(self, message):\n",
    "        super().__init__(message)"
   ]
  },
  {
   "cell_type": "code",
   "execution_count": 31,
   "id": "c35516c1",
   "metadata": {},
   "outputs": [],
   "source": [
    "def insert(*data): # 튜플매개변수\n",
    "    print('data = ', data)\n",
    "    if len(data)==0:\n",
    "        raise LengthZeroError(\"매개변수의 갯수가 0이면 예외예요(사용자 정의 예외)\")\n",
    "    for item in data:\n",
    "        print(item, end=' ')\n",
    "    print('등을 입력하였습니다')"
   ]
  },
  {
   "cell_type": "code",
   "execution_count": 32,
   "id": "4da7d28a",
   "metadata": {},
   "outputs": [
    {
     "name": "stdout",
     "output_type": "stream",
     "text": [
      "data =  (1, 2, '3')\n",
      "1 2 3 등을 입력하였습니다\n"
     ]
    }
   ],
   "source": [
    "insert(1, 2, '3')"
   ]
  },
  {
   "cell_type": "code",
   "execution_count": 33,
   "id": "aa0cddc8",
   "metadata": {},
   "outputs": [
    {
     "name": "stdout",
     "output_type": "stream",
     "text": [
      "data =  ()\n",
      "name 'LengthZeroError' is not defined\n",
      "예외가 발생하든 안 하든 모조건 실행\n"
     ]
    }
   ],
   "source": [
    "data = ()\n",
    "try:\n",
    "    insert(*data)\n",
    "except Exception as e:\n",
    "    print(e)\n",
    "finally:\n",
    "    print('예외가 발생하든 안 하든 모조건 실행')"
   ]
  },
  {
   "cell_type": "markdown",
   "id": "973e22d4",
   "metadata": {},
   "source": [
    "# 4절 추상클래스\n",
    "- 추상클래스 : 추상메소드가 1개 이상 포함된 클래스를 추상클래스.\n",
    "- 추상메소드 : 호출할 수 없는 메소드. 상속받은 클래스에서 재정의를 강요할 때\n",
    "- python에서 추상메소드는 @absteacmethod나 reise를 이용"
   ]
  },
  {
   "cell_type": "code",
   "execution_count": 41,
   "id": "b57029ea",
   "metadata": {},
   "outputs": [],
   "source": [
    "class Shape: \n",
    "    def __init__(self):\n",
    "        raise NotImplementedError(\"추상클래스 역할\")\n",
    "    def calc_area(self):\n",
    "        raise NotImplementedError(\"추상클래스 역할\")"
   ]
  },
  {
   "cell_type": "code",
   "execution_count": 42,
   "id": "e2f342fb",
   "metadata": {},
   "outputs": [],
   "source": [
    "from abc import ABC, abstractmethod\n",
    "class Shape(ABC):\n",
    "    @abstractmethod\n",
    "    def __init__(self):\n",
    "        pass\n",
    "    @abstractmethod\n",
    "    def calc_area(self):\n",
    "        pass"
   ]
  },
  {
   "cell_type": "code",
   "execution_count": 43,
   "id": "568dd430",
   "metadata": {},
   "outputs": [],
   "source": [
    "import numpy as np\n",
    "class Circle(Shape):\n",
    "    def __init__(self, radius=3):\n",
    "        self.radius = radius\n",
    "    def calc_area(self):\n",
    "        '원의 넓이를 return'\n",
    "        return np.pi * (self.radius**2)"
   ]
  },
  {
   "cell_type": "code",
   "execution_count": null,
   "id": "67883464",
   "metadata": {},
   "outputs": [],
   "source": [
    "myCircle = Circle(5)\n",
    "myCircle.calc_area()"
   ]
  },
  {
   "cell_type": "markdown",
   "id": "9cd903b1",
   "metadata": {},
   "source": [
    "# 5절 파일 정리 작업(with절 이용)"
   ]
  },
  {
   "cell_type": "code",
   "execution_count": 40,
   "id": "c7dbb2aa",
   "metadata": {},
   "outputs": [
    {
     "name": "stdout",
     "output_type": "stream",
     "text": [
      "['Hello \\n', 'Python\\n', '주피터노트북의 txt파일 저장은 기본이 utf-8로 저장\\n', '김설믜']\n"
     ]
    }
   ],
   "source": [
    "try:\n",
    "    f = open('data/ch08.txt', 'r', encoding='utf-8')\n",
    "    lines = f.readlines() # 한줄한줄 모든 줄을 한꺼번에 list로 읽어오기\n",
    "    print(lines)\n",
    "except FileNotFoundError as e:\n",
    "    print(e)\n",
    "finally:\n",
    "    f.close()"
   ]
  },
  {
   "cell_type": "code",
   "execution_count": null,
   "id": "d1a38000",
   "metadata": {},
   "outputs": [],
   "source": []
  },
  {
   "cell_type": "code",
   "execution_count": 44,
   "id": "ec787939",
   "metadata": {},
   "outputs": [],
   "source": [
    "# 실습문제"
   ]
  },
  {
   "cell_type": "code",
   "execution_count": 47,
   "id": "9128b631",
   "metadata": {},
   "outputs": [
    {
     "name": "stdout",
     "output_type": "stream",
     "text": [
      "첫 번째 숫자를 입력하세요: 100\n",
      "두 번째 숫자를 입력하세요: ㅋ\n",
      "유효한 숫자가 아닙니다. 다시 시도하세요.\n",
      "두 번째 숫자를 입력하세요: 100\n",
      "입력한 수는 100.0와 100.0입니다.\n",
      "100.0를 100.0로 나누면 1.0입니다.\n"
     ]
    }
   ],
   "source": [
    "def get_number(prompt):\n",
    "    while True:\n",
    "        try:\n",
    "            num = float(input(prompt))   \n",
    "            return num\n",
    "        except ValueError:\n",
    "            print(\"유효한 숫자가 아닙니다. 다시 시도하세요.\")\n",
    "\n",
    "def main():\n",
    "    while True:\n",
    "        a = get_number(\"첫 번째 숫자를 입력하세요: \")\n",
    "        b = get_number(\"두 번째 숫자를 입력하세요: \")\n",
    "\n",
    "        print(f\"입력한 수는 {a}와 {b}입니다.\")\n",
    "        \n",
    "        if b == 0:\n",
    "            print(\"유효한 숫자가 아닙니다. 다시 시도하세요.\")\n",
    "            continue\n",
    "\n",
    "        result = a / b\n",
    "        print(f\"{a}를 {b}로 나누면 {result}입니다.\")\n",
    "        break   \n",
    "\n",
    "if __name__ == \"__main__\":\n",
    "    main()\n"
   ]
  },
  {
   "cell_type": "code",
   "execution_count": null,
   "id": "b3ce708a",
   "metadata": {},
   "outputs": [],
   "source": []
  },
  {
   "cell_type": "code",
   "execution_count": null,
   "id": "f915aeeb",
   "metadata": {},
   "outputs": [],
   "source": []
  },
  {
   "cell_type": "code",
   "execution_count": null,
   "id": "797bd4df",
   "metadata": {},
   "outputs": [],
   "source": []
  },
  {
   "cell_type": "code",
   "execution_count": null,
   "id": "a3bce7a1",
   "metadata": {},
   "outputs": [],
   "source": []
  },
  {
   "cell_type": "code",
   "execution_count": null,
   "id": "26f486b3",
   "metadata": {},
   "outputs": [],
   "source": []
  },
  {
   "cell_type": "code",
   "execution_count": null,
   "id": "13030d95",
   "metadata": {},
   "outputs": [],
   "source": []
  },
  {
   "cell_type": "code",
   "execution_count": null,
   "id": "14a113d8",
   "metadata": {},
   "outputs": [],
   "source": []
  },
  {
   "cell_type": "code",
   "execution_count": null,
   "id": "b8f074be",
   "metadata": {},
   "outputs": [],
   "source": []
  },
  {
   "cell_type": "code",
   "execution_count": null,
   "id": "8e60bd5b",
   "metadata": {},
   "outputs": [],
   "source": []
  },
  {
   "cell_type": "code",
   "execution_count": null,
   "id": "6f0dc562",
   "metadata": {},
   "outputs": [],
   "source": []
  },
  {
   "cell_type": "code",
   "execution_count": null,
   "id": "2fad5a91",
   "metadata": {},
   "outputs": [],
   "source": []
  },
  {
   "cell_type": "code",
   "execution_count": null,
   "id": "6883c966",
   "metadata": {},
   "outputs": [],
   "source": []
  },
  {
   "cell_type": "code",
   "execution_count": null,
   "id": "4fcd269a",
   "metadata": {},
   "outputs": [],
   "source": []
  },
  {
   "cell_type": "code",
   "execution_count": null,
   "id": "86d35d48",
   "metadata": {},
   "outputs": [],
   "source": []
  },
  {
   "cell_type": "code",
   "execution_count": null,
   "id": "51b89d5a",
   "metadata": {},
   "outputs": [],
   "source": []
  },
  {
   "cell_type": "code",
   "execution_count": null,
   "id": "93d4f84f",
   "metadata": {},
   "outputs": [],
   "source": []
  },
  {
   "cell_type": "code",
   "execution_count": null,
   "id": "4835c693",
   "metadata": {},
   "outputs": [],
   "source": []
  },
  {
   "cell_type": "code",
   "execution_count": null,
   "id": "b7e01216",
   "metadata": {},
   "outputs": [],
   "source": []
  },
  {
   "cell_type": "code",
   "execution_count": null,
   "id": "3a99c2cf",
   "metadata": {},
   "outputs": [],
   "source": []
  },
  {
   "cell_type": "code",
   "execution_count": null,
   "id": "df141787",
   "metadata": {},
   "outputs": [],
   "source": []
  },
  {
   "cell_type": "code",
   "execution_count": null,
   "id": "0bfa5988",
   "metadata": {},
   "outputs": [],
   "source": []
  },
  {
   "cell_type": "code",
   "execution_count": null,
   "id": "4265524d",
   "metadata": {},
   "outputs": [],
   "source": []
  },
  {
   "cell_type": "code",
   "execution_count": null,
   "id": "40ee779c",
   "metadata": {},
   "outputs": [],
   "source": []
  },
  {
   "cell_type": "code",
   "execution_count": null,
   "id": "c0e3b710",
   "metadata": {},
   "outputs": [],
   "source": []
  },
  {
   "cell_type": "code",
   "execution_count": null,
   "id": "1f23464b",
   "metadata": {},
   "outputs": [],
   "source": []
  },
  {
   "cell_type": "code",
   "execution_count": null,
   "id": "69806147",
   "metadata": {},
   "outputs": [],
   "source": []
  },
  {
   "cell_type": "code",
   "execution_count": null,
   "id": "5ed3a37c",
   "metadata": {},
   "outputs": [],
   "source": []
  },
  {
   "cell_type": "code",
   "execution_count": null,
   "id": "862536a3",
   "metadata": {},
   "outputs": [],
   "source": []
  },
  {
   "cell_type": "code",
   "execution_count": null,
   "id": "bfb65f4a",
   "metadata": {},
   "outputs": [],
   "source": []
  },
  {
   "cell_type": "code",
   "execution_count": null,
   "id": "39b34f70",
   "metadata": {},
   "outputs": [],
   "source": []
  },
  {
   "cell_type": "code",
   "execution_count": null,
   "id": "82a6ff8d",
   "metadata": {},
   "outputs": [],
   "source": []
  },
  {
   "cell_type": "code",
   "execution_count": null,
   "id": "3f95d4d2",
   "metadata": {},
   "outputs": [],
   "source": []
  },
  {
   "cell_type": "code",
   "execution_count": null,
   "id": "fc83a79a",
   "metadata": {},
   "outputs": [],
   "source": []
  },
  {
   "cell_type": "code",
   "execution_count": null,
   "id": "f0a3ecd1",
   "metadata": {},
   "outputs": [],
   "source": []
  },
  {
   "cell_type": "code",
   "execution_count": null,
   "id": "5235b5e9",
   "metadata": {},
   "outputs": [],
   "source": []
  },
  {
   "cell_type": "code",
   "execution_count": null,
   "id": "0d940ca4",
   "metadata": {},
   "outputs": [],
   "source": []
  },
  {
   "cell_type": "code",
   "execution_count": null,
   "id": "ef9458c0",
   "metadata": {},
   "outputs": [],
   "source": []
  },
  {
   "cell_type": "code",
   "execution_count": null,
   "id": "801edfca",
   "metadata": {},
   "outputs": [],
   "source": []
  },
  {
   "cell_type": "code",
   "execution_count": null,
   "id": "4a119e17",
   "metadata": {},
   "outputs": [],
   "source": []
  },
  {
   "cell_type": "code",
   "execution_count": null,
   "id": "298044c6",
   "metadata": {},
   "outputs": [],
   "source": []
  },
  {
   "cell_type": "code",
   "execution_count": null,
   "id": "8e4e9485",
   "metadata": {},
   "outputs": [],
   "source": []
  },
  {
   "cell_type": "code",
   "execution_count": null,
   "id": "195c4f70",
   "metadata": {},
   "outputs": [],
   "source": []
  },
  {
   "cell_type": "code",
   "execution_count": null,
   "id": "8a52c38d",
   "metadata": {},
   "outputs": [],
   "source": []
  },
  {
   "cell_type": "code",
   "execution_count": null,
   "id": "3ad710e3",
   "metadata": {},
   "outputs": [],
   "source": []
  },
  {
   "cell_type": "code",
   "execution_count": null,
   "id": "3734b328",
   "metadata": {},
   "outputs": [],
   "source": []
  },
  {
   "cell_type": "code",
   "execution_count": null,
   "id": "10153345",
   "metadata": {},
   "outputs": [],
   "source": []
  },
  {
   "cell_type": "code",
   "execution_count": null,
   "id": "aa8ec0e7",
   "metadata": {},
   "outputs": [],
   "source": []
  },
  {
   "cell_type": "code",
   "execution_count": null,
   "id": "72f755b0",
   "metadata": {},
   "outputs": [],
   "source": []
  },
  {
   "cell_type": "code",
   "execution_count": null,
   "id": "2347c243",
   "metadata": {},
   "outputs": [],
   "source": []
  },
  {
   "cell_type": "code",
   "execution_count": null,
   "id": "7a6cb9e7",
   "metadata": {},
   "outputs": [],
   "source": []
  },
  {
   "cell_type": "code",
   "execution_count": null,
   "id": "a3ad857c",
   "metadata": {},
   "outputs": [],
   "source": []
  },
  {
   "cell_type": "code",
   "execution_count": null,
   "id": "25fab380",
   "metadata": {},
   "outputs": [],
   "source": []
  },
  {
   "cell_type": "code",
   "execution_count": null,
   "id": "34b6bba4",
   "metadata": {},
   "outputs": [],
   "source": []
  },
  {
   "cell_type": "code",
   "execution_count": null,
   "id": "c7a6ad79",
   "metadata": {},
   "outputs": [],
   "source": []
  },
  {
   "cell_type": "code",
   "execution_count": null,
   "id": "bdef879f",
   "metadata": {},
   "outputs": [],
   "source": []
  },
  {
   "cell_type": "code",
   "execution_count": null,
   "id": "5dde73d8",
   "metadata": {},
   "outputs": [],
   "source": []
  },
  {
   "cell_type": "code",
   "execution_count": null,
   "id": "61ef36e6",
   "metadata": {},
   "outputs": [],
   "source": []
  },
  {
   "cell_type": "code",
   "execution_count": null,
   "id": "73876a53",
   "metadata": {},
   "outputs": [],
   "source": []
  },
  {
   "cell_type": "code",
   "execution_count": null,
   "id": "f2c75bff",
   "metadata": {},
   "outputs": [],
   "source": []
  },
  {
   "cell_type": "code",
   "execution_count": null,
   "id": "5028f1ef",
   "metadata": {},
   "outputs": [],
   "source": []
  },
  {
   "cell_type": "code",
   "execution_count": null,
   "id": "e48a6f69",
   "metadata": {},
   "outputs": [],
   "source": []
  },
  {
   "cell_type": "code",
   "execution_count": null,
   "id": "a543c5a5",
   "metadata": {},
   "outputs": [],
   "source": []
  },
  {
   "cell_type": "code",
   "execution_count": null,
   "id": "df0845f7",
   "metadata": {},
   "outputs": [],
   "source": []
  },
  {
   "cell_type": "code",
   "execution_count": null,
   "id": "63d0150e",
   "metadata": {},
   "outputs": [],
   "source": []
  },
  {
   "cell_type": "code",
   "execution_count": null,
   "id": "8d4bcd39",
   "metadata": {},
   "outputs": [],
   "source": []
  },
  {
   "cell_type": "code",
   "execution_count": null,
   "id": "2ff8fbe3",
   "metadata": {},
   "outputs": [],
   "source": []
  },
  {
   "cell_type": "code",
   "execution_count": null,
   "id": "78106546",
   "metadata": {},
   "outputs": [],
   "source": []
  },
  {
   "cell_type": "code",
   "execution_count": null,
   "id": "daaa7253",
   "metadata": {},
   "outputs": [],
   "source": []
  },
  {
   "cell_type": "code",
   "execution_count": null,
   "id": "a406ffbb",
   "metadata": {},
   "outputs": [],
   "source": []
  },
  {
   "cell_type": "code",
   "execution_count": null,
   "id": "2327e3d6",
   "metadata": {},
   "outputs": [],
   "source": []
  },
  {
   "cell_type": "code",
   "execution_count": null,
   "id": "117c13a0",
   "metadata": {},
   "outputs": [],
   "source": []
  },
  {
   "cell_type": "code",
   "execution_count": null,
   "id": "2aa2ab01",
   "metadata": {},
   "outputs": [],
   "source": []
  },
  {
   "cell_type": "code",
   "execution_count": null,
   "id": "6fc78992",
   "metadata": {},
   "outputs": [],
   "source": []
  },
  {
   "cell_type": "code",
   "execution_count": null,
   "id": "16c94173",
   "metadata": {},
   "outputs": [],
   "source": []
  },
  {
   "cell_type": "code",
   "execution_count": null,
   "id": "a74ceea5",
   "metadata": {},
   "outputs": [],
   "source": []
  },
  {
   "cell_type": "code",
   "execution_count": null,
   "id": "b04dbbe7",
   "metadata": {},
   "outputs": [],
   "source": []
  },
  {
   "cell_type": "code",
   "execution_count": null,
   "id": "2f54f2db",
   "metadata": {},
   "outputs": [],
   "source": []
  },
  {
   "cell_type": "code",
   "execution_count": null,
   "id": "586c39aa",
   "metadata": {},
   "outputs": [],
   "source": []
  },
  {
   "cell_type": "code",
   "execution_count": null,
   "id": "c8b72b4d",
   "metadata": {},
   "outputs": [],
   "source": []
  },
  {
   "cell_type": "code",
   "execution_count": null,
   "id": "33d6dcc9",
   "metadata": {},
   "outputs": [],
   "source": []
  },
  {
   "cell_type": "code",
   "execution_count": null,
   "id": "676bce09",
   "metadata": {},
   "outputs": [],
   "source": []
  },
  {
   "cell_type": "code",
   "execution_count": null,
   "id": "47a66f1f",
   "metadata": {},
   "outputs": [],
   "source": []
  },
  {
   "cell_type": "code",
   "execution_count": null,
   "id": "cdbd2bbf",
   "metadata": {},
   "outputs": [],
   "source": []
  },
  {
   "cell_type": "code",
   "execution_count": null,
   "id": "d464d59e",
   "metadata": {},
   "outputs": [],
   "source": []
  },
  {
   "cell_type": "code",
   "execution_count": null,
   "id": "e3314cbc",
   "metadata": {},
   "outputs": [],
   "source": []
  },
  {
   "cell_type": "code",
   "execution_count": null,
   "id": "fcc99ae6",
   "metadata": {},
   "outputs": [],
   "source": []
  },
  {
   "cell_type": "code",
   "execution_count": null,
   "id": "17bf3385",
   "metadata": {},
   "outputs": [],
   "source": []
  },
  {
   "cell_type": "code",
   "execution_count": null,
   "id": "728a245a",
   "metadata": {},
   "outputs": [],
   "source": []
  },
  {
   "cell_type": "code",
   "execution_count": null,
   "id": "fd90f400",
   "metadata": {},
   "outputs": [],
   "source": []
  },
  {
   "cell_type": "code",
   "execution_count": null,
   "id": "81108db5",
   "metadata": {},
   "outputs": [],
   "source": []
  },
  {
   "cell_type": "code",
   "execution_count": null,
   "id": "fe3d2250",
   "metadata": {},
   "outputs": [],
   "source": []
  },
  {
   "cell_type": "code",
   "execution_count": null,
   "id": "838dc300",
   "metadata": {},
   "outputs": [],
   "source": []
  }
 ],
 "metadata": {
  "kernelspec": {
   "display_name": "Python 3 (ipykernel)",
   "language": "python",
   "name": "python3"
  },
  "language_info": {
   "codemirror_mode": {
    "name": "ipython",
    "version": 3
   },
   "file_extension": ".py",
   "mimetype": "text/x-python",
   "name": "python",
   "nbconvert_exporter": "python",
   "pygments_lexer": "ipython3",
   "version": "3.10.9"
  },
  "toc": {
   "base_numbering": 1,
   "nav_menu": {},
   "number_sections": false,
   "sideBar": true,
   "skip_h1_title": false,
   "title_cell": "Table of Contents",
   "title_sidebar": "Contents",
   "toc_cell": false,
   "toc_position": {
    "height": "calc(100% - 180px)",
    "left": "10px",
    "top": "150px",
    "width": "165.352px"
   },
   "toc_section_display": true,
   "toc_window_display": true
  }
 },
 "nbformat": 4,
 "nbformat_minor": 5
}
