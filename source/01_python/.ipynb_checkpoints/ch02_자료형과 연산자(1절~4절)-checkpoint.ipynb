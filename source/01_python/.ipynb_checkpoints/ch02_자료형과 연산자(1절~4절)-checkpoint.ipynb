{
 "cells": [
  {
   "cell_type": "code",
   "execution_count": null,
   "id": "9ba33e54",
   "metadata": {},
   "outputs": [],
   "source": [
    "from IPython.display import display, HTML\n",
    "display(HTML(\"\"\"\n",
    "<style>\n",
    "div.container{width:90% !important;}\n",
    "div.cell.code_cell.rendered{width:100%;}\n",
    "div.input_prompt{padding:0px;}\n",
    "div.CodeMirror {font-family:Consolas; font-size:12pt;}\n",
    "div.text_cell_render.rendered_html{font-size:12pt;}\n",
    "div.output {font-size:12pt; font-weight:bold;}\n",
    "div.input {font-family:Consolas; font-size:12pt;}\n",
    "div.prompt {min-width:70px;}\n",
    "div#toc-wrapper{padding-top:120px;}\n",
    "div.text_cell_render ul li{font-size:12pt;padding:5px;}\n",
    "table.dataframe{font-size:12px;}\n",
    "</style>\n",
    "\"\"\"))"
   ]
  },
  {
   "cell_type": "markdown",
   "id": "f9c1edf7",
   "metadata": {},
   "source": [
    "<b><font size=\"7\" color=\"red\">ch02. 자료형과 연산자</font></b>\n",
    "\n",
    "# 1절. 변수\n",
    "- 변수 : 프로그램 작업 처리를 위해, 값을 저장할 수 있는 메모리 공간\n",
    "- 파이썬은 변수 선언을 위한 타입이 없고, 별도의 선언 과정도 없음\n",
    "\n",
    "## 1.1 변수 할당\n",
    "- 할당연산자(=)을 이용해서 값을 할당하면 자료형(타입)이 셋팅\n",
    "- **파이썬에서의 모든 변수는 객체로 저장**"
   ]
  },
  {
   "cell_type": "code",
   "execution_count": null,
   "id": "4d0fe80b",
   "metadata": {},
   "outputs": [],
   "source": [
    "r = 5\n",
    "area = 3.14 * r * r\n",
    "print('넓이 :', area)"
   ]
  },
  {
   "cell_type": "code",
   "execution_count": null,
   "id": "136dd132",
   "metadata": {},
   "outputs": [],
   "source": [
    "import numpy as np # numpy패키지를 np라는 이름으로 사용\n",
    "area = np.pi * r * r\n",
    "print('넓이 :', area)"
   ]
  },
  {
   "cell_type": "code",
   "execution_count": null,
   "id": "65657370",
   "metadata": {},
   "outputs": [],
   "source": [
    "print('area의 주소 :', id(area))\n",
    "print('area의 타입 :', type(area))"
   ]
  },
  {
   "cell_type": "code",
   "execution_count": null,
   "id": "25f86ccb",
   "metadata": {},
   "outputs": [],
   "source": [
    "area.is_integer()"
   ]
  },
  {
   "cell_type": "code",
   "execution_count": null,
   "id": "9fe6f524",
   "metadata": {},
   "outputs": [],
   "source": [
    "area = 10\n",
    "print('area의 주소 :', id(area))\n",
    "print('area의 타입 :', type(area))"
   ]
  },
  {
   "cell_type": "code",
   "execution_count": null,
   "id": "e256f9e3",
   "metadata": {},
   "outputs": [],
   "source": [
    "area = \"파이썬\"\n",
    "print('area의 주소 :', id(area))\n",
    "print('area의 타입 :', type(area))"
   ]
  },
  {
   "cell_type": "markdown",
   "id": "6ffd11fb",
   "metadata": {},
   "source": [
    "## 1.2 변수(함수) 이름 규칙\n",
    "- 문자로 시작\n",
    "- 문자(특수문자는 _ 외에는 불가), 숫자, _로 변수명 작성\n",
    "- 함수명은 변수명으로 가능하나 피한다. 꼭 써야 한다면 str_식으로 사용한다\n",
    "- 파이썬 예약어(for, if,...)는 변수명 사용 불가\n",
    "- 한글 변수는 꼭 필요시에만 사용"
   ]
  },
  {
   "cell_type": "code",
   "execution_count": null,
   "id": "d8b1f9e2",
   "metadata": {},
   "outputs": [],
   "source": [
    "이름 = \"홍길동\" # 비추\n",
    "print(이름)"
   ]
  },
  {
   "cell_type": "code",
   "execution_count": null,
   "id": "9fb3dca9",
   "metadata": {},
   "outputs": [],
   "source": [
    "for = 5"
   ]
  },
  {
   "cell_type": "code",
   "execution_count": null,
   "id": "51922e1b",
   "metadata": {},
   "outputs": [],
   "source": [
    "# member.name = \"홍길동\"\n",
    "member_name = \"홍길동\"\n",
    "memberName = \"홍길동\"\n",
    "print(member_name, memberName)"
   ]
  },
  {
   "cell_type": "code",
   "execution_count": null,
   "id": "3038d0f3",
   "metadata": {},
   "outputs": [],
   "source": [
    "# 숫자 : 정수, 실수, 복소수\n",
    "i = 1 + 3j # 복소수\n",
    "print(type(i))"
   ]
  },
  {
   "cell_type": "code",
   "execution_count": null,
   "id": "146d8861",
   "metadata": {},
   "outputs": [],
   "source": [
    "isinstance(i, complex) # i변수가 complex 타입의 객체인지?"
   ]
  },
  {
   "cell_type": "code",
   "execution_count": null,
   "id": "06476b26",
   "metadata": {},
   "outputs": [],
   "source": [
    "isinstance(i, int) # i변수가 int타입의 객체인지?"
   ]
  },
  {
   "cell_type": "markdown",
   "id": "a720d34e",
   "metadata": {},
   "source": [
    "## 1.3 다중 변수 선언"
   ]
  },
  {
   "cell_type": "code",
   "execution_count": null,
   "id": "dece34c6",
   "metadata": {},
   "outputs": [],
   "source": [
    "a = 10\n",
    "b = 20"
   ]
  },
  {
   "cell_type": "code",
   "execution_count": null,
   "id": "9eff2370",
   "metadata": {},
   "outputs": [],
   "source": [
    "a, b = 10, 20\n",
    "print(a, b)"
   ]
  },
  {
   "cell_type": "code",
   "execution_count": null,
   "id": "c0d27eb0",
   "metadata": {},
   "outputs": [],
   "source": [
    "a, b = b, a+b   # 다중 변수 할당시 순차적 할당이 아니고, 일괄 동시 할당\n",
    "print(a, b)"
   ]
  },
  {
   "cell_type": "markdown",
   "id": "c9f5a15b",
   "metadata": {},
   "source": [
    "## 1.4 도움말"
   ]
  },
  {
   "cell_type": "code",
   "execution_count": null,
   "id": "be90e364",
   "metadata": {},
   "outputs": [],
   "source": [
    "help(print)"
   ]
  },
  {
   "cell_type": "code",
   "execution_count": null,
   "id": "8ac0748a",
   "metadata": {},
   "outputs": [],
   "source": [
    "help() # help빠져나오기 : q / 결과접기/펴기 : esc+o"
   ]
  },
  {
   "cell_type": "code",
   "execution_count": null,
   "id": "653ead35",
   "metadata": {},
   "outputs": [],
   "source": [
    "# 도움말 기능 : shift + tab 키\n",
    "print()"
   ]
  },
  {
   "cell_type": "code",
   "execution_count": null,
   "id": "fa5d05ce",
   "metadata": {},
   "outputs": [],
   "source": [
    "def add(x, y=0):\n",
    "    '''\n",
    "    매개변수(x, y) 2개를 받아 두자리 숫자로 만들는 함수\n",
    "    x = 10의 자리수가 되고\n",
    "    y = 1의 자리수가 됨(default값 0)\n",
    "    '''\n",
    "    return x*10 + y"
   ]
  },
  {
   "cell_type": "code",
   "execution_count": null,
   "id": "473a91d0",
   "metadata": {},
   "outputs": [],
   "source": [
    "add(3, y=4)"
   ]
  },
  {
   "cell_type": "code",
   "execution_count": null,
   "id": "18be2d55",
   "metadata": {},
   "outputs": [],
   "source": [
    "add(3)"
   ]
  },
  {
   "cell_type": "markdown",
   "id": "e8956a03",
   "metadata": {},
   "source": [
    "# 2절. 화면i/o"
   ]
  },
  {
   "cell_type": "code",
   "execution_count": null,
   "id": "99f68db0",
   "metadata": {},
   "outputs": [],
   "source": [
    "# input() : 사용자로부터 값을 입력받기 위한 함수. 입력값은 문자(str)로 받음\n",
    "first = input()\n",
    "print(first)"
   ]
  },
  {
   "cell_type": "code",
   "execution_count": null,
   "id": "5f95c94f",
   "metadata": {},
   "outputs": [],
   "source": [
    "first = input('첫번째 숫자는?')\n",
    "second = input('두번째 숫자는?')"
   ]
  },
  {
   "cell_type": "code",
   "execution_count": null,
   "id": "3337f62f",
   "metadata": {},
   "outputs": [],
   "source": [
    "print('두수의 합은', first+second)"
   ]
  },
  {
   "cell_type": "code",
   "execution_count": null,
   "id": "7a39eded",
   "metadata": {},
   "outputs": [],
   "source": [
    "first = int(input('첫번째 숫자는?'))\n",
    "second = int(input('두번째 숫자는?'))"
   ]
  },
  {
   "cell_type": "code",
   "execution_count": null,
   "id": "ba790781",
   "metadata": {},
   "outputs": [],
   "source": [
    "print('두수의 합은', first+second)"
   ]
  },
  {
   "cell_type": "code",
   "execution_count": null,
   "id": "c160e0fe",
   "metadata": {},
   "outputs": [],
   "source": [
    "print('first', first, 'second', second, sep=' - ', end='\\t')\n",
    "print('Hello', 'Python', sep=' ')"
   ]
  },
  {
   "cell_type": "markdown",
   "id": "062dc17e",
   "metadata": {},
   "source": [
    "### #3절.기본 자료형\n",
    "- 자료형 : 변수가 가져야 할 값의 형식. 자료형의 값의 크기와 저장방식이 달라짐\n",
    "- 자료형에 따라 수행 할 수 있는 명령어들이 달라짐\n",
    "\n",
    "        * `숫자` : int, float( 소수점 4.0),complex(허수부 j)\n",
    "        * `문자` : str(\"\",'')\n",
    "        * `논리` : bool(True/False)\n",
    "        \n",
    "##3.1 숫자형 \n",
    "    \n",
    "        "
   ]
  },
  {
   "cell_type": "code",
   "execution_count": null,
   "id": "9dd13189",
   "metadata": {},
   "outputs": [],
   "source": [
    "import sys\n",
    "print(sys.maxsize)# 정수의 최대값 : 2**63 - 1"
   ]
  },
  {
   "cell_type": "code",
   "execution_count": null,
   "id": "08d2ac34",
   "metadata": {},
   "outputs": [],
   "source": [
    "2**63 -1"
   ]
  },
  {
   "cell_type": "code",
   "execution_count": null,
   "id": "7ced6d86",
   "metadata": {},
   "outputs": [],
   "source": [
    "i = sys.maxsize + 1000000\n",
    "print(i)\n",
    "print(type(i))"
   ]
  },
  {
   "cell_type": "code",
   "execution_count": null,
   "id": "7338eb51",
   "metadata": {},
   "outputs": [],
   "source": [
    "# f =0.000000000000000000012\n",
    "f =1.2e-20 # 지수형 1.2*10의 -20승\n",
    "print(f)\n",
    "b = 1.2e20 # 지수형 1.2의 10의 20승\n",
    "print(b)"
   ]
  },
  {
   "cell_type": "code",
   "execution_count": null,
   "id": "4e85894e",
   "metadata": {},
   "outputs": [],
   "source": [
    "# 파이썬에서는 /의 결과는 무조건 실수\n",
    "f = 4/2 \n",
    "print('f=',f)"
   ]
  },
  {
   "cell_type": "code",
   "execution_count": null,
   "id": "7a8928c3",
   "metadata": {},
   "outputs": [],
   "source": [
    "#자바나 c, c++처럼 정수,정수 결과를 저수로\n",
    "f =int (3/2) #int() : int로 형변환(내림)\n",
    "print('f=',f)\n",
    "f =3//2 # 몫연산자\n",
    "print('f=',f)"
   ]
  },
  {
   "cell_type": "markdown",
   "id": "df2be73b",
   "metadata": {},
   "source": [
    "### ##3.2 문자형\n",
    "겹따옴표(\"~\")나 홑따옴표('-')이용\n"
   ]
  },
  {
   "cell_type": "code",
   "execution_count": null,
   "id": "31b0b8c2",
   "metadata": {},
   "outputs": [],
   "source": [
    "name ='홍길동\\'짱\\'' #홍길동'짱'\n",
    "name = \"홍길동'짱'\"\n",
    "address = '서울시 관악구 \"신림\"동' #서울시 관악구\"신림\"동\n",
    "print(name)"
   ]
  },
  {
   "cell_type": "code",
   "execution_count": null,
   "id": "17ad9a70",
   "metadata": {},
   "outputs": [],
   "source": [
    "# escape 문자(탈출문자) : \\n \\t\n",
    "text = '열러줄\\t짜리 내용을 저장\\n줄바꿈 문자를 쓰면 됨\\n줄바꿈'\n",
    "print(text)"
   ]
  },
  {
   "cell_type": "code",
   "execution_count": null,
   "id": "906a94a8",
   "metadata": {},
   "outputs": [],
   "source": [
    "test = '''\n",
    "여러줄\\t짜리 내용을 저장\n",
    "줄바꿈 문자를 쓰면 된\n",
    "줄바꿈\n",
    "'''\n",
    "print(text)"
   ]
  },
  {
   "cell_type": "markdown",
   "id": "26199590",
   "metadata": {},
   "source": [
    "### ※ 문자열 연산(+,*)"
   ]
  },
  {
   "cell_type": "code",
   "execution_count": null,
   "id": "21756230",
   "metadata": {},
   "outputs": [],
   "source": [
    "'''\n",
    "    여러 줄 주석 용도\n",
    "    2025.09.12 문자열 연산 by 아무개\n",
    "'''\n",
    "name1 = \"홍길동\"\n",
    "name2 = \"동해번쩍\"\n",
    "print(name1 + name2)\n",
    "print(name1, name2)"
   ]
  },
  {
   "cell_type": "code",
   "execution_count": null,
   "id": "b1024192",
   "metadata": {},
   "outputs": [],
   "source": [
    "print(name1 * 3)"
   ]
  },
  {
   "cell_type": "markdown",
   "id": "87b1ca31",
   "metadata": {},
   "source": [
    "### ※ raw데이터\n",
    "- 용도 :정규표현식 이용, 디렉토리 경로를 표현시 이용"
   ]
  },
  {
   "cell_type": "code",
   "execution_count": null,
   "id": "97e23272",
   "metadata": {},
   "outputs": [],
   "source": [
    "# raw데이터 : 데이터 처리시 이스케이프 문자(\\n,\\t,\\',\\\")를 그대로 저장\n",
    "print(r'Hello\\nWorld')"
   ]
  },
  {
   "cell_type": "code",
   "execution_count": null,
   "id": "25986f41",
   "metadata": {},
   "outputs": [],
   "source": [
    "정규표현식(regex)\n",
    "    1. 참조 : https://ko.wikipedia.org/wiki/%EC%A0%95%EA%B7%9C_%ED%91%9C%ED%98%84%EC%8B%9D 위키백과\n",
    "    2. 간략문법\n",
    "        \\d (숫자와 매치.[0-9]와 동일)\n",
    "        \\D (숫자가 아닌 것)\n",
    "        \\w (영문자나 숫자 [a-zA-Z0-9]와 동일)\n",
    "        \\W (영문자나 숫자가 아닌 문자)\n",
    "        .  (문자)\n",
    "        \\. (.)\n",
    "        \\- (-)\n",
    "        {2,} (2번 이상 반복)\n",
    "        {2, 4} (2~4회 반복)\n",
    "        ?      (0번이나 1번 의미)\n",
    "        +      (1번 이상 반복)\n",
    "        *      (0번 이상 반복)\n",
    "    3. 정규표현식 연습장    :https://regexr.com/\n",
    "           ex1. 전화번호 : 02 888 7777 / 028887777 / 010-9999-9999 / 010.9999.9999 / \n",
    "                          02)999-9999\n",
    "                          => 0\\d{1,2}[ \\-\\.)]?\\d{3,4}[ \\-\\.]?\\d{4}\n",
    "           ex2. 이메일 : abc12@naver.com / abc@sns.co.kr\n",
    "                       => \\w+@\\w+(\\.\\w+){1,2}\n",
    "           ex3. 주민번호 : 981212-1052525\n",
    "                        => \\d{2}(0[1-9]|1[0-2])(0[1-9]|[12]\\d|30|31)-[1-4]\\d{6}"
   ]
  },
  {
   "cell_type": "code",
   "execution_count": null,
   "id": "0800c16c",
   "metadata": {},
   "outputs": [],
   "source": [
    "import re\n",
    "data = \"이름:홍길동, 주소:서울, 전화:02-888-8888, \\\n",
    "핸드폰:010-9999-9999, 특징:동해번쩍 서해번쩍\\\n",
    "혈액형:Bㅋㅋ ㅋㅋzz\"\n",
    "print(data)"
   ]
  },
  {
   "cell_type": "code",
   "execution_count": null,
   "id": "58c99299",
   "metadata": {},
   "outputs": [],
   "source": [
    "# 정규표현식 처리에서는 raw데이터 처리를 하지 않아도 실행은 되나\n",
    "# 실수를 줄이고, 가독성을 높이는 용도르 raw 데이터 처리를 사용\n",
    "tel_pattern = r\"0\\d{1,2}[ \\-\\.)]?\\d{3,4}[ \\-\\.]?\\d{4}\"\n",
    "# 해당 패턴을 다 찾아줌. 없으면 빈 list\n",
    "tels = re.findall(tel_pattern, data) \n",
    "tels"
   ]
  },
  {
   "cell_type": "code",
   "execution_count": null,
   "id": "ba0674d7",
   "metadata": {},
   "outputs": [],
   "source": [
    "email_pattern = r\"\\w+@\\w+(\\.\\w+){1,2}\"\n",
    "emails = re.findall(email_pattern, data)\n",
    "emails"
   ]
  },
  {
   "cell_type": "code",
   "execution_count": null,
   "id": "5809dec7",
   "metadata": {},
   "outputs": [],
   "source": [
    "# 정규표현식 패턴과 처음 match되는 것을 찾아줘\n",
    "firstTel = re.search(tel_pattern, data)\n",
    "firstTel"
   ]
  },
  {
   "cell_type": "code",
   "execution_count": null,
   "id": "da0f0af7",
   "metadata": {
    "scrolled": true
   },
   "outputs": [],
   "source": [
    "print(data[18:29]) # 문자열 슬라이싱\n",
    "print(firstTel.group(0))"
   ]
  },
  {
   "cell_type": "code",
   "execution_count": null,
   "id": "9298500e",
   "metadata": {},
   "outputs": [],
   "source": [
    "tel_pattern = r\"(\\d{2,3})-(\\d{3,4})-(\\d{4})\"\n",
    "\n",
    "firstPhone = re.search(tel_pattern, data)\n",
    "firstPhone"
   ]
  },
  {
   "cell_type": "code",
   "execution_count": null,
   "id": "512b2e9f",
   "metadata": {},
   "outputs": [],
   "source": [
    "print('전체 전화번호 :', firstPhone.group(0))\n",
    "print('국번 :', firstPhone.group(1))\n",
    "print('중간번호 :', firstPhone.group(2))\n",
    "print('끝번호 :', firstPhone.group(3))"
   ]
  },
  {
   "cell_type": "code",
   "execution_count": null,
   "id": "6ad07b41",
   "metadata": {},
   "outputs": [],
   "source": [
    "# data에서 특정한 데이터 없애기\n",
    "re.sub(\"[^가-힣0-9A-Z\\s]\", '', data)"
   ]
  },
  {
   "cell_type": "code",
   "execution_count": null,
   "id": "7914c502",
   "metadata": {},
   "outputs": [],
   "source": [
    "# data에서 전화번호 없애기\n",
    "tel_pattern = r\"0\\d{1,2}[ \\-\\.)]?\\d{3,4}[ \\-\\.]?\\d{4}\"\n",
    "re.sub(tel_pattern, ' ', data)"
   ]
  },
  {
   "cell_type": "code",
   "execution_count": null,
   "id": "1ea137b6",
   "metadata": {},
   "outputs": [],
   "source": [
    "# 파일 경로\n",
    "file_path =\"C:\\\\ai\\\\source\\\\01_python\\\\data\\\\ch02.txt\"\n",
    "file_path =\"C:/ai/source/01_python/data/ch02.txt\"\n",
    "file_path =r\"C:\\ai\\source\\01_python\\data\\ch02.txt\"\n"
   ]
  },
  {
   "cell_type": "code",
   "execution_count": null,
   "id": "3eb76322",
   "metadata": {},
   "outputs": [],
   "source": [
    "file_stream = open(file_path, \"w\")\n",
    "print(\"Hello, Python.\", \"Hello, World\", sep=\"\")#화면출력\n",
    "print(\"Hello, Python.\", \"Hello, World\", sep=\"\\n\", file = file_stream )#파일출력\n",
    "file_stream.close()#클로즈하지 하지 않으면 저장 안됨"
   ]
  },
  {
   "cell_type": "markdown",
   "id": "0bea87e5",
   "metadata": {},
   "source": [
    "###※ 문자열 인덱싱 "
   ]
  },
  {
   "cell_type": "code",
   "execution_count": null,
   "id": "8482e97c",
   "metadata": {},
   "outputs": [],
   "source": [
    "str_ ='0123456789'\n",
    "str_"
   ]
  },
  {
   "cell_type": "code",
   "execution_count": null,
   "id": "9aa126ef",
   "metadata": {},
   "outputs": [],
   "source": [
    "str_[0],str_[2],str_[-1],str_[-3]# 음수인덱싱은 맨 마지막이 -1"
   ]
  },
  {
   "cell_type": "code",
   "execution_count": null,
   "id": "bf18e467",
   "metadata": {},
   "outputs": [],
   "source": [
    "str_[10]#없는 인덱싱은 에러"
   ]
  },
  {
   "cell_type": "markdown",
   "id": "51915ac5",
   "metadata": {},
   "source": [
    "###※ 문자열 슬라이싱"
   ]
  },
  {
   "cell_type": "code",
   "execution_count": null,
   "id": "e0f73a24",
   "metadata": {},
   "outputs": [],
   "source": [
    "'''\n",
    "문자열변수[from:to] : from 부터 to앞까지 추출\n",
    "문자열변수[from:to:step] : from부터 to앞까지 step씩 전진하면서 추출\n",
    "   from 생략시 처음부터\n",
    "   to   생략시 끝까지\n",
    "   step 생략시 1\n",
    "'''\n",
    "str_[0:3], str_[:3]# from 생략시 처음부터"
   ]
  },
  {
   "cell_type": "code",
   "execution_count": null,
   "id": "76d8dad2",
   "metadata": {},
   "outputs": [],
   "source": [
    "str_[2:6]"
   ]
  },
  {
   "cell_type": "code",
   "execution_count": null,
   "id": "2d83a5fa",
   "metadata": {},
   "outputs": [],
   "source": [
    "str_[0:10:2]"
   ]
  },
  {
   "cell_type": "code",
   "execution_count": null,
   "id": "b6a8ff8d",
   "metadata": {},
   "outputs": [],
   "source": [
    "str_[5:10], str_[5:] # to생략시 끝까지"
   ]
  },
  {
   "cell_type": "code",
   "execution_count": null,
   "id": "1c26ab6f",
   "metadata": {},
   "outputs": [],
   "source": [
    "str_[-5:-1] #-5번째 부터 -1번째 앞까지"
   ]
  },
  {
   "cell_type": "code",
   "execution_count": null,
   "id": "205b6b1d",
   "metadata": {},
   "outputs": [],
   "source": [
    "str_[9:0:-1]#9번째부터 0번째전까지 -1씩 전진 추출"
   ]
  },
  {
   "cell_type": "code",
   "execution_count": null,
   "id": "d5a9e364",
   "metadata": {},
   "outputs": [],
   "source": [
    "#quiz : 마지막글씨부터 처음글씨까지 거꾸로 출력 9876453210\n",
    "print(str_[::-1])\n",
    "print(str_[9::-1])\n",
    "print(str_[-1::-1])"
   ]
  },
  {
   "cell_type": "markdown",
   "id": "5db59bc6",
   "metadata": {},
   "source": [
    "###3.3 논리형(True/False)"
   ]
  },
  {
   "cell_type": "code",
   "execution_count": null,
   "id": "f032c485",
   "metadata": {},
   "outputs": [],
   "source": [
    "a = 10>5\n",
    "print(a)\n",
    "print(type(a))\n",
    "print(isinstance(a,bool))"
   ]
  },
  {
   "cell_type": "code",
   "execution_count": null,
   "id": "1cedf35c",
   "metadata": {},
   "outputs": [],
   "source": [
    "int(True), int(False)"
   ]
  },
  {
   "cell_type": "code",
   "execution_count": null,
   "id": "5a9f7df5",
   "metadata": {},
   "outputs": [],
   "source": [
    "bool(-1000), bool(0), bool(\"\")"
   ]
  },
  {
   "cell_type": "code",
   "execution_count": null,
   "id": "c419973b",
   "metadata": {},
   "outputs": [],
   "source": [
    "#False 로 간주되는 것  ; 0 \"\"(빈스트링),[](빈리스트) ,()-빈튜플, {}-빈딕셔너리, None\n",
    "#False로 반별되는 경우를 제외하고는 모두 True"
   ]
  },
  {
   "cell_type": "code",
   "execution_count": null,
   "id": "b6f43b18",
   "metadata": {},
   "outputs": [],
   "source": [
    "if None:\n",
    "    print(\"True\")\n",
    "else:\n",
    "    print('False')\n",
    "    "
   ]
  },
  {
   "cell_type": "code",
   "execution_count": 2,
   "id": "bbf991a3",
   "metadata": {},
   "outputs": [
    {
     "name": "stdout",
     "output_type": "stream",
     "text": [
      "이름은?아아아\n",
      "당신 이름은 아아아\n"
     ]
    }
   ],
   "source": [
    "name = input(\"이름은?\")\n",
    "if name: # name이 빈스트링이 아니면\n",
    "    print('당신 이름은', name)\n",
    "else:\n",
    "    print('이름을 입력 안 하셨군요')\n",
    "    "
   ]
  },
  {
   "cell_type": "markdown",
   "id": "0ac158c1",
   "metadata": {},
   "source": [
    "type(변수)\n",
    "isinstance(변수, 타입) : 변수가 해당 타입인지 여부\n",
    "float() : 실수형으로 변환\n",
    "int() : 정수형으로 변환\n",
    "str() : 문자형으로 변환\n",
    "bool() : 논리형으로 변환"
   ]
  },
  {
   "cell_type": "code",
   "execution_count": 6,
   "id": "87d1fa64",
   "metadata": {},
   "outputs": [
    {
     "data": {
      "text/plain": [
       "(4.0, 4.1, 4, 4, '4', '4.9')"
      ]
     },
     "execution_count": 6,
     "metadata": {},
     "output_type": "execute_result"
    }
   ],
   "source": [
    "float(4), float(\"4.1\"),int(4.9),int(\"4\"),str(4),str(4.9)"
   ]
  },
  {
   "cell_type": "code",
   "execution_count": 10,
   "id": "d4f021f0",
   "metadata": {},
   "outputs": [
    {
     "ename": "ValueError",
     "evalue": "invalid literal for int() with base 10: '9,000'",
     "output_type": "error",
     "traceback": [
      "\u001b[1;31m---------------------------------------------------------------------------\u001b[0m",
      "\u001b[1;31mValueError\u001b[0m                                Traceback (most recent call last)",
      "Cell \u001b[1;32mIn[10], line 3\u001b[0m\n\u001b[0;32m      1\u001b[0m \u001b[38;5;66;03m#에러나는 경우들\u001b[39;00m\n\u001b[0;32m      2\u001b[0m \u001b[38;5;66;03m#int(\"\"), int(\" \"), int(None), int(\"123.9\")\u001b[39;00m\n\u001b[1;32m----> 3\u001b[0m \u001b[38;5;28;43mint\u001b[39;49m\u001b[43m(\u001b[49m\u001b[38;5;124;43m\"\u001b[39;49m\u001b[38;5;124;43m9,000\u001b[39;49m\u001b[38;5;124;43m\"\u001b[39;49m\u001b[43m)\u001b[49m\n",
      "\u001b[1;31mValueError\u001b[0m: invalid literal for int() with base 10: '9,000'"
     ]
    }
   ],
   "source": [
    "#에러나는 경우들\n",
    "#int(\"\"), int(\" \"), int(None), int(\"123.9\"),int(\"5,000\")\n",
    "#float(\"\"),float(\" \"),"
   ]
  },
  {
   "cell_type": "markdown",
   "id": "4212b8c1",
   "metadata": {},
   "source": [
    "###4절.포맷팅\n",
    "-포맷팅이란 출력할 문자, 숫자,날짜 데이터의 형식을 지정하는 것\n",
    "##4.1 문자열에 형식 지정"
   ]
  },
  {
   "cell_type": "code",
   "execution_count": 13,
   "id": "ab6770a7",
   "metadata": {},
   "outputs": [
    {
     "name": "stdout",
     "output_type": "stream",
     "text": [
      "홍길동님의 나이는 30살입니다\n",
      "홍길동님의 나이는 30살입니다\n"
     ]
    }
   ],
   "source": [
    "name = \"홍길동\"\n",
    "age = 30\n",
    "print(name + '님의 나이는 '+ str(age) +  '살입니다')\n",
    "print(name , '님의 나이는 ', age ,  '살입니다',sep ='')"
   ]
  },
  {
   "cell_type": "code",
   "execution_count": 15,
   "id": "396fd5ec",
   "metadata": {},
   "outputs": [
    {
     "name": "stdout",
     "output_type": "stream",
     "text": [
      "홍길동님의 나이는 30살입니다.\n",
      "홍길동님의 나이는 30살입니다\n"
     ]
    }
   ],
   "source": [
    "# %s: 문자,%d : 10진수 ,  %f:실수\n",
    "print(\"%s님의 나이는 %d살입니다.\"%(name,age))\n",
    "print(f\"{name}님의 나이는 {age}살입니다\")"
   ]
  },
  {
   "cell_type": "code",
   "execution_count": null,
   "id": "c5f53a83",
   "metadata": {},
   "outputs": [],
   "source": [
    "print(\"{}님의 나이는 {}살입니다\".format(name,age))"
   ]
  },
  {
   "cell_type": "code",
   "execution_count": null,
   "id": "ccaaee88",
   "metadata": {},
   "outputs": [],
   "source": []
  },
  {
   "cell_type": "code",
   "execution_count": null,
   "id": "ef40eb02",
   "metadata": {},
   "outputs": [],
   "source": []
  },
  {
   "cell_type": "code",
   "execution_count": null,
   "id": "ce5df967",
   "metadata": {},
   "outputs": [],
   "source": []
  },
  {
   "cell_type": "code",
   "execution_count": null,
   "id": "ab333f84",
   "metadata": {},
   "outputs": [],
   "source": []
  },
  {
   "cell_type": "code",
   "execution_count": null,
   "id": "4e1506b2",
   "metadata": {},
   "outputs": [],
   "source": []
  },
  {
   "cell_type": "code",
   "execution_count": null,
   "id": "c0d7e798",
   "metadata": {},
   "outputs": [],
   "source": []
  },
  {
   "cell_type": "code",
   "execution_count": null,
   "id": "9f7c9cdd",
   "metadata": {},
   "outputs": [],
   "source": []
  },
  {
   "cell_type": "code",
   "execution_count": null,
   "id": "d128a274",
   "metadata": {},
   "outputs": [],
   "source": []
  },
  {
   "cell_type": "code",
   "execution_count": null,
   "id": "6eac6e10",
   "metadata": {},
   "outputs": [],
   "source": []
  },
  {
   "cell_type": "code",
   "execution_count": null,
   "id": "10970e1c",
   "metadata": {},
   "outputs": [],
   "source": []
  },
  {
   "cell_type": "code",
   "execution_count": null,
   "id": "d9f2a877",
   "metadata": {},
   "outputs": [],
   "source": []
  },
  {
   "cell_type": "code",
   "execution_count": null,
   "id": "b950ca6a",
   "metadata": {},
   "outputs": [],
   "source": []
  },
  {
   "cell_type": "code",
   "execution_count": null,
   "id": "d4ea3ddd",
   "metadata": {},
   "outputs": [],
   "source": []
  },
  {
   "cell_type": "code",
   "execution_count": null,
   "id": "5cc4a700",
   "metadata": {},
   "outputs": [],
   "source": []
  },
  {
   "cell_type": "code",
   "execution_count": null,
   "id": "37e969b1",
   "metadata": {},
   "outputs": [],
   "source": []
  },
  {
   "cell_type": "code",
   "execution_count": null,
   "id": "8af07748",
   "metadata": {},
   "outputs": [],
   "source": []
  },
  {
   "cell_type": "code",
   "execution_count": null,
   "id": "1311f5d4",
   "metadata": {},
   "outputs": [],
   "source": []
  },
  {
   "cell_type": "code",
   "execution_count": null,
   "id": "1f02dc9d",
   "metadata": {},
   "outputs": [],
   "source": []
  },
  {
   "cell_type": "code",
   "execution_count": null,
   "id": "155e7a44",
   "metadata": {},
   "outputs": [],
   "source": []
  },
  {
   "cell_type": "code",
   "execution_count": null,
   "id": "b2c0c51d",
   "metadata": {},
   "outputs": [],
   "source": []
  },
  {
   "cell_type": "code",
   "execution_count": null,
   "id": "c42d0206",
   "metadata": {},
   "outputs": [],
   "source": []
  },
  {
   "cell_type": "code",
   "execution_count": null,
   "id": "78a15dbd",
   "metadata": {},
   "outputs": [],
   "source": []
  },
  {
   "cell_type": "code",
   "execution_count": null,
   "id": "016a35f3",
   "metadata": {},
   "outputs": [],
   "source": []
  },
  {
   "cell_type": "code",
   "execution_count": null,
   "id": "730f6728",
   "metadata": {},
   "outputs": [],
   "source": []
  },
  {
   "cell_type": "code",
   "execution_count": null,
   "id": "a9459ad4",
   "metadata": {},
   "outputs": [],
   "source": []
  }
 ],
 "metadata": {
  "kernelspec": {
   "display_name": "Python 3 (ipykernel)",
   "language": "python",
   "name": "python3"
  },
  "language_info": {
   "codemirror_mode": {
    "name": "ipython",
    "version": 3
   },
   "file_extension": ".py",
   "mimetype": "text/x-python",
   "name": "python",
   "nbconvert_exporter": "python",
   "pygments_lexer": "ipython3",
   "version": "3.10.9"
  },
  "toc": {
   "base_numbering": 1,
   "nav_menu": {},
   "number_sections": false,
   "sideBar": true,
   "skip_h1_title": false,
   "title_cell": "Table of Contents",
   "title_sidebar": "Contents",
   "toc_cell": false,
   "toc_position": {
    "height": "calc(100% - 180px)",
    "left": "10px",
    "top": "150px",
    "width": "165px"
   },
   "toc_section_display": true,
   "toc_window_display": true
  }
 },
 "nbformat": 4,
 "nbformat_minor": 5
}
