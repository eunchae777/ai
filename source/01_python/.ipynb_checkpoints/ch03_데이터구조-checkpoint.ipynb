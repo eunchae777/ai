{
 "cells": [
  {
   "cell_type": "code",
   "execution_count": 199,
   "id": "acdd15a3",
   "metadata": {},
   "outputs": [
    {
     "data": {
      "text/html": [
       "\n",
       "<style>\n",
       "div.container{width:90% !important;}\n",
       "div.cell.code_cell.rendered{width:100%;}\n",
       "div.input_prompt{padding:0px;}\n",
       "div.CodeMirror {font-family:Consolas; font-size:12pt;}\n",
       "div.text_cell_render.rendered_html{font-size:12pt;}\n",
       "div.output {font-size:12pt; font-weight:bold;}\n",
       "div.input {font-family:Consolas; font-size:12pt;}\n",
       "div.prompt {min-width:70px;}\n",
       "div#toc-wrapper{padding-top:120px;}\n",
       "div.text_cell_render ul li{font-size:12pt;padding:5px;}\n",
       "table.dataframe{font-size:12px;}\n",
       "</style>\n"
      ],
      "text/plain": [
       "<IPython.core.display.HTML object>"
      ]
     },
     "metadata": {},
     "output_type": "display_data"
    }
   ],
   "source": [
    "from IPython.display import display, HTML\n",
    "display(HTML(\"\"\"\n",
    "<style>\n",
    "div.container{width:90% !important;}\n",
    "div.cell.code_cell.rendered{width:100%;}\n",
    "div.input_prompt{padding:0px;}\n",
    "div.CodeMirror {font-family:Consolas; font-size:12pt;}\n",
    "div.text_cell_render.rendered_html{font-size:12pt;}\n",
    "div.output {font-size:12pt; font-weight:bold;}\n",
    "div.input {font-family:Consolas; font-size:12pt;}\n",
    "div.prompt {min-width:70px;}\n",
    "div#toc-wrapper{padding-top:120px;}\n",
    "div.text_cell_render ul li{font-size:12pt;padding:5px;}\n",
    "table.dataframe{font-size:12px;}\n",
    "</style>\n",
    "\"\"\"))\n"
   ]
  },
  {
   "cell_type": "markdown",
   "id": "9df197e4",
   "metadata": {},
   "source": [
    "<b><font size=\"7\" color=\"red\">ch03. 데이터구조</font></b>\n",
    "- 리스트[80,20] 튜플(90,20),딕셔너리{\"name\":\"홍\",\"score\":50}, 셋{10,20}\n",
    "\n",
    "# 1절 리스트\n",
    "## 1.1 리스트 만들기\n",
    "- []를 이용해서 만들며, 여러개 값(여러 타입)을 하나의 변수에 저장/관리할 수 있음\n",
    "- list()함수 이용도 가능 \n",
    "- 인덱스 : 각 요소의 위치. 인덱스는 0부터 시작. 맨마지막 인덱스는 -1\n",
    "- 슬라이싱([from:to:step]) :  부분 데이터셋 추출\n",
    "- 인덱스와 슬라이싱을 이용해서 쓰기와 읽기 지원"
   ]
  },
  {
   "cell_type": "code",
   "execution_count": 200,
   "id": "3ef80f0c",
   "metadata": {},
   "outputs": [
    {
     "data": {
      "text/plain": [
       "list"
      ]
     },
     "execution_count": 200,
     "metadata": {},
     "output_type": "execute_result"
    }
   ],
   "source": [
    "fruit = 'banana'\n",
    "fruits = [ 'banana', 'apple','orange','grape']\n",
    "type(fruits)"
   ]
  },
  {
   "cell_type": "code",
   "execution_count": 201,
   "id": "ae58ceff",
   "metadata": {},
   "outputs": [
    {
     "name": "stdout",
     "output_type": "stream",
     "text": [
      "['banana', 'apple', 'orange', 'grape']\n",
      "grape\n"
     ]
    }
   ],
   "source": [
    "print(fruits)\n",
    "print(fruits[3]) # 인덱싱을 이용한 읽기 \n",
    "# print(fruits[4]) # 없는 인덱싱시 에러"
   ]
  },
  {
   "cell_type": "code",
   "execution_count": 202,
   "id": "7f6a61f9",
   "metadata": {},
   "outputs": [
    {
     "name": "stdout",
     "output_type": "stream",
     "text": [
      "['mango', 'apple', 'orange', 'grape']\n"
     ]
    }
   ],
   "source": [
    "fruits[0] = 'mango' # 인덱싱을 이용한 쓰기\n",
    "print(fruits)"
   ]
  },
  {
   "cell_type": "code",
   "execution_count": 203,
   "id": "bae17f00",
   "metadata": {},
   "outputs": [
    {
     "name": "stdout",
     "output_type": "stream",
     "text": [
      "x=mango\n",
      "y=apple\n",
      "y=orange\n"
     ]
    }
   ],
   "source": [
    "fruits = [\"mango\",\"apple\",\"orange\"]\n",
    "x,y,z =  [\"mango\",\"apple\",\"orange\"]\n",
    "print(\"x={}\".format(x))\n",
    "print(f\"y={y}\")\n",
    "print(f\"y={z}\")"
   ]
  },
  {
   "cell_type": "code",
   "execution_count": 204,
   "id": "63ee9f00",
   "metadata": {},
   "outputs": [
    {
     "data": {
      "text/plain": [
       "range(0, 10)"
      ]
     },
     "execution_count": 204,
     "metadata": {},
     "output_type": "execute_result"
    }
   ],
   "source": [
    "# range(from, to, by) : from부터 to 앞까지 by씩 증가하는 나열 가능한 자료\n",
    "        # 숫자를 순차적으로 사용할 수 있게\n",
    "        # from  생략시 0, by 생략시 1\n",
    "range(10) #[0,1,2,3,4,5,6,7,8,9]"
   ]
  },
  {
   "cell_type": "code",
   "execution_count": 205,
   "id": "a8756b94",
   "metadata": {},
   "outputs": [
    {
     "data": {
      "text/plain": [
       "[0, 1, 2, 3, 4, 5, 6, 7, 8, 9]"
      ]
     },
     "execution_count": 205,
     "metadata": {},
     "output_type": "execute_result"
    }
   ],
   "source": [
    "list(range(10))"
   ]
  },
  {
   "cell_type": "code",
   "execution_count": 206,
   "id": "74cd0526",
   "metadata": {},
   "outputs": [
    {
     "data": {
      "text/plain": [
       "[10, 8, 6, 4, 2, 0]"
      ]
     },
     "execution_count": 206,
     "metadata": {},
     "output_type": "execute_result"
    }
   ],
   "source": [
    "list(range(10, -1, -2))"
   ]
  },
  {
   "cell_type": "code",
   "execution_count": 207,
   "id": "92dd310e",
   "metadata": {},
   "outputs": [
    {
     "name": "stdout",
     "output_type": "stream",
     "text": [
      "0\n",
      "1\n",
      "2\n"
     ]
    }
   ],
   "source": [
    "for i  in [0,1,2]:\n",
    "    print(i)"
   ]
  },
  {
   "cell_type": "code",
   "execution_count": 208,
   "id": "0f9d6e81",
   "metadata": {},
   "outputs": [
    {
     "name": "stdout",
     "output_type": "stream",
     "text": [
      "0\n",
      "1\n",
      "2\n"
     ]
    }
   ],
   "source": [
    "for i  in range(3):\n",
    "    print(i)"
   ]
  },
  {
   "cell_type": "code",
   "execution_count": 209,
   "id": "2f68e802",
   "metadata": {},
   "outputs": [
    {
     "name": "stdout",
     "output_type": "stream",
     "text": [
      "0번째 과일은 mango\n",
      "1번째 과일은 apple\n",
      "2번째 과일은 orange\n"
     ]
    }
   ],
   "source": [
    "fruits =['mango', 'apple', 'orange']\n",
    "# print(\"{}번째 과일은 {}\".format(0,fruits[0]))\n",
    "# print(\"{}번째 과일은 {}\".format(1,fruits[1]))\n",
    "# print(\"{}번째 과일은 {}\".format(2,fruits[2]))\n",
    "for idx in range(len(fruits)):\n",
    "    print(\"{}번째 과일은 {}\".format(idx,fruits[idx] ))"
   ]
  },
  {
   "cell_type": "code",
   "execution_count": 210,
   "id": "938740a8",
   "metadata": {},
   "outputs": [
    {
     "data": {
      "text/plain": [
       "[(0, 'mango'), (1, 'apple'), (2, 'orange')]"
      ]
     },
     "execution_count": 210,
     "metadata": {},
     "output_type": "execute_result"
    }
   ],
   "source": [
    "list(enumerate(fruits))"
   ]
  },
  {
   "cell_type": "code",
   "execution_count": 211,
   "id": "e58353bf",
   "metadata": {},
   "outputs": [
    {
     "name": "stdout",
     "output_type": "stream",
     "text": [
      "0번째 과일은mango\n",
      "1번째 과일은apple\n",
      "2번째 과일은orange\n"
     ]
    }
   ],
   "source": [
    "for i,fruits in enumerate(fruits) : #[(0, 'mango'), (1, 'apple'), (2, 'orange')]:\n",
    "    print(f\"{i}번째 과일은{fruits}\")\n",
    "    "
   ]
  },
  {
   "cell_type": "code",
   "execution_count": 212,
   "id": "dab8ac42",
   "metadata": {},
   "outputs": [
    {
     "name": "stdout",
     "output_type": "stream",
     "text": [
      "o입니다\n",
      "r입니다\n",
      "a입니다\n",
      "n입니다\n",
      "g입니다\n",
      "e입니다\n"
     ]
    }
   ],
   "source": [
    "for fruit in fruits: # ['mango','apple','orange']\n",
    "    print(f\"{fruit}입니다\")"
   ]
  },
  {
   "cell_type": "code",
   "execution_count": 213,
   "id": "1727c22e",
   "metadata": {},
   "outputs": [
    {
     "data": {
      "text/plain": [
       "('2', 5)"
      ]
     },
     "execution_count": 213,
     "metadata": {},
     "output_type": "execute_result"
    }
   ],
   "source": [
    "#리스트트 여러 타입의 데이터를 담을 수 있음\n",
    "numbers = [0, True, \"2\", [2,3],[4,5,6]]\n",
    "numbers[2],numbers[4][1]"
   ]
  },
  {
   "cell_type": "code",
   "execution_count": 214,
   "id": "67ef5b15",
   "metadata": {},
   "outputs": [
    {
     "name": "stdout",
     "output_type": "stream",
     "text": [
      "[[1, 2, 3, 4, 5], [10, 20, 30, 40, 50], [1, 3, 5, 7, 9], [2, 4, 6, 8, 10]]\n"
     ]
    }
   ],
   "source": [
    "# 2차원 리스트\n",
    "numbers = [1,2,3,4,5]\n",
    "            # 0열,1열,2열,3열,4열\n",
    "numbers_2d = [[1,2,3,4,5], # 0행\n",
    "              [10,20,30,40,50], # 1행\n",
    "              [1,3,5,7,9], # 2행\n",
    "              [2,4,6,8,10]]# 3행\n",
    "\n",
    "print(numbers_2d)"
   ]
  },
  {
   "cell_type": "code",
   "execution_count": 215,
   "id": "71514661",
   "metadata": {},
   "outputs": [
    {
     "data": {
      "text/plain": [
       "50"
      ]
     },
     "execution_count": 215,
     "metadata": {},
     "output_type": "execute_result"
    }
   ],
   "source": [
    "# 특정행,특정열 데이터 인덱싱 \n",
    "numbers_2d[1][4]\n"
   ]
  },
  {
   "cell_type": "code",
   "execution_count": 216,
   "id": "e7dcc249",
   "metadata": {},
   "outputs": [
    {
     "name": "stdout",
     "output_type": "stream",
     "text": [
      "4 5\n"
     ]
    }
   ],
   "source": [
    "print(len(numbers_2d), len(numbers_2d[0]))"
   ]
  },
  {
   "cell_type": "code",
   "execution_count": 217,
   "id": "6028e3f4",
   "metadata": {},
   "outputs": [
    {
     "name": "stdout",
     "output_type": "stream",
     "text": [
      "1\t2\t3\t4\t5\t\n",
      "10\t20\t30\t40\t50\t\n",
      "1\t3\t5\t7\t9\t\n",
      "2\t4\t6\t8\t10\t\n"
     ]
    }
   ],
   "source": [
    "for row in numbers_2d: \n",
    "    for item in row:\n",
    "        print(item, end='\\t')\n",
    "    print()    "
   ]
  },
  {
   "cell_type": "code",
   "execution_count": 218,
   "id": "889512ac",
   "metadata": {},
   "outputs": [
    {
     "name": "stdout",
     "output_type": "stream",
     "text": [
      "0행0열 : 1\t0행1열 : 2\t0행2열 : 3\t0행3열 : 4\t0행4열 : 5\t\n",
      "1행0열 : 10\t1행1열 : 20\t1행2열 : 30\t1행3열 : 40\t1행4열 : 50\t\n",
      "2행0열 : 1\t2행1열 : 3\t2행2열 : 5\t2행3열 : 7\t2행4열 : 9\t\n",
      "3행0열 : 2\t3행1열 : 4\t3행2열 : 6\t3행3열 : 8\t3행4열 : 10\t\n"
     ]
    }
   ],
   "source": [
    "for i in range(len(numbers_2d)): # i : 행\n",
    "    for j in range(len(numbers_2d[i])): # j:열\n",
    "        print(f\"{i}행{j}열 : {numbers_2d[i][j]}\", end=\"\\t\")\n",
    "    print() # 개행"
   ]
  },
  {
   "cell_type": "code",
   "execution_count": 219,
   "id": "66df73d2",
   "metadata": {},
   "outputs": [
    {
     "data": {
      "text/plain": [
       "(4, 5, 5, 5)"
      ]
     },
     "execution_count": 219,
     "metadata": {},
     "output_type": "execute_result"
    }
   ],
   "source": [
    "len(numbers_2d), len(numbers_2d[0]),len(numbers_2d[1]),len(numbers_2d[2])"
   ]
  },
  {
   "cell_type": "code",
   "execution_count": 220,
   "id": "d0dbdb77",
   "metadata": {},
   "outputs": [
    {
     "data": {
      "text/plain": [
       "([(0, [1, 2, 3, 4, 5]),\n",
       "  (1, [10, 20, 30, 40, 50]),\n",
       "  (2, [1, 3, 5, 7, 9]),\n",
       "  (3, [2, 4, 6, 8, 10])],\n",
       " [(0, 1), (1, 2), (2, 3), (3, 4), (4, 5)])"
      ]
     },
     "execution_count": 220,
     "metadata": {},
     "output_type": "execute_result"
    }
   ],
   "source": [
    "list(enumerate(numbers_2d)),list(enumerate(numbers_2d[0]))"
   ]
  },
  {
   "cell_type": "code",
   "execution_count": 221,
   "id": "541ca989",
   "metadata": {},
   "outputs": [
    {
     "name": "stdout",
     "output_type": "stream",
     "text": [
      "0행0열 : 1\t0행1열 : 2\t0행2열 : 3\t0행3열 : 4\t0행4열 : 5\t\n",
      "1행0열 : 10\t1행1열 : 20\t1행2열 : 30\t1행3열 : 40\t1행4열 : 50\t\n",
      "2행0열 : 1\t2행1열 : 3\t2행2열 : 5\t2행3열 : 7\t2행4열 : 9\t\n",
      "3행0열 : 2\t3행1열 : 4\t3행2열 : 6\t3행3열 : 8\t3행4열 : 10\t\n"
     ]
    }
   ],
   "source": [
    "for i,row in enumerate(numbers_2d):\n",
    "    for j, item in enumerate(numbers_2d[i]):\n",
    "        print(\"{}행{}열 : {}\".format(i, j, numbers_2d[i][j]), end=\"\\t\")\n",
    "    print() # 개행                                                   "
   ]
  },
  {
   "cell_type": "markdown",
   "id": "1c1a843a",
   "metadata": {},
   "source": [
    "## 1.2 기본정보 조회"
   ]
  },
  {
   "cell_type": "code",
   "execution_count": 222,
   "id": "38d5a8b8",
   "metadata": {},
   "outputs": [],
   "source": [
    "numbers = [1,12,3,4,5]\n",
    "numbers_2d = [[100,0,1],\n",
    "              [9,100,100],\n",
    "              [59,100,130]]"
   ]
  },
  {
   "cell_type": "code",
   "execution_count": 223,
   "id": "e5957bf7",
   "metadata": {},
   "outputs": [
    {
     "data": {
      "text/plain": [
       "(5, 3)"
      ]
     },
     "execution_count": 223,
     "metadata": {},
     "output_type": "execute_result"
    }
   ],
   "source": [
    "# item 수\n",
    "len(numbers), len(numbers_2d)"
   ]
  },
  {
   "cell_type": "code",
   "execution_count": 224,
   "id": "6da610bd",
   "metadata": {},
   "outputs": [
    {
     "data": {
      "text/plain": [
       "(1, [9, 100, 100], 12, [100, 0, 1])"
      ]
     },
     "execution_count": 224,
     "metadata": {},
     "output_type": "execute_result"
    }
   ],
   "source": [
    "#  최소값, 최대값\n",
    "# 2차원 list 의 최소/최대값 :  부분리스트 중 첫요소가 가장 작은값/큰값\n",
    "min(numbers), min(numbers_2d), max(numbers), max(numbers_2d)"
   ]
  },
  {
   "cell_type": "code",
   "execution_count": 225,
   "id": "def1b817",
   "metadata": {},
   "outputs": [
    {
     "data": {
      "text/plain": [
       "('apple', 'orange')"
      ]
     },
     "execution_count": 225,
     "metadata": {},
     "output_type": "execute_result"
    }
   ],
   "source": [
    "# list의 데이터가 문자일 경우 ascii 코드값으로 min과 max적용\n",
    "fruits = ['mango', 'apple', 'orange']\n",
    "min(fruits),max(fruits)"
   ]
  },
  {
   "cell_type": "code",
   "execution_count": 226,
   "id": "8cea3f1e",
   "metadata": {},
   "outputs": [
    {
     "name": "stdout",
     "output_type": "stream",
     "text": [
      "오름차순 정렬 : [1, 3, 4, 5, 12]\n",
      "내림차순 정렬 : [12, 5, 4, 3, 1]\n",
      "합 : 25\n",
      "평균 : 5.0\n",
      "sorted 함수 사용시 리스트의 내용이 바뀌지 않음 : [1, 12, 3, 4, 5]\n"
     ]
    }
   ],
   "source": [
    "# 정렬하기\n",
    "numbers = [1,12,3,4,5]\n",
    "print(\"오름차순 정렬 :\", sorted(numbers))\n",
    "print(\"내림차순 정렬 :\", sorted(numbers, reverse= True))\n",
    "print(\"합 :\", sum(numbers))\n",
    "print(\"평균 :\", sum(numbers)/len(numbers))\n",
    "print(\"sorted 함수 사용시 리스트의 내용이 바뀌지 않음 :\", numbers)"
   ]
  },
  {
   "cell_type": "markdown",
   "id": "1e034a4c",
   "metadata": {},
   "source": [
    "## 1.3 요소추가\n",
    "- `+` : 두 리스트 연결\n",
    "- `*` : 리스트 곱한 수 만큼 반복\n",
    "- `append()` : 요소 맨 뒤에 추가\n",
    "- `extend(리스트)` :  리스트를 요소별로 맨 뒤에 추가\n",
    "- `insert(idx, 값)` : idx번째 인덱스 위치에 값 추가"
   ]
  },
  {
   "cell_type": "code",
   "execution_count": 227,
   "id": "46dba74a",
   "metadata": {},
   "outputs": [
    {
     "data": {
      "text/plain": [
       "[1, 2, 3, 1, 2, 3]"
      ]
     },
     "execution_count": 227,
     "metadata": {},
     "output_type": "execute_result"
    }
   ],
   "source": [
    "numbers = [1, 2, 3]\n",
    "numbers = numbers + numbers # 리스트 연결\n",
    "numbers"
   ]
  },
  {
   "cell_type": "code",
   "execution_count": 228,
   "id": "34c31dcb",
   "metadata": {},
   "outputs": [
    {
     "name": "stdout",
     "output_type": "stream",
     "text": [
      "[1, 2, 3, 1, 2, 3, 1, 2, 3]\n",
      "[1, 2, 3, 1, 2, 3, 1, 2, 3]\n"
     ]
    }
   ],
   "source": [
    "numbers = [1, 2, 3]\n",
    "print(numbers*3) # 곱한 수만큼 반복\n",
    "print(3*numbers)"
   ]
  },
  {
   "cell_type": "code",
   "execution_count": 229,
   "id": "695fd8f4",
   "metadata": {},
   "outputs": [
    {
     "data": {
      "text/plain": [
       "[1, 2, 3, 4]"
      ]
     },
     "execution_count": 229,
     "metadata": {},
     "output_type": "execute_result"
    }
   ],
   "source": [
    "numbers.append(4) # 맨 뒤에 4추가\n",
    "numbers"
   ]
  },
  {
   "cell_type": "code",
   "execution_count": 230,
   "id": "6a6390db",
   "metadata": {},
   "outputs": [
    {
     "data": {
      "text/plain": [
       "[1, 2, 3, 4, [5, 6, 7]]"
      ]
     },
     "execution_count": 230,
     "metadata": {},
     "output_type": "execute_result"
    }
   ],
   "source": [
    "numbers.append ([5, 6, 7]) # 맨 뒤 요소에 [5,6,7] 추가\n",
    "numbers"
   ]
  },
  {
   "cell_type": "code",
   "execution_count": 231,
   "id": "d38c5f98",
   "metadata": {},
   "outputs": [
    {
     "data": {
      "text/plain": [
       "[1, 2, 3, 4, 5, 6]"
      ]
     },
     "execution_count": 231,
     "metadata": {},
     "output_type": "execute_result"
    }
   ],
   "source": [
    "numbers = [1, 2, 3]\n",
    "numbers.extend ([4, 5, 6])# 맨 뒤에 요소별로 [4,5,6] 각각 추가\n",
    "numbers"
   ]
  },
  {
   "cell_type": "code",
   "execution_count": 232,
   "id": "b8f2c20c",
   "metadata": {},
   "outputs": [
    {
     "data": {
      "text/plain": [
       "['a', 'b', 'c', 'd']"
      ]
     },
     "execution_count": 232,
     "metadata": {},
     "output_type": "execute_result"
    }
   ],
   "source": [
    "lst = ['a','b','c']\n",
    "lst.append('d')\n",
    "lst"
   ]
  },
  {
   "cell_type": "code",
   "execution_count": 233,
   "id": "4e530d23",
   "metadata": {},
   "outputs": [
    {
     "data": {
      "text/plain": [
       "['a', 'b', 'c', 'd', 'hello']"
      ]
     },
     "execution_count": 233,
     "metadata": {},
     "output_type": "execute_result"
    }
   ],
   "source": [
    "lst.append('hello')\n",
    "lst"
   ]
  },
  {
   "cell_type": "code",
   "execution_count": 234,
   "id": "13a14d08",
   "metadata": {},
   "outputs": [
    {
     "data": {
      "text/plain": [
       "['a', 'b', 'c', 'd', 'hello', 'h', 'e', 'l', 'l', 'o']"
      ]
     },
     "execution_count": 234,
     "metadata": {},
     "output_type": "execute_result"
    }
   ],
   "source": [
    "lst.extend('hello')\n",
    "lst"
   ]
  },
  {
   "cell_type": "code",
   "execution_count": 235,
   "id": "37cdccf9",
   "metadata": {},
   "outputs": [
    {
     "data": {
      "text/plain": [
       "[1, 'xx', 2, 3, 4, 5]"
      ]
     },
     "execution_count": 235,
     "metadata": {},
     "output_type": "execute_result"
    }
   ],
   "source": [
    "numbers = [1,2,3,4,5]\n",
    "numbers.insert(1,'xx')# 1번째 인덱스에 'xx' 추가\n",
    "numbers"
   ]
  },
  {
   "cell_type": "markdown",
   "id": "3356ae20",
   "metadata": {},
   "source": [
    "## 1.4 인덱싱과 요소 갯수\n",
    "- list변수[index] : 인덱스를 이용한 접근\n",
    "- index(찾을데이터) : 해당 찾을 데이터가 있는 요소의 index를 반환\n",
    "- 찾을데이터 in list변수 : 찾을 데이터가 리스트변수의 요소인지 여부\n",
    "- count(찾을데이터) : 리스트에서 해당 찾을데이터의 갯수 반환"
   ]
  },
  {
   "cell_type": "code",
   "execution_count": 236,
   "id": "8fdf6dbb",
   "metadata": {},
   "outputs": [
    {
     "data": {
      "text/plain": [
       "(2, 1)"
      ]
     },
     "execution_count": 236,
     "metadata": {},
     "output_type": "execute_result"
    }
   ],
   "source": [
    "numbers = [1,2,3,[1,2,3],1,2,3]\n",
    "numbers.count(2),numbers.count([1,2,3])"
   ]
  },
  {
   "cell_type": "code",
   "execution_count": 237,
   "id": "e4636bd4",
   "metadata": {},
   "outputs": [
    {
     "data": {
      "text/plain": [
       "0"
      ]
     },
     "execution_count": 237,
     "metadata": {},
     "output_type": "execute_result"
    }
   ],
   "source": [
    "numbers.count(5)"
   ]
  },
  {
   "cell_type": "code",
   "execution_count": 238,
   "id": "bb789ddf",
   "metadata": {},
   "outputs": [
    {
     "name": "stdout",
     "output_type": "stream",
     "text": [
      "True\n",
      "False\n"
     ]
    }
   ],
   "source": [
    "print(2 in numbers) # 2가 numbers의 요소인지 여부\n",
    "print(5 in numbers)"
   ]
  },
  {
   "cell_type": "code",
   "execution_count": 239,
   "id": "5d97c855",
   "metadata": {},
   "outputs": [
    {
     "ename": "ValueError",
     "evalue": "5 is not in list",
     "output_type": "error",
     "traceback": [
      "\u001b[1;31m---------------------------------------------------------------------------\u001b[0m",
      "\u001b[1;31mValueError\u001b[0m                                Traceback (most recent call last)",
      "Cell \u001b[1;32mIn[239], line 1\u001b[0m\n\u001b[1;32m----> 1\u001b[0m \u001b[43mnumbers\u001b[49m\u001b[38;5;241;43m.\u001b[39;49m\u001b[43mindex\u001b[49m\u001b[43m(\u001b[49m\u001b[38;5;241;43m5\u001b[39;49m\u001b[43m)\u001b[49m\n",
      "\u001b[1;31mValueError\u001b[0m: 5 is not in list"
     ]
    }
   ],
   "source": [
    "numbers.index(5)"
   ]
  },
  {
   "cell_type": "code",
   "execution_count": 240,
   "id": "216c0f8c",
   "metadata": {},
   "outputs": [
    {
     "name": "stdout",
     "output_type": "stream",
     "text": [
      "5가 요소에 포함되지 않습니다\n"
     ]
    }
   ],
   "source": [
    "if 5 in numbers:\n",
    "    print(numbers.index(5))\n",
    "else:\n",
    "    print('5가 요소에 포함되지 않습니다')"
   ]
  },
  {
   "cell_type": "code",
   "execution_count": 241,
   "id": "73f1750d",
   "metadata": {},
   "outputs": [
    {
     "name": "stdout",
     "output_type": "stream",
     "text": [
      "5가 요소에 포함되지 않습니다\n"
     ]
    }
   ],
   "source": [
    "if numbers.count(5):\n",
    "    print(numbers.index(5))\n",
    "else:\n",
    "    print('5가 요소에 포함되지 않습니다')"
   ]
  },
  {
   "cell_type": "code",
   "execution_count": 242,
   "id": "67854352",
   "metadata": {},
   "outputs": [],
   "source": [
    "def safe_index(lst,item):\n",
    "    \"\"\"첫번째 매개변수 lst에서 item 요소가 있는 index를 반환. \n",
    "    item 요소가 없으면 -1 반환\"\"\"\n",
    "    if item in lst:\n",
    "        return lst.index(item)\n",
    "        return -1"
   ]
  },
  {
   "cell_type": "code",
   "execution_count": 243,
   "id": "14a1bdd1",
   "metadata": {},
   "outputs": [
    {
     "data": {
      "text/plain": [
       "(1, None)"
      ]
     },
     "execution_count": 243,
     "metadata": {},
     "output_type": "execute_result"
    }
   ],
   "source": [
    "from lst import safe_index # lst.py(모듈)안의 safe_index를 메모리에 load\n",
    "numbers = [1, 2, 3]\n",
    "safe_index(numbers, 2), safe_index(numbers, 5)"
   ]
  },
  {
   "cell_type": "code",
   "execution_count": 244,
   "id": "d7207e88",
   "metadata": {},
   "outputs": [
    {
     "ename": "IndexError",
     "evalue": "list index out of range",
     "output_type": "error",
     "traceback": [
      "\u001b[1;31m---------------------------------------------------------------------------\u001b[0m",
      "\u001b[1;31mIndexError\u001b[0m                                Traceback (most recent call last)",
      "Cell \u001b[1;32mIn[244], line 1\u001b[0m\n\u001b[1;32m----> 1\u001b[0m \u001b[43mnumbers\u001b[49m\u001b[43m[\u001b[49m\u001b[38;5;241;43m5\u001b[39;49m\u001b[43m]\u001b[49m\n",
      "\u001b[1;31mIndexError\u001b[0m: list index out of range"
     ]
    }
   ],
   "source": [
    "numbers[5] # 벗어난 인덱싱 시 에러"
   ]
  },
  {
   "cell_type": "code",
   "execution_count": 245,
   "id": "c0693c71",
   "metadata": {},
   "outputs": [
    {
     "data": {
      "text/plain": [
       "[3]"
      ]
     },
     "execution_count": 245,
     "metadata": {},
     "output_type": "execute_result"
    }
   ],
   "source": [
    "numbers[2:5] # 벗어난 인덱스로 슬라이싱 시 에러가 안 남"
   ]
  },
  {
   "cell_type": "markdown",
   "id": "9e481a06",
   "metadata": {},
   "source": [
    "## 1.5 원하는 요소 추출\n",
    "1.리스트 슬라이싱\n",
    "   -[from:to:step] from번째부터 to앞까지 step씩 증가하는 index값을 추출\n",
    "      * from 생략시 처음, to 생략시 끝, step생략시 1\n",
    "   - 인덱스의 범위를 벗어난 값도 에러나지 않은\n",
    "   - 인덱스는 음수 가능\n",
    "   \n",
    "2. **리스트컴프리헨션** : 원하는 조건의 데이터 추출   "
   ]
  },
  {
   "cell_type": "code",
   "execution_count": 246,
   "id": "6c961b9a",
   "metadata": {},
   "outputs": [
    {
     "name": "stdout",
     "output_type": "stream",
     "text": [
      "[20, 19, 18, 13, 12, 10, 9, 5, 3, 1]\n",
      "[1, 5, 10, 13, 19]\n",
      "[5, 9, 10, 12, 13, 18, 19, 20]\n"
     ]
    }
   ],
   "source": [
    "numbers =[1,3,5,9,10,12,13,18,19,20]\n",
    "print(numbers[::-1]) # 거꾸로 출력\n",
    "print(numbers[0::2]) # 짝수 index 값 출력\n",
    "print(numbers[2:100]) # 인덱스를 벗어난 슬라이싱 가능"
   ]
  },
  {
   "cell_type": "code",
   "execution_count": 247,
   "id": "18efe345",
   "metadata": {},
   "outputs": [
    {
     "data": {
      "text/plain": [
       "[1, 3, 5, 9, 10, 12, 13, 18, 19, 20]"
      ]
     },
     "execution_count": 247,
     "metadata": {},
     "output_type": "execute_result"
    }
   ],
   "source": [
    "# 모든 데이터 추출\n",
    "numbers =[1,3,5,9,10,12,13,18,19,20]\n",
    "# for data in numbers:\n",
    "#     print(data, end=\"\\t\")\n",
    "[data for data in numbers]"
   ]
  },
  {
   "cell_type": "code",
   "execution_count": 248,
   "id": "668c6ff8",
   "metadata": {},
   "outputs": [
    {
     "data": {
      "text/plain": [
       "[10, 12, 18, 20]"
      ]
     },
     "execution_count": 248,
     "metadata": {},
     "output_type": "execute_result"
    }
   ],
   "source": [
    "# 짝수 데이터 추출\n",
    "# for data in numbers:\n",
    "#     if data%2==0:\n",
    "#         print(data, end=\" \")\n",
    "[data for data in numbers if data%2==0]"
   ]
  },
  {
   "cell_type": "code",
   "execution_count": 249,
   "id": "9bcf47ae",
   "metadata": {},
   "outputs": [
    {
     "data": {
      "text/plain": [
       "[10, 12, 13, 18, 19, 20]"
      ]
     },
     "execution_count": 249,
     "metadata": {},
     "output_type": "execute_result"
    }
   ],
   "source": [
    "# ex1. numbers에서 10이상인 요소만 추출\n",
    "[item for item in numbers if item>=10]"
   ]
  },
  {
   "cell_type": "code",
   "execution_count": 250,
   "id": "86698531",
   "metadata": {},
   "outputs": [
    {
     "data": {
      "text/plain": [
       "['orange', 'apple', 'mango']"
      ]
     },
     "execution_count": 250,
     "metadata": {},
     "output_type": "execute_result"
    }
   ],
   "source": [
    "# ex2. fruits에서 과일의 글자가 5글자 이상인 과일만 추출\n",
    "fruits = ['orange', 'apple', 'mango', 'kiwi']\n",
    "[fruits for fruits in fruits if len(fruits)>=5]"
   ]
  },
  {
   "cell_type": "code",
   "execution_count": 251,
   "id": "62b001fe",
   "metadata": {},
   "outputs": [
    {
     "data": {
      "text/plain": [
       "[6, 5, 5, 4]"
      ]
     },
     "execution_count": 251,
     "metadata": {},
     "output_type": "execute_result"
    }
   ],
   "source": [
    "# ex2-1 fruits 리스트의 과일 글자수\n",
    "[len(fruit) for fruit in fruits]"
   ]
  },
  {
   "cell_type": "code",
   "execution_count": 252,
   "id": "6eab2a6e",
   "metadata": {},
   "outputs": [
    {
     "data": {
      "text/plain": [
       "[9, 16, 25]"
      ]
     },
     "execution_count": 252,
     "metadata": {},
     "output_type": "execute_result"
    }
   ],
   "source": [
    "# ex3. 3이상인 요소들의 제곱을 추출\n",
    "L = [1,2,3,4,5]\n",
    "[l**2 for l in L if l>=3]"
   ]
  },
  {
   "cell_type": "code",
   "execution_count": 253,
   "id": "e24355fa",
   "metadata": {},
   "outputs": [
    {
     "data": {
      "text/plain": [
       "[2, 4, 6, 8, 10]"
      ]
     },
     "execution_count": 253,
     "metadata": {},
     "output_type": "execute_result"
    }
   ],
   "source": [
    "# ex4. 리스트(L) 요소의 값의 2배를 추출\n",
    "[l*2 for l in L]"
   ]
  },
  {
   "cell_type": "markdown",
   "id": "37706120",
   "metadata": {},
   "source": [
    "## 1.6 요소 수정하기\n",
    "- 인덱스, 슬라이싱을 이용해서 수정\n"
   ]
  },
  {
   "cell_type": "code",
   "execution_count": 254,
   "id": "39454841",
   "metadata": {},
   "outputs": [
    {
     "data": {
      "text/plain": [
       "[0, 1, 222, 3, 4, 5, 6, 7, 8, 9]"
      ]
     },
     "execution_count": 254,
     "metadata": {},
     "output_type": "execute_result"
    }
   ],
   "source": [
    "numbers =[0,1,2,3,4,5,6,7,8,9]\n",
    "numbers[2] = 222\n",
    "numbers"
   ]
  },
  {
   "cell_type": "code",
   "execution_count": 255,
   "id": "f5bf41cb",
   "metadata": {},
   "outputs": [
    {
     "data": {
      "text/plain": [
       "['xx', 'xx', 'xx', 'xx', 'xx', 'xx', 'xx', 222, 3, 4, 5, 6, 7, 8, 9]"
      ]
     },
     "execution_count": 255,
     "metadata": {},
     "output_type": "execute_result"
    }
   ],
   "source": [
    "# 슬라이싱(step부분 미포함)을 이용하여 부분 리스트를 통째로 수정\n",
    "numbers[0:2] = ['xx','xx','xx','xx','xx','xx','xx']\n",
    "numbers"
   ]
  },
  {
   "cell_type": "code",
   "execution_count": 256,
   "id": "f05ac5fc",
   "metadata": {},
   "outputs": [
    {
     "name": "stdout",
     "output_type": "stream",
     "text": [
      "수정전 : [0, 0, 0, 0, 0, 0, 0, 0, 0, 0]\n",
      "수정후 : [9, 0, 9, 0, 9, 0, 9, 0, 9, 0]\n"
     ]
    }
   ],
   "source": [
    "# 슬라이싱 (step부분 포함)을 이용하여 부분 수정시 요소 갯수 맞아야 함\n",
    "numbers =[0]*10\n",
    "print('수정전 :', numbers)\n",
    "numbers[0::2] = [9,9,9,9,9]\n",
    "print('수정후 :',numbers)"
   ]
  },
  {
   "cell_type": "code",
   "execution_count": 257,
   "id": "f0904aac",
   "metadata": {},
   "outputs": [
    {
     "ename": "ValueError",
     "evalue": "attempt to assign sequence of size 2 to extended slice of size 5",
     "output_type": "error",
     "traceback": [
      "\u001b[1;31m---------------------------------------------------------------------------\u001b[0m",
      "\u001b[1;31mValueError\u001b[0m                                Traceback (most recent call last)",
      "Cell \u001b[1;32mIn[257], line 1\u001b[0m\n\u001b[1;32m----> 1\u001b[0m numbers[::\u001b[38;5;241m2\u001b[39m] \u001b[38;5;241m=\u001b[39m [\u001b[38;5;241m1\u001b[39m,\u001b[38;5;241m1\u001b[39m]\n",
      "\u001b[1;31mValueError\u001b[0m: attempt to assign sequence of size 2 to extended slice of size 5"
     ]
    }
   ],
   "source": [
    "numbers[::2] = [1,1]"
   ]
  },
  {
   "cell_type": "markdown",
   "id": "17825d7f",
   "metadata": {},
   "source": [
    "## 1.7 요소삭제\n",
    "- pop() : 가장 마지막 인덱스의 요소가 반환되고 삭제\n",
    "- pop(idx) : idx번째 요소가 반환되고 삭제\n",
    "- remove(data) : list안의 data가 삭제\n",
    "- dal 리스트변수[idx] : idx번째 요소가 삭제"
   ]
  },
  {
   "cell_type": "code",
   "execution_count": 258,
   "id": "315aea44",
   "metadata": {},
   "outputs": [
    {
     "name": "stdout",
     "output_type": "stream",
     "text": [
      "삭제한 데이터 : 5\n",
      "삭제 후 numbers : [1, 2, 3, 4]\n",
      "1번째 삭제한 데이터 : 2\n",
      "1번째 삭제 후 numbers : [1, 3, 4]\n",
      "데이터 1 삭제\n",
      "데이터 1 삭제 후 number : [3, 4]\n",
      "del numbers[1]\n",
      "[3]\n"
     ]
    }
   ],
   "source": [
    "numbers = [1,2,3,4,5]\n",
    "print(\"삭제한 데이터 :\", numbers.pop())\n",
    "print(\"삭제 후 numbers :\",numbers)\n",
    "print(\"1번째 삭제한 데이터 :\", numbers.pop(1))\n",
    "print(\"1번째 삭제 후 numbers :\",numbers)\n",
    "print(\"데이터 1 삭제\")\n",
    "numbers.remove(1)\n",
    "print(\"데이터 1 삭제 후 number :\",numbers)\n",
    "print(\"del numbers[1]\")\n",
    "del numbers[1]\n",
    "print(numbers)"
   ]
  },
  {
   "cell_type": "code",
   "execution_count": 259,
   "id": "202b4851",
   "metadata": {},
   "outputs": [
    {
     "name": "stdout",
     "output_type": "stream",
     "text": [
      "해당 데이터는 없는 item 입니다.\n"
     ]
    }
   ],
   "source": [
    "# numbers.remove(9)\n",
    "if 9 in numbers:\n",
    "    numbers.remove(9)\n",
    "else:\n",
    "    print(\"해당 데이터는 없는 item 입니다.\")"
   ]
  },
  {
   "cell_type": "code",
   "execution_count": 260,
   "id": "e345bb02",
   "metadata": {},
   "outputs": [
    {
     "data": {
      "text/plain": [
       "[]"
      ]
     },
     "execution_count": 260,
     "metadata": {},
     "output_type": "execute_result"
    }
   ],
   "source": [
    "numbers.clear() # 모든 요소를 삭제\n",
    "numbers"
   ]
  },
  {
   "cell_type": "markdown",
   "id": "0de75ea6",
   "metadata": {},
   "source": [
    "## 1.8 정렬하기"
   ]
  },
  {
   "cell_type": "code",
   "execution_count": 261,
   "id": "e5ab7115",
   "metadata": {},
   "outputs": [
    {
     "name": "stdout",
     "output_type": "stream",
     "text": [
      "numbers는 변경하지 않고, 정렬결과 : [0, 5, 6, 8, 9]\n",
      "numbers : [9, 5, 0, 8, 6]\n"
     ]
    }
   ],
   "source": [
    "numbers = [9, 5, 0, 8, 6]\n",
    "print(\"numbers는 변경하지 않고, 정렬결과 :\", sorted(numbers))\n",
    "print(\"numbers :\", numbers)"
   ]
  },
  {
   "cell_type": "code",
   "execution_count": 262,
   "id": "86411eb2",
   "metadata": {},
   "outputs": [
    {
     "data": {
      "text/plain": [
       "[0, 5, 6, 8, 9]"
      ]
     },
     "execution_count": 262,
     "metadata": {},
     "output_type": "execute_result"
    }
   ],
   "source": [
    "numbers.sort() # numbers 자체가 오름차순 정렬한 결과로 바꿈\n",
    "numbers"
   ]
  },
  {
   "cell_type": "code",
   "execution_count": 263,
   "id": "51195eae",
   "metadata": {},
   "outputs": [
    {
     "data": {
      "text/plain": [
       "[9, 8, 6, 5, 0]"
      ]
     },
     "execution_count": 263,
     "metadata": {},
     "output_type": "execute_result"
    }
   ],
   "source": [
    "numbers.sort(reverse=True) # numbers 자체가 내림차순 정렬한 결과로 바꿈\n",
    "numbers"
   ]
  },
  {
   "cell_type": "code",
   "execution_count": 264,
   "id": "eb2cdfc9",
   "metadata": {},
   "outputs": [
    {
     "data": {
      "text/plain": [
       "[0, 5, 6, 8, 9]"
      ]
     },
     "execution_count": 264,
     "metadata": {},
     "output_type": "execute_result"
    }
   ],
   "source": [
    "numbers.reverse() # 리스트를 역순으로 변경\n",
    "# numbers = numbers[::-1]\n",
    "numbers"
   ]
  },
  {
   "cell_type": "markdown",
   "id": "007b9df2",
   "metadata": {},
   "source": [
    "## 1.9 리스트 복제"
   ]
  },
  {
   "cell_type": "code",
   "execution_count": 265,
   "id": "ed033876",
   "metadata": {},
   "outputs": [
    {
     "name": "stdout",
     "output_type": "stream",
     "text": [
      "원본i = 10, 복사본cp_i=10 / 원본주소=2263697588752, 복사본주소=2263697588752\n",
      "원본i = 10, 복사본cp_i=99 / 원본주소=2263697588752, 복사본주소=2263697591600\n"
     ]
    }
   ],
   "source": [
    "# 스칼라 데이터의 복제\n",
    "i = 10\n",
    "cp_i = i\n",
    "print(f\"원본i = {i}, 복사본cp_i={cp_i} / 원본주소={id(i)}, 복사본주소={id(cp_i)}\")\n",
    "cp_i = 99\n",
    "print(f\"원본i = {i}, 복사본cp_i={cp_i} / 원본주소={id(i)}, 복사본주소={id(cp_i)}\")"
   ]
  },
  {
   "cell_type": "code",
   "execution_count": 266,
   "id": "bb55261c",
   "metadata": {},
   "outputs": [
    {
     "name": "stdout",
     "output_type": "stream",
     "text": [
      "원본주소 : 2263824857664\n",
      "복제본 주소 : 2263824857664\n",
      "원본 내용 : [99, 6, 1, 9]\n",
      "복제본 내용 : [99, 6, 1, 9]\n",
      "원본주소 : 2263824857664\n",
      "복제본 주소 : 2263824857664\n"
     ]
    }
   ],
   "source": [
    "# 데이터 구조의 할당\n",
    "numbers = [5, 6, 1, 9]\n",
    "new_numbers = numbers # 할당\n",
    "print('원본주소 :',id(numbers))\n",
    "print('복제본 주소 :',id(new_numbers))\n",
    "new_numbers[0] = 99\n",
    "print(\"원본 내용 :\",numbers)\n",
    "print(\"복제본 내용 :\",new_numbers)\n",
    "print('원본주소 :',id(numbers))\n",
    "print('복제본 주소 :',id(new_numbers))"
   ]
  },
  {
   "cell_type": "code",
   "execution_count": 267,
   "id": "3d18f7ff",
   "metadata": {},
   "outputs": [
    {
     "name": "stdout",
     "output_type": "stream",
     "text": [
      "원본 : [1, 5, 6, 9]\n",
      "복제본 : [1, 5, 6, 9]\n",
      "원본 주소 : 2263809932608\n",
      "복제본 주소 : 2263809932608\n"
     ]
    }
   ],
   "source": [
    "# 할당\n",
    "numbers = [5, 6, 1, 9]\n",
    "new_numbers = numbers\n",
    "new_numbers.sort()\n",
    "print(\"원본 :\", numbers)\n",
    "print(\"복제본 :\", new_numbers)\n",
    "print(\"원본 주소 :\", id(numbers))\n",
    "print(\"복제본 주소 :\", id(new_numbers))"
   ]
  },
  {
   "cell_type": "code",
   "execution_count": 268,
   "id": "502c23ab",
   "metadata": {},
   "outputs": [
    {
     "name": "stdout",
     "output_type": "stream",
     "text": [
      "원본 : [5, 6, 1, 9]\n",
      "복제본 : [9, 6, 5, 1]\n",
      "원본 : 2263824892224\n",
      "복제본 : 2263824857984\n"
     ]
    }
   ],
   "source": [
    "# 리스트 복제(깊은 복사)\n",
    "numbers = [5, 6, 1, 9]\n",
    "new_numbers = numbers.copy() # numbers를 복제 (깊은 복사)\n",
    "new_numbers.sort(reverse=True) # 내림차순 정렬\n",
    "print(\"원본 :\", numbers)\n",
    "print(\"복제본 :\", new_numbers)\n",
    "print(\"원본 :\", id(numbers))\n",
    "print(\"복제본 :\", id(new_numbers))"
   ]
  },
  {
   "cell_type": "code",
   "execution_count": 269,
   "id": "c7e910ef",
   "metadata": {
    "scrolled": true
   },
   "outputs": [
    {
     "name": "stdout",
     "output_type": "stream",
     "text": [
      "정렬전 : ['서울', '대전', '대구', '부산', '하남', '수원', '제주']\n",
      "정렬후 : ['대구', '대전', '부산', '서울', '수원', '제주', '하남']\n"
     ]
    }
   ],
   "source": [
    "city = ['서울', '대전', '대구', '부산', '하남', '수원', '제주']\n",
    "temp = city.copy()\n",
    "temp.sort()\n",
    "print(\"정렬전 :\", city)\n",
    "print(\"정렬후 :\", temp)"
   ]
  },
  {
   "cell_type": "code",
   "execution_count": 270,
   "id": "b54c73f7",
   "metadata": {},
   "outputs": [
    {
     "name": "stdout",
     "output_type": "stream",
     "text": [
      "정렬전 : ['서울', '대전', '대구', '부산', '하남', '수원', '제주']\n",
      "정렬후 : []\n"
     ]
    }
   ],
   "source": [
    "temp.clear()\n",
    "print(\"정렬전 :\", city)\n",
    "print(\"정렬후 :\", temp)"
   ]
  },
  {
   "cell_type": "markdown",
   "id": "f9205eaf",
   "metadata": {},
   "source": [
    "# 2절 튜플\n",
    "- 리스트([])와 유사하지만 읽기전용. 수정이 필요없는 데이터에서 사용\n",
    "- 수정이 불가하므로 , 튜플에서 데이터 수정, 추가, 삭제 불가\n",
    "- 제공되는 함수도 많지 않음\n",
    "- ()이용해서 생성, tuple() 함수 이용\n",
    "\n"
   ]
  },
  {
   "cell_type": "code",
   "execution_count": 271,
   "id": "6155947e",
   "metadata": {},
   "outputs": [
    {
     "name": "stdout",
     "output_type": "stream",
     "text": [
      "<class 'tuple'>\n",
      "('서울', '대전', '대구', '부산', '하남')\n"
     ]
    }
   ],
   "source": [
    "# city = ('서울', '대전', '대구', '부산', '하남')\n",
    "# 파이썬은 여러개의 갑시 전달될 때 튜플 타입으로 전달\n",
    "city = '서울', '대전', '대구', '부산', '하남'\n",
    "print(type(city))\n",
    "print(city)"
   ]
  },
  {
   "cell_type": "code",
   "execution_count": 272,
   "id": "7835b89a",
   "metadata": {},
   "outputs": [
    {
     "data": {
      "text/plain": [
       "'서울, 대전, 대구, 부산, 하남'"
      ]
     },
     "execution_count": 272,
     "metadata": {},
     "output_type": "execute_result"
    }
   ],
   "source": [
    "# 매게변수로 list 가 오는 함수는 tuple 매개변수로 함수 사용\n",
    "\", \".join(city)"
   ]
  },
  {
   "cell_type": "code",
   "execution_count": 273,
   "id": "d8aad4ba",
   "metadata": {},
   "outputs": [
    {
     "data": {
      "text/plain": [
       "1"
      ]
     },
     "execution_count": 273,
     "metadata": {},
     "output_type": "execute_result"
    }
   ],
   "source": [
    "from lst import safe_index\n",
    "safe_index(city,'대전')"
   ]
  },
  {
   "cell_type": "code",
   "execution_count": 274,
   "id": "f669aee1",
   "metadata": {},
   "outputs": [
    {
     "name": "stdout",
     "output_type": "stream",
     "text": [
      "<class 'list'>\n",
      "['서울']\n",
      "1\n"
     ]
    }
   ],
   "source": [
    "l = ['서울'] # 요소가 하나 있는 리스트\n",
    "print(type(l))\n",
    "print(l)\n",
    "print(len(l))"
   ]
  },
  {
   "cell_type": "code",
   "execution_count": 275,
   "id": "726b31f2",
   "metadata": {},
   "outputs": [
    {
     "name": "stdout",
     "output_type": "stream",
     "text": [
      "<class 'str'>\n",
      "서울\n",
      "2\n"
     ]
    }
   ],
   "source": [
    "city = ('서울') # 요소가 하나 있는 튜플(x) -> str\n",
    "print(type(city))\n",
    "print(city)\n",
    "print(len(city))\n"
   ]
  },
  {
   "cell_type": "code",
   "execution_count": 276,
   "id": "5c3ed2b9",
   "metadata": {},
   "outputs": [
    {
     "name": "stdout",
     "output_type": "stream",
     "text": [
      "<class 'tuple'>\n",
      "('서울',)\n",
      "1\n"
     ]
    }
   ],
   "source": [
    "city = ('서울', ) # 요소가 하나 있는 튜플(O)\n",
    "print(type(city))\n",
    "print(city)\n",
    "print(len(city))"
   ]
  },
  {
   "cell_type": "code",
   "execution_count": 277,
   "id": "f4ee7224",
   "metadata": {},
   "outputs": [],
   "source": [
    "numbers = (1, 2, 3)\n",
    "# numbers.append(4) 수정하기 위한 함수는 제공되지 않음"
   ]
  },
  {
   "cell_type": "code",
   "execution_count": 278,
   "id": "240f2732",
   "metadata": {},
   "outputs": [
    {
     "data": {
      "text/plain": [
       "(1, 3, 6)"
      ]
     },
     "execution_count": 278,
     "metadata": {},
     "output_type": "execute_result"
    }
   ],
   "source": [
    "min(numbers), max(numbers), sum(numbers)"
   ]
  },
  {
   "cell_type": "code",
   "execution_count": 279,
   "id": "2f58ab78",
   "metadata": {},
   "outputs": [
    {
     "data": {
      "text/plain": [
       "1"
      ]
     },
     "execution_count": 279,
     "metadata": {},
     "output_type": "execute_result"
    }
   ],
   "source": [
    "numbers.count(2)"
   ]
  },
  {
   "cell_type": "code",
   "execution_count": 280,
   "id": "31c2e753",
   "metadata": {},
   "outputs": [
    {
     "data": {
      "text/plain": [
       "2"
      ]
     },
     "execution_count": 280,
     "metadata": {},
     "output_type": "execute_result"
    }
   ],
   "source": [
    "numbers.index(3)\n"
   ]
  },
  {
   "cell_type": "code",
   "execution_count": 281,
   "id": "dd792055",
   "metadata": {},
   "outputs": [
    {
     "name": "stdout",
     "output_type": "stream",
     "text": [
      "해당 데이터 없음\n"
     ]
    }
   ],
   "source": [
    "# numbers.index(4)\n",
    "if 4 in numbers:\n",
    "    numbers.index(4)\n",
    "else:\n",
    "    print('해당 데이터 없음')"
   ]
  },
  {
   "cell_type": "code",
   "execution_count": 282,
   "id": "baa5cfd0",
   "metadata": {},
   "outputs": [],
   "source": [
    "from lst import safe_index\n",
    "safe_index(numbers, 4)"
   ]
  },
  {
   "cell_type": "code",
   "execution_count": 283,
   "id": "b57d13cb",
   "metadata": {},
   "outputs": [
    {
     "name": "stdout",
     "output_type": "stream",
     "text": [
      "데이터가 없습니다.\n"
     ]
    }
   ],
   "source": [
    "numbers = (1, 4, 3, 2)\n",
    "if 4 in  numbers[2:]:\n",
    "    numbers.index(4, 2) # index(찾을데이터, 찾기시작할index=0)\n",
    "else:\n",
    "    print('데이터가 없습니다.')"
   ]
  },
  {
   "cell_type": "code",
   "execution_count": 284,
   "id": "2e0a11a1",
   "metadata": {},
   "outputs": [],
   "source": [
    "def safe_index(lst, item, start=0):\n",
    "    \"\"\"\n",
    "    첫번째 매개변수 lst : 리스트, 튜플\n",
    "    두번째 매개변수 item : 리스트나 튜플에서 찾을 데이터\n",
    "    세번째 매개변수 start : 몇번째 index부터 찾을지 index 수(기본값:0)\n",
    "    \"\"\"\n",
    "    return lst.index(item, start) if item in lst[start:] else -1\n",
    "#     if item in lst:\n",
    "#         return lst.index(item, start) # start 번째부터 item 이 있는 index를 반환\n",
    "#     return -1"
   ]
  },
  {
   "cell_type": "code",
   "execution_count": 285,
   "id": "50533661",
   "metadata": {},
   "outputs": [
    {
     "data": {
      "text/plain": [
       "3"
      ]
     },
     "execution_count": 285,
     "metadata": {},
     "output_type": "execute_result"
    }
   ],
   "source": [
    "safe_index(numbers, 2, 2)"
   ]
  },
  {
   "cell_type": "code",
   "execution_count": 286,
   "id": "f20ba4c7",
   "metadata": {},
   "outputs": [
    {
     "data": {
      "text/plain": [
       "10"
      ]
     },
     "execution_count": 286,
     "metadata": {},
     "output_type": "execute_result"
    }
   ],
   "source": [
    "# 위의 if문을 조건식을 이용하여 한줄코드\n",
    "x, y = 10, 20\n",
    "def diff(x, y):\n",
    "     return x-y if x>y else y-x # if문이 참일때 값 if 조건 else if문이 거짓일때 값\n",
    "\n",
    "#     if x>y:\n",
    "#         return x-y\n",
    "#     else:\n",
    "#         return y-x\n",
    "diff(10, 20)    "
   ]
  },
  {
   "cell_type": "code",
   "execution_count": 287,
   "id": "4d90cbda",
   "metadata": {},
   "outputs": [
    {
     "name": "stdout",
     "output_type": "stream",
     "text": [
      "(1, 2, 3, 1, 2, 3)\n",
      "(1, 2, 3, 1, 2, 3, 1, 2, 3)\n",
      "(1, 2, 3, 1, 2, 3, 1, 2, 3)\n"
     ]
    }
   ],
   "source": [
    "numbers = (1, 2, 3)\n",
    "print(numbers + numbers) # 연결\n",
    "print(3 * numbers) # 반복\n",
    "print(numbers * 3) # 반복\n"
   ]
  },
  {
   "cell_type": "code",
   "execution_count": 288,
   "id": "9348d76e",
   "metadata": {},
   "outputs": [
    {
     "data": {
      "text/plain": [
       "(4, 16, 36)"
      ]
     },
     "execution_count": 288,
     "metadata": {},
     "output_type": "execute_result"
    }
   ],
   "source": [
    "# ex. 짝수 요소들을 추출하여 제곱한 데이터를 튜플로 출력하시오\n",
    "numbers = (11, 2, 3, 4, 5, 6)\n",
    "tuple(num**2 for num in numbers if num%2==0)"
   ]
  },
  {
   "cell_type": "markdown",
   "id": "05dbc3df",
   "metadata": {},
   "source": [
    "# 3절 딕셔너리\n",
    "- {}를 이용해서 키(key)-값(value)의 쌍르로 구성된 자료구조\n",
    "- 키는 유일한 값(중복 허용 안함).키에 list는 사용 불가. 키에 tuple은 사용 가능\n",
    "- 값은 중복 가능. 모든 데이터 타입 가능\n",
    "- 인덱스를 이용한 참조는 지원 안 함"
   ]
  },
  {
   "cell_type": "code",
   "execution_count": 289,
   "id": "42b67656",
   "metadata": {},
   "outputs": [
    {
     "name": "stdout",
     "output_type": "stream",
     "text": [
      "<class 'dict'>\n",
      "{'name': '홍길동', 1: 22, (1, 2): [1, 2]}\n"
     ]
    }
   ],
   "source": [
    "dic = {'name':'홍길동', 1:22, (1, 2):[1,2]}\n",
    "print(type(dic))\n",
    "print(dic)"
   ]
  },
  {
   "cell_type": "code",
   "execution_count": 290,
   "id": "b29f5c39",
   "metadata": {},
   "outputs": [
    {
     "data": {
      "text/plain": [
       "3"
      ]
     },
     "execution_count": 290,
     "metadata": {},
     "output_type": "execute_result"
    }
   ],
   "source": [
    "len(dic) # 데이터 요소의 갯수"
   ]
  },
  {
   "cell_type": "code",
   "execution_count": 291,
   "id": "8a74c10a",
   "metadata": {},
   "outputs": [
    {
     "data": {
      "text/plain": [
       "{'fruit': 'apple', 'number': 12, 'sport': 'yoga'}"
      ]
     },
     "execution_count": 291,
     "metadata": {},
     "output_type": "execute_result"
    }
   ],
   "source": [
    "my_favorite = {'fruit':'apple', 'number':12, 'sport':'yoga'}\n",
    "my_favorite"
   ]
  },
  {
   "cell_type": "code",
   "execution_count": 292,
   "id": "060fe0b6",
   "metadata": {},
   "outputs": [
    {
     "name": "stdout",
     "output_type": "stream",
     "text": [
      "12\n",
      "12\n"
     ]
    }
   ],
   "source": [
    "# 변수[키] / 변수.get(키)\n",
    "print(my_favorite['number'])\n",
    "print(my_favorite.get('number'))"
   ]
  },
  {
   "cell_type": "code",
   "execution_count": 293,
   "id": "85f0ab6d",
   "metadata": {},
   "outputs": [
    {
     "name": "stdout",
     "output_type": "stream",
     "text": [
      "None\n",
      "-\n"
     ]
    }
   ],
   "source": [
    "# print (my_favorit[people]) # 키 목록에 없는 데이터를 참조시 에러\n",
    "print(my_favorite.get('people')) # 없는 키를 get 함수로 참조시 None \n",
    "print(my_favorite.get('people', '-')) # 없는 키를 get 함수로 참조시 '-'"
   ]
  },
  {
   "cell_type": "markdown",
   "id": "597be712",
   "metadata": {},
   "source": [
    "# 딕셔너리에 item 수정, 추가, 삭제"
   ]
  },
  {
   "cell_type": "code",
   "execution_count": 294,
   "id": "0bfc6b89",
   "metadata": {},
   "outputs": [
    {
     "name": "stdout",
     "output_type": "stream",
     "text": [
      "people 추가후 : {'fruit': 'apple', 'number': 12, 'sport': 'yoga', 'people': '홍길동'}\n",
      "한꺼번에 추가후 : {'fruit': 'apple', 'number': 12, 'sport': 'yoga', 'people': '홍길동', 'subject': '수학', 'major': 'AI'}\n",
      "하나씩 수정 후 : {'fruit': 'mango', 'number': -9, 'sport': 'yoga', 'people': '홍길동', 'subject': '수학', 'major': 'AI'}\n",
      "한꺼번에 수정 후 : {'fruit': 'kiwi', 'number': -99, 'sport': 'yoga', 'people': '홍길동', 'subject': '수학', 'major': 'AI'}\n",
      "subject 키가 존재하지 않습니다\n",
      "del 제거(1) 후 : {'fruit': 'kiwi', 'number': -99, 'sport': 'yoga', 'people': '홍길동', 'major': 'AI'}\n",
      "제거한 데이터 : AI\n",
      "major 키가 존재하지 않습니다\n",
      "{'fruit': 'kiwi', 'number': -99, 'sport': 'yoga', 'people': '홍길동'}\n"
     ]
    }
   ],
   "source": [
    "my_favorite = {'fruit':'apple', 'number':12, 'sport':'yoga'}\n",
    "# 한 item씩 추가\n",
    "my_favorite['people'] = '홍길동'\n",
    "print('people 추가후 :', my_favorite)\n",
    "# 여러 item을 한꺼번에 추가\n",
    "my_favorite.update({'subject':'수학', 'major':'AI'})\n",
    "print('한꺼번에 추가후 :', my_favorite)\n",
    "\n",
    "# 한 item씩 수정\n",
    "my_favorite['fruit'] = 'mango'\n",
    "my_favorite['number'] = -9\n",
    "print('하나씩 수정 후 :', my_favorite)\n",
    "# 여러 item을 한꺼번 수정\n",
    "# my_favorite.update({'fruit':'kiwi', 'number':-99})\n",
    "my_favorite.update(fruit='kiwi', number=-99)\n",
    "print(\"한꺼번에 수정 후 :\", my_favorite)\n",
    "# item 제거(1)\n",
    "del my_favorite['subject'] # subject item 제거\n",
    "if 'subject' in my_favorite:\n",
    "    del my_favorite['subject']\n",
    "else:\n",
    "    print('subject 키가 존재하지 않습니다')\n",
    "print(\"del 제거(1) 후 :\", my_favorite)\n",
    "# item 제거(2)\n",
    "print('제거한 데이터 :', my_favorite.pop('major')) # major키 값을 반환하고 제거\n",
    "if 'major' in my_favorite:\n",
    "    print('제거한 데이터 :', my_favorite.pop('major'))\n",
    "else:\n",
    "    print('major 키가 존재하지 않습니다')\n",
    "print(my_favorite)"
   ]
  },
  {
   "cell_type": "code",
   "execution_count": 295,
   "id": "adb23c05",
   "metadata": {},
   "outputs": [],
   "source": [
    "# for 문을 이용한 튜플 출력\n",
    "my_tuple = ('홍길동', 30, '010-9999-9999')"
   ]
  },
  {
   "cell_type": "code",
   "execution_count": 296,
   "id": "8c2398cf",
   "metadata": {},
   "outputs": [
    {
     "name": "stdout",
     "output_type": "stream",
     "text": [
      "홍길동\t30\t010-9999-9999\t\n",
      "0번째 : 홍길동\t1번째 : 30\t2번째 : 010-9999-9999\t\n",
      "0번째 : 홍길동\t1번째 : 30\t2번째 : 010-9999-9999\t"
     ]
    }
   ],
   "source": [
    "for data in my_tuple:\n",
    "    print(data, end= '\\t')\n",
    "print() # 개행\n",
    "for idx in range(len(my_tuple)):\n",
    "    print(f\"{idx}번째 : {my_tuple[idx]}\", end=\"\\t\")\n",
    "print() # 개행\n",
    "for idx, data in enumerate(my_tuple):\n",
    "    print(f\"{idx}번째 : {data}\", end=\"\\t\")"
   ]
  },
  {
   "cell_type": "code",
   "execution_count": 297,
   "id": "cdad60b6",
   "metadata": {},
   "outputs": [],
   "source": [
    "my_dic = {'name':'홍길동', 'age':30, 'tel': '010-9999-9999'}"
   ]
  },
  {
   "cell_type": "code",
   "execution_count": 298,
   "id": "1cc3dbb1",
   "metadata": {},
   "outputs": [
    {
     "name": "stdout",
     "output_type": "stream",
     "text": [
      "name : 홍길동\tage : 30\ttel : 010-9999-9999\t"
     ]
    }
   ],
   "source": [
    "for key in my_dic: # 비추\n",
    "    print(\"{} : {}\".format(key, my_dic[key]), end=\"\\t\")"
   ]
  },
  {
   "cell_type": "code",
   "execution_count": 299,
   "id": "0306a1ce",
   "metadata": {},
   "outputs": [
    {
     "data": {
      "text/plain": [
       "dict_keys(['name', 'age', 'tel'])"
      ]
     },
     "execution_count": 299,
     "metadata": {},
     "output_type": "execute_result"
    }
   ],
   "source": [
    "my_dic.keys() # 키 목록"
   ]
  },
  {
   "cell_type": "code",
   "execution_count": 300,
   "id": "dafdfde0",
   "metadata": {},
   "outputs": [
    {
     "data": {
      "text/plain": [
       "dict_values(['홍길동', 30, '010-9999-9999'])"
      ]
     },
     "execution_count": 300,
     "metadata": {},
     "output_type": "execute_result"
    }
   ],
   "source": [
    "my_dic.values() # 값들 목록"
   ]
  },
  {
   "cell_type": "code",
   "execution_count": 301,
   "id": "6b84904b",
   "metadata": {},
   "outputs": [
    {
     "data": {
      "text/plain": [
       "dict_items([('name', '홍길동'), ('age', 30), ('tel', '010-9999-9999')])"
      ]
     },
     "execution_count": 301,
     "metadata": {},
     "output_type": "execute_result"
    }
   ],
   "source": [
    "my_dic.items() # 키-값 쌍 목록"
   ]
  },
  {
   "cell_type": "code",
   "execution_count": 302,
   "id": "cad90d71",
   "metadata": {},
   "outputs": [
    {
     "name": "stdout",
     "output_type": "stream",
     "text": [
      "name:홍길동\tage:30\ttel:010-9999-9999\t"
     ]
    }
   ],
   "source": [
    "for key, value in my_dic.items():\n",
    "    print(\"{}:{}\".format(key, value), end=\"\\t\")"
   ]
  },
  {
   "cell_type": "code",
   "execution_count": 303,
   "id": "e3717052",
   "metadata": {},
   "outputs": [
    {
     "name": "stdout",
     "output_type": "stream",
     "text": [
      "홍길동\t30\t010-9999-9999\t"
     ]
    }
   ],
   "source": [
    "for value in my_dic.values():\n",
    "    print(value, end=\"\\t\")"
   ]
  },
  {
   "cell_type": "markdown",
   "id": "4a0b24f8",
   "metadata": {},
   "source": [
    " # in연산자\n"
   ]
  },
  {
   "cell_type": "code",
   "execution_count": 304,
   "id": "6e00c8e3",
   "metadata": {},
   "outputs": [
    {
     "data": {
      "text/plain": [
       "True"
      ]
     },
     "execution_count": 304,
     "metadata": {},
     "output_type": "execute_result"
    }
   ],
   "source": [
    "# tuple, list, set\n",
    "t = (10, 20, 30)\n",
    "30 in t # list, tuple, set에서의 in연산자 : 요소(데이터, item)가 있는지 여부 반환"
   ]
  },
  {
   "cell_type": "code",
   "execution_count": 305,
   "id": "9dc5c920",
   "metadata": {},
   "outputs": [
    {
     "data": {
      "text/plain": [
       "False"
      ]
     },
     "execution_count": 305,
     "metadata": {},
     "output_type": "execute_result"
    }
   ],
   "source": [
    "# dictionary\n",
    "dic = {'name':'홍길동', 'age':30}\n",
    "'홍길동' in dic # dictionary에서의 in연산자 : key가 있는지 여부 반환"
   ]
  },
  {
   "cell_type": "code",
   "execution_count": 306,
   "id": "87f86066",
   "metadata": {},
   "outputs": [
    {
     "data": {
      "text/plain": [
       "True"
      ]
     },
     "execution_count": 306,
     "metadata": {},
     "output_type": "execute_result"
    }
   ],
   "source": [
    "'홍길동' in dic.values()"
   ]
  },
  {
   "cell_type": "markdown",
   "id": "980529b1",
   "metadata": {},
   "source": [
    "# 복제하기"
   ]
  },
  {
   "cell_type": "code",
   "execution_count": 307,
   "id": "8bf89df9",
   "metadata": {},
   "outputs": [
    {
     "name": "stdout",
     "output_type": "stream",
     "text": [
      "my_favorite 주소 : 2263824756736\n",
      "my_favorite 주소 : 2263801372544\n",
      "원본 : {'fruit': 'apple', 'number': 12}\n",
      "수정본 : {'fruit': '과일은 다 좋아', 'number': 12, 'people': '홍길동'}\n"
     ]
    }
   ],
   "source": [
    "my_favorite = {'fruit':'apple','number':12}\n",
    "new_favorite =my_favorite.copy()\n",
    "print('my_favorite 주소 :', id(my_favorite))\n",
    "print('my_favorite 주소 :', id(new_favorite))\n",
    "new_favorite['fruit'] ='과일은 다 좋아'\n",
    "new_favorite['people'] ='홍길동'\n",
    "print('원본 :',my_favorite)\n",
    "print('수정본 :',new_favorite)"
   ]
  },
  {
   "cell_type": "markdown",
   "id": "a6ff9825",
   "metadata": {},
   "source": [
    "# 4절 셋\n",
    "- 중복을 허용하지 않는 집합(순서x)\n",
    "- {}나 set()함수를 이용해서 셋 생성 ex. set([1, 2, 1]), set({'name':'홍길동'})\n",
    "- 추가 : add(), update()\n",
    "- 삭제 : remove()\n",
    "- 집합연산자 : &-교집합, |-합집합, -차집합"
   ]
  },
  {
   "cell_type": "code",
   "execution_count": 308,
   "id": "b7667489",
   "metadata": {},
   "outputs": [
    {
     "data": {
      "text/plain": [
       "{'apple', 'banana', 'orange'}"
      ]
     },
     "execution_count": 308,
     "metadata": {},
     "output_type": "execute_result"
    }
   ],
   "source": [
    "fruits ={'banana', 'orange','apple','apple'}\n",
    "fruits"
   ]
  },
  {
   "cell_type": "code",
   "execution_count": 309,
   "id": "b5b88318",
   "metadata": {},
   "outputs": [
    {
     "data": {
      "text/plain": [
       "{1, 2, 3}"
      ]
     },
     "execution_count": 309,
     "metadata": {},
     "output_type": "execute_result"
    }
   ],
   "source": [
    "s1 = set([1,2,3,1, 1 ,1 ,1, 1 ,1, 1, 1, 1, 1, 1])\n",
    "s1"
   ]
  },
  {
   "cell_type": "code",
   "execution_count": 310,
   "id": "36666307",
   "metadata": {},
   "outputs": [
    {
     "data": {
      "text/plain": [
       "{1, 2, 3}"
      ]
     },
     "execution_count": 310,
     "metadata": {},
     "output_type": "execute_result"
    }
   ],
   "source": [
    "s1 = set([1,2,3,1, 1 ,1 ,1, 1 ,1, 1, 1, 1, 1, 1])\n",
    "s1"
   ]
  },
  {
   "cell_type": "code",
   "execution_count": 311,
   "id": "4fe9cc4d",
   "metadata": {},
   "outputs": [
    {
     "data": {
      "text/plain": [
       "{'address', 'age', 'name'}"
      ]
     },
     "execution_count": 311,
     "metadata": {},
     "output_type": "execute_result"
    }
   ],
   "source": [
    "# set함수를 이용해서 딕셔너리를 셋으로 전환할 때는 key만 적용\n",
    "s2 = set({'name':'홍길동', 'age':30, 'address':'서울'})\n",
    "s2"
   ]
  },
  {
   "cell_type": "markdown",
   "id": "0856d288",
   "metadata": {},
   "source": [
    "## 추가하기\n",
    "- add() : 기본자료형, 튜플데이터 하나 추가. list.dic.set유형은 add()함수 사용 불가\n",
    "- update() : 리스트,튜플,딕셔너리,셋 요소를 하니씩 따로 추가, dic사용시 key만 추가\n",
    "    cf list의 extend()"
   ]
  },
  {
   "cell_type": "code",
   "execution_count": 313,
   "id": "c24e9f56",
   "metadata": {},
   "outputs": [
    {
     "data": {
      "text/plain": [
       "{'address', 'age', 'name'}"
      ]
     },
     "execution_count": 313,
     "metadata": {},
     "output_type": "execute_result"
    }
   ],
   "source": [
    "# set함수를 이용해서 딕셔너리를 셋으로 전환할 때는 key만 적용\n",
    "s2 = set({'name':'홍길동', 'age':30, 'address':'서울'})\n",
    "s2\n"
   ]
  },
  {
   "cell_type": "code",
   "execution_count": 318,
   "id": "0114a18d",
   "metadata": {},
   "outputs": [
    {
     "name": "stdout",
     "output_type": "stream",
     "text": [
      "add() 후 : {1, 2, 3, 4, (6, 7), '오'}\n"
     ]
    }
   ],
   "source": [
    "s = {1, 2, 3}\n",
    "s.add((6,7))\n",
    "s.add(4)\n",
    "s.add('오')\n",
    "print(\"add() 후 :\", s)"
   ]
  },
  {
   "cell_type": "code",
   "execution_count": 317,
   "id": "bf09423e",
   "metadata": {},
   "outputs": [
    {
     "data": {
      "text/plain": [
       "{1, 2, 3}"
      ]
     },
     "execution_count": 317,
     "metadata": {},
     "output_type": "execute_result"
    }
   ],
   "source": [
    "# 1이 set에 있는 상태에서 True 추가\n",
    "s = {1,2,3,1,1}\n",
    "s.add(True)\n",
    "s"
   ]
  },
  {
   "cell_type": "code",
   "execution_count": 322,
   "id": "e5ded21f",
   "metadata": {},
   "outputs": [
    {
     "name": "stdout",
     "output_type": "stream",
     "text": [
      "True add후 : {1, 2, 3}\n"
     ]
    }
   ],
   "source": [
    "# 1이 set에 있는 상태에서 True 추가\n",
    "s = {1, 2, 3, 1, 1}\n",
    "s.add(True)\n",
    "print(\"True add후 :\", s)"
   ]
  },
  {
   "cell_type": "code",
   "execution_count": null,
   "id": "94235c85",
   "metadata": {},
   "outputs": [],
   "source": []
  },
  {
   "cell_type": "code",
   "execution_count": 320,
   "id": "bdcf66e3",
   "metadata": {},
   "outputs": [
    {
     "name": "stdout",
     "output_type": "stream",
     "text": [
      "update() 후 : {1, 2, 3, 4, 5, 6, 'age', 'name'}\n"
     ]
    }
   ],
   "source": [
    "s = {1, 2, 3}\n",
    "# s.update([4,5,6])\n",
    "# s.update( (4,5,6) )\n",
    "s.update( {4,5,6} )\n",
    "s.update({'name':'홍', 'age':20})\n",
    "print(\"update() 후 :\", s)"
   ]
  },
  {
   "cell_type": "markdown",
   "id": "08bdfad7",
   "metadata": {},
   "source": [
    "## 삭제하기\n",
    "- remove()"
   ]
  },
  {
   "cell_type": "code",
   "execution_count": 325,
   "id": "fb6bb727",
   "metadata": {},
   "outputs": [
    {
     "data": {
      "text/plain": [
       "{1, 3}"
      ]
     },
     "execution_count": 325,
     "metadata": {},
     "output_type": "execute_result"
    }
   ],
   "source": [
    "s = {1, 2, 3, 1, 1}\n",
    "s.remove(2)\n",
    "s"
   ]
  },
  {
   "cell_type": "code",
   "execution_count": 332,
   "id": "285fec2b",
   "metadata": {},
   "outputs": [
    {
     "ename": "TypeError",
     "evalue": "argument of type 'int' is not iterable",
     "output_type": "error",
     "traceback": [
      "\u001b[1;31m---------------------------------------------------------------------------\u001b[0m",
      "\u001b[1;31mTypeError\u001b[0m                                 Traceback (most recent call last)",
      "Cell \u001b[1;32mIn[332], line 2\u001b[0m\n\u001b[0;32m      1\u001b[0m \u001b[38;5;66;03m# 없는 요소를 삭제할 경우 에러\u001b[39;00m\n\u001b[1;32m----> 2\u001b[0m \u001b[38;5;28;01mif\u001b[39;00m \u001b[38;5;241;43m5\u001b[39;49m\u001b[43m \u001b[49m\u001b[38;5;129;43;01min\u001b[39;49;00m\u001b[43m \u001b[49m\u001b[43ms\u001b[49m:\n\u001b[0;32m      3\u001b[0m     s\u001b[38;5;241m.\u001b[39mremove(\u001b[38;5;241m5\u001b[39m) \n\u001b[0;32m      4\u001b[0m \u001b[38;5;28;01melse\u001b[39;00m:\n",
      "\u001b[1;31mTypeError\u001b[0m: argument of type 'int' is not iterable"
     ]
    }
   ],
   "source": [
    "# 없는 요소를 삭제할 경우 에러\n",
    "if 5 in s:\n",
    "    s.remove(5) \n",
    "else:\n",
    "    print(\"해당 데이터는 없습니다.\")"
   ]
  },
  {
   "cell_type": "markdown",
   "id": "07f90458",
   "metadata": {},
   "source": [
    "## 집합연산사\n",
    "    &(교집합), |(합집합), -(차집합)"
   ]
  },
  {
   "cell_type": "code",
   "execution_count": 327,
   "id": "13336d81",
   "metadata": {},
   "outputs": [
    {
     "name": "stdout",
     "output_type": "stream",
     "text": [
      "s1 = {1, 2, 3, 4, 5}\n",
      "s2 = {3, 4, 5, 6, 7}\n",
      "s1&s2= {3, 4, 5}\n",
      "s1|s2= {1, 2, 3, 4, 5, 6, 7}\n",
      "s1-s2= {1, 2}\n",
      "s2-s1= {6, 7}\n"
     ]
    }
   ],
   "source": [
    "s1 = {1, 2, 3, 4, 5}\n",
    "s2 = {3, 4, 5, 6, 7}\n",
    "print(\"s1 =\", s1)\n",
    "print(\"s2 =\", s2)\n",
    "print(\"s1&s2=\", s1&s2)\n",
    "print(\"s1|s2=\", s1|s2)\n",
    "print(\"s1-s2=\", s1-s2)\n",
    "print(\"s2-s1=\", s2-s1)"
   ]
  },
  {
   "cell_type": "code",
   "execution_count": 329,
   "id": "361f6091",
   "metadata": {},
   "outputs": [
    {
     "name": "stdout",
     "output_type": "stream",
     "text": [
      "길동\n",
      "길자\n",
      "길숙\n"
     ]
    }
   ],
   "source": [
    "names ={'길동', '길숙', '길자'}\n",
    "for name in names:\n",
    "    print(name)"
   ]
  },
  {
   "cell_type": "markdown",
   "id": "c3e05bfd",
   "metadata": {},
   "source": [
    "# 5절 enumerate\n",
    "- 반복자. 반복문을 처리할 때 사용할 순서객체를 생성하는 함수\n",
    "- 리스트, 튜플, 딕셔너리, 셋을 for문에 사용시 "
   ]
  },
  {
   "cell_type": "code",
   "execution_count": 330,
   "id": "7720173d",
   "metadata": {},
   "outputs": [
    {
     "data": {
      "text/plain": [
       "[(0, '길동'), (1, '길자'), (2, '길숙')]"
      ]
     },
     "execution_count": 330,
     "metadata": {},
     "output_type": "execute_result"
    }
   ],
   "source": [
    "list(enumerate(names))"
   ]
  },
  {
   "cell_type": "code",
   "execution_count": 331,
   "id": "bfae4dac",
   "metadata": {},
   "outputs": [
    {
     "name": "stdout",
     "output_type": "stream",
     "text": [
      "1. 길동\n",
      "2. 길자\n",
      "3. 길숙\n"
     ]
    }
   ],
   "source": [
    "for no, name in enumerate(names):\n",
    "    print(\"{}. {}\".format(no+1, name))"
   ]
  },
  {
   "cell_type": "code",
   "execution_count": 16,
   "id": "52635c46",
   "metadata": {},
   "outputs": [],
   "source": [
    "names = ['길동', '길자', '길숙']\n",
    "tels = [ '02-999-9999', '02-888-8888', '02-777-7777']\n",
    "adds = [ '서울','판교', '하남']"
   ]
  },
  {
   "cell_type": "code",
   "execution_count": 17,
   "id": "e8eefadb",
   "metadata": {},
   "outputs": [
    {
     "name": "stdout",
     "output_type": "stream",
     "text": [
      "1. 길동님의 연락처는 02-999-9999이고, 서울 살아요\n",
      "2. 길자님의 연락처는 02-888-8888이고, 판교 살아요\n",
      "3. 길숙님의 연락처는 02-777-7777이고, 하남 살아요\n"
     ]
    }
   ],
   "source": [
    "for idx in range(len(names)):\n",
    "    print(\"{}. {}님의 연락처는 {}이고, {} 살아요\".format(idx+1,\n",
    "                                                         names[idx],\n",
    "                                                         tels[idx],\n",
    "                                                         adds[idx]))"
   ]
  },
  {
   "cell_type": "code",
   "execution_count": 18,
   "id": "c9ddd8e9",
   "metadata": {},
   "outputs": [
    {
     "data": {
      "text/plain": [
       "[('길동', '02-999-9999', '서울'),\n",
       " ('길자', '02-888-8888', '판교'),\n",
       " ('길숙', '02-777-7777', '하남')]"
      ]
     },
     "execution_count": 18,
     "metadata": {},
     "output_type": "execute_result"
    }
   ],
   "source": [
    "list(zip(names, tels, adds))"
   ]
  },
  {
   "cell_type": "code",
   "execution_count": 19,
   "id": "1f7d5695",
   "metadata": {},
   "outputs": [
    {
     "name": "stdout",
     "output_type": "stream",
     "text": [
      "길동님의 연락처는 02-999-9999이고, 서울 살아요\n",
      "길자님의 연락처는 02-888-8888이고, 판교 살아요\n",
      "길숙님의 연락처는 02-777-7777이고, 하남 살아요\n"
     ]
    }
   ],
   "source": [
    "for name,tel,add in zip(names, tels, adds):\n",
    "    print(f\"{name}님의 연락처는 {tel}이고, {add} 살아요\")"
   ]
  },
  {
   "cell_type": "code",
   "execution_count": 20,
   "id": "eed53564",
   "metadata": {},
   "outputs": [
    {
     "data": {
      "text/plain": [
       "[(0, ('길동', '02-999-9999', '서울')),\n",
       " (1, ('길자', '02-888-8888', '판교')),\n",
       " (2, ('길숙', '02-777-7777', '하남'))]"
      ]
     },
     "execution_count": 20,
     "metadata": {},
     "output_type": "execute_result"
    }
   ],
   "source": [
    "list(enumerate(zip(names, tels, adds)))"
   ]
  },
  {
   "cell_type": "code",
   "execution_count": 21,
   "id": "24a2f026",
   "metadata": {},
   "outputs": [
    {
     "name": "stdout",
     "output_type": "stream",
     "text": [
      "0.길동님의 연락처는 02-999-9999이고, 서울 살아요\n",
      "1.길자님의 연락처는 02-888-8888이고, 판교 살아요\n",
      "2.길숙님의 연락처는 02-777-7777이고, 하남 살아요\n"
     ]
    }
   ],
   "source": [
    "for idx, (name, tel, add) in enumerate(zip(names, tels, adds)):\n",
    "       # print(f\"{idx}. {name}님의 연락처는 {tel}이고, {add} 살아요\")\n",
    "        print(\"{}.{}님의 연락처는 {}이고, {} 살아요\".format(idx, name, tel, add))\n",
    "    "
   ]
  },
  {
   "cell_type": "code",
   "execution_count": 25,
   "id": "3d42533f",
   "metadata": {},
   "outputs": [
    {
     "data": {
      "text/plain": [
       "[{'name': '길동', 'tel': '02-999-9999', 'add': '서울'},\n",
       " {'name': '길자', 'tel': '02-888-8888', 'add': '판교'},\n",
       " {'name': '길숙', 'tel': '02-777-7777', 'add': '하남'}]"
      ]
     },
     "execution_count": 25,
     "metadata": {},
     "output_type": "execute_result"
    }
   ],
   "source": [
    "members =[] # 딕셔너리 리스트\n",
    "for name, tel, add in zip(names, tels, adds):\n",
    "    member = { 'name': name, 'tel':tel, 'add':add}\n",
    "    members.append(member)\n",
    "members"
   ]
  },
  {
   "cell_type": "code",
   "execution_count": 26,
   "id": "b6c3134a",
   "metadata": {},
   "outputs": [
    {
     "data": {
      "text/plain": [
       "[{'rank': 1, 'name': '길동', 'tel': '02-999-9999', 'add': '서울'},\n",
       " {'rank': 2, 'name': '길자', 'tel': '02-888-8888', 'add': '판교'},\n",
       " {'rank': 3, 'name': '길숙', 'tel': '02-777-7777', 'add': '하남'}]"
      ]
     },
     "execution_count": 26,
     "metadata": {},
     "output_type": "execute_result"
    }
   ],
   "source": [
    "members =[] # 딕셔너리 리스트\n",
    "for idx, (name, tel, add) in enumerate(zip(names, tels, adds)):\n",
    "    member = {'rank':idx+1, 'name': name, 'tel':tel, 'add':add}\n",
    "    members.append(member)\n",
    "members"
   ]
  },
  {
   "cell_type": "markdown",
   "id": "3ac3d496",
   "metadata": {},
   "source": [
    "# 6절 연습문제\n",
    "## 실습형 연습문제"
   ]
  },
  {
   "cell_type": "code",
   "execution_count": 28,
   "id": "ccaea79e",
   "metadata": {},
   "outputs": [],
   "source": [
    "numbers = [1,2,3,4,5,6,7,8,9,10]"
   ]
  },
  {
   "cell_type": "code",
   "execution_count": 29,
   "id": "e60936bf",
   "metadata": {},
   "outputs": [
    {
     "name": "stdout",
     "output_type": "stream",
     "text": [
      "1: [1, 2, 3, 4, 5, 6, 7, 8, 9, 10, 100]\n"
     ]
    }
   ],
   "source": [
    "# 1. 숫자 100 을 맨 뒤에 추가하세요\n",
    "numbers.append(100)\n",
    "print(\"1:\", numbers)"
   ]
  },
  {
   "cell_type": "code",
   "execution_count": 31,
   "id": "e63f1da7",
   "metadata": {},
   "outputs": [],
   "source": [
    "# 2. 다음 리스트를 numbers 리스트 맨 뒤에 추가하세요\n",
    "data = [200, 300, 400, 500]"
   ]
  },
  {
   "cell_type": "code",
   "execution_count": 32,
   "id": "35802c82",
   "metadata": {},
   "outputs": [
    {
     "name": "stdout",
     "output_type": "stream",
     "text": [
      "2: [1, 2, 3, 4, 5, 6, 7, 8, 9, 10, 100, 200, 300, 400, 500]\n"
     ]
    }
   ],
   "source": [
    "data = [200, 300, 400, 500]\n",
    "numbers.extend(data)   \n",
    "print(\"2:\", numbers)"
   ]
  },
  {
   "cell_type": "code",
   "execution_count": 33,
   "id": "fde3c159",
   "metadata": {},
   "outputs": [
    {
     "name": "stdout",
     "output_type": "stream",
     "text": [
      "3: [1, 2, 3, 4, 5]\n"
     ]
    }
   ],
   "source": [
    "# 3. 처음 다섯 개 숫자만 출력하세요\n",
    "print(\"3:\", numbers[:5])"
   ]
  },
  {
   "cell_type": "code",
   "execution_count": 34,
   "id": "bc84148f",
   "metadata": {},
   "outputs": [
    {
     "name": "stdout",
     "output_type": "stream",
     "text": [
      "4: [2, 4, 6, 8, 10, 100, 200, 300, 400, 500]\n"
     ]
    }
   ],
   "source": [
    "# 4. 리스트에서 짝수 번째 데이터만 출력하세요\n",
    "evens = [x for x in numbers if x % 2 == 0]\n",
    "print(\"4:\", evens)"
   ]
  },
  {
   "cell_type": "code",
   "execution_count": 35,
   "id": "c372bb14",
   "metadata": {},
   "outputs": [
    {
     "name": "stdout",
     "output_type": "stream",
     "text": [
      "5: [1, 0, 3, 0, 5, 0, 7, 0, 9, 0, 0, 0, 0, 0, 0]\n"
     ]
    }
   ],
   "source": [
    "# 5. 짝수번째 데이터를 모두 0 으로 바꾸세요\n",
    "numbers = [0 if x % 2 == 0 else x for x in numbers]\n",
    "print(\"5:\", numbers)"
   ]
  },
  {
   "cell_type": "code",
   "execution_count": 36,
   "id": "beb1f980",
   "metadata": {},
   "outputs": [
    {
     "name": "stdout",
     "output_type": "stream",
     "text": [
      "6: [0, 0, 0, 0, 0, 0, 9, 0, 7, 0, 5, 0, 3, 0, 1]\n"
     ]
    }
   ],
   "source": [
    "# 6. 데이터를 역순으로 나열하세요 내림차순 정렬이 아닙니다\n",
    "numbers.reverse()\n",
    "print(\"6:\", numbers)"
   ]
  },
  {
   "cell_type": "code",
   "execution_count": 40,
   "id": "2406a7f2",
   "metadata": {},
   "outputs": [],
   "source": [
    "#다음 딕셔너리 데이터가 주어졌을 경우 요구사항대로 코드를 작성하세요\n",
    "member_info = {\n",
    "    \"name\": \"홍길동\",\n",
    "    \"age\": 20,\n",
    "    \"address\": \"서울시 마포구\",\n",
    "    \"score\": 90\n",
    "}"
   ]
  },
  {
   "cell_type": "code",
   "execution_count": 41,
   "id": "f287157b",
   "metadata": {},
   "outputs": [
    {
     "name": "stdout",
     "output_type": "stream",
     "text": [
      "7: 서울시 마포구\n"
     ]
    }
   ],
   "source": [
    "# 7. address 값을 출력하세요\n",
    "print(\"7:\", member_info[\"address\"])"
   ]
  },
  {
   "cell_type": "code",
   "execution_count": 42,
   "id": "e8c5d51b",
   "metadata": {},
   "outputs": [
    {
     "name": "stdout",
     "output_type": "stream",
     "text": [
      "8: score = 90\n"
     ]
    }
   ],
   "source": [
    "# 8. score 를 출력하고 member_info 딕셔너리에서 삭제하세요\n",
    "print(\"8: score =\", member_info[\"score\"])\n",
    "del member_info[\"score\"]"
   ]
  },
  {
   "cell_type": "code",
   "execution_count": 43,
   "id": "9070ad2e",
   "metadata": {},
   "outputs": [
    {
     "name": "stdout",
     "output_type": "stream",
     "text": [
      "9: 서울시 서대문구\n"
     ]
    }
   ],
   "source": [
    "# 9. address 를 서울시 서대문구 로 변경하세요\n",
    "member_info[\"address\"] = \"서울시 서대문구\"\n",
    "print(\"9:\", member_info[\"address\"])"
   ]
  },
  {
   "cell_type": "code",
   "execution_count": 44,
   "id": "959bc5c9",
   "metadata": {},
   "outputs": [
    {
     "name": "stdout",
     "output_type": "stream",
     "text": [
      "10: ['홍길동', 20, '서울시 서대문구']\n"
     ]
    }
   ],
   "source": [
    "# 10. member_info 딕셔너리 데이터의 값을 리스트로 출력하세요'\n",
    "print(\"10:\", list(member_info.values()))"
   ]
  },
  {
   "cell_type": "markdown",
   "id": "18230093",
   "metadata": {},
   "source": [
    "## 서술형 연습문제"
   ]
  },
  {
   "cell_type": "code",
   "execution_count": null,
   "id": "d331a07f",
   "metadata": {},
   "outputs": [],
   "source": [
    "# 1. ['orange', 'apple', 'banana']"
   ]
  },
  {
   "cell_type": "code",
   "execution_count": null,
   "id": "ad382f34",
   "metadata": {},
   "outputs": [],
   "source": [
    "# 2. 3번"
   ]
  },
  {
   "cell_type": "code",
   "execution_count": null,
   "id": "16e1a57c",
   "metadata": {},
   "outputs": [],
   "source": [
    "# 3. 5, 4, 3, 1"
   ]
  },
  {
   "cell_type": "code",
   "execution_count": null,
   "id": "a8a947c8",
   "metadata": {},
   "outputs": [],
   "source": [
    "# 4. extend"
   ]
  },
  {
   "cell_type": "code",
   "execution_count": null,
   "id": "338b32f8",
   "metadata": {},
   "outputs": [],
   "source": [
    "# 5. [0, 1, 0, 3, 0, 5, 0, 7, 0, 9]"
   ]
  },
  {
   "cell_type": "code",
   "execution_count": null,
   "id": "1d6d1c85",
   "metadata": {},
   "outputs": [],
   "source": [
    "# 6. [5, 1, 6, 3, 7, 5, 8, 7, 9, 9]"
   ]
  },
  {
   "cell_type": "code",
   "execution_count": null,
   "id": "4e3b817e",
   "metadata": {},
   "outputs": [],
   "source": [
    "# 7. [0, 1, 1, 3, 2, 5, 3, 7, 4, 9]"
   ]
  },
  {
   "cell_type": "code",
   "execution_count": null,
   "id": "eaac6f30",
   "metadata": {},
   "outputs": [],
   "source": [
    "# 8. 1번"
   ]
  },
  {
   "cell_type": "code",
   "execution_count": 46,
   "id": "5d9df757",
   "metadata": {},
   "outputs": [],
   "source": [
    "# 9."
   ]
  },
  {
   "cell_type": "code",
   "execution_count": null,
   "id": "7651ac17",
   "metadata": {},
   "outputs": [],
   "source": [
    "# 10."
   ]
  },
  {
   "cell_type": "code",
   "execution_count": null,
   "id": "b38371f2",
   "metadata": {},
   "outputs": [],
   "source": [
    "# 11."
   ]
  },
  {
   "cell_type": "markdown",
   "id": "1514bbcf",
   "metadata": {},
   "source": [
    "![변수타입들](https://pynative.com/wp-content/uploads/2021/02/python-data-types.jpg)"
   ]
  },
  {
   "cell_type": "markdown",
   "id": "d35ea8c4",
   "metadata": {},
   "source": [
    "<img src=\"https://pynative.com/wp-content/uploads/2021/02/python-data-types.jpg\"\n",
    "    style=\"float:left\"\n",
    "    width=\"500\">"
   ]
  },
  {
   "cell_type": "code",
   "execution_count": null,
   "id": "c1a67ee5",
   "metadata": {},
   "outputs": [],
   "source": []
  },
  {
   "cell_type": "code",
   "execution_count": null,
   "id": "22af2d54",
   "metadata": {},
   "outputs": [],
   "source": []
  },
  {
   "cell_type": "code",
   "execution_count": null,
   "id": "7c48d047",
   "metadata": {},
   "outputs": [],
   "source": []
  },
  {
   "cell_type": "code",
   "execution_count": null,
   "id": "8453bb2d",
   "metadata": {},
   "outputs": [],
   "source": []
  },
  {
   "cell_type": "code",
   "execution_count": null,
   "id": "7a071168",
   "metadata": {},
   "outputs": [],
   "source": []
  },
  {
   "cell_type": "code",
   "execution_count": null,
   "id": "62c83617",
   "metadata": {},
   "outputs": [],
   "source": []
  },
  {
   "cell_type": "code",
   "execution_count": null,
   "id": "053e0096",
   "metadata": {},
   "outputs": [],
   "source": []
  },
  {
   "cell_type": "code",
   "execution_count": null,
   "id": "e4f14f8c",
   "metadata": {},
   "outputs": [],
   "source": []
  },
  {
   "cell_type": "code",
   "execution_count": null,
   "id": "e1cff9b6",
   "metadata": {},
   "outputs": [],
   "source": []
  },
  {
   "cell_type": "code",
   "execution_count": null,
   "id": "d19dcc89",
   "metadata": {},
   "outputs": [],
   "source": []
  },
  {
   "cell_type": "code",
   "execution_count": null,
   "id": "25d27cfa",
   "metadata": {},
   "outputs": [],
   "source": []
  },
  {
   "cell_type": "code",
   "execution_count": null,
   "id": "7d823d0b",
   "metadata": {},
   "outputs": [],
   "source": []
  },
  {
   "cell_type": "code",
   "execution_count": null,
   "id": "2e9ab261",
   "metadata": {},
   "outputs": [],
   "source": []
  },
  {
   "cell_type": "code",
   "execution_count": null,
   "id": "77db8c01",
   "metadata": {},
   "outputs": [],
   "source": []
  },
  {
   "cell_type": "code",
   "execution_count": null,
   "id": "c671ee80",
   "metadata": {},
   "outputs": [],
   "source": []
  },
  {
   "cell_type": "code",
   "execution_count": null,
   "id": "8de3fcbe",
   "metadata": {},
   "outputs": [],
   "source": []
  },
  {
   "cell_type": "code",
   "execution_count": null,
   "id": "51d76c4e",
   "metadata": {},
   "outputs": [],
   "source": []
  },
  {
   "cell_type": "code",
   "execution_count": null,
   "id": "f1f910c8",
   "metadata": {},
   "outputs": [],
   "source": []
  },
  {
   "cell_type": "code",
   "execution_count": null,
   "id": "4cbedd81",
   "metadata": {},
   "outputs": [],
   "source": []
  },
  {
   "cell_type": "code",
   "execution_count": null,
   "id": "25c84354",
   "metadata": {},
   "outputs": [],
   "source": []
  },
  {
   "cell_type": "code",
   "execution_count": null,
   "id": "e934b331",
   "metadata": {},
   "outputs": [],
   "source": []
  },
  {
   "cell_type": "code",
   "execution_count": null,
   "id": "c55a2d72",
   "metadata": {},
   "outputs": [],
   "source": []
  },
  {
   "cell_type": "code",
   "execution_count": null,
   "id": "0e107100",
   "metadata": {},
   "outputs": [],
   "source": []
  },
  {
   "cell_type": "code",
   "execution_count": null,
   "id": "807e18a0",
   "metadata": {},
   "outputs": [],
   "source": []
  },
  {
   "cell_type": "code",
   "execution_count": null,
   "id": "8c3015f5",
   "metadata": {},
   "outputs": [],
   "source": []
  },
  {
   "cell_type": "code",
   "execution_count": null,
   "id": "eadf0186",
   "metadata": {},
   "outputs": [],
   "source": []
  },
  {
   "cell_type": "code",
   "execution_count": null,
   "id": "8dd21280",
   "metadata": {},
   "outputs": [],
   "source": []
  },
  {
   "cell_type": "code",
   "execution_count": null,
   "id": "86be0e02",
   "metadata": {},
   "outputs": [],
   "source": []
  },
  {
   "cell_type": "code",
   "execution_count": null,
   "id": "653dc90f",
   "metadata": {},
   "outputs": [],
   "source": []
  },
  {
   "cell_type": "code",
   "execution_count": null,
   "id": "50fd6ca0",
   "metadata": {},
   "outputs": [],
   "source": []
  },
  {
   "cell_type": "code",
   "execution_count": null,
   "id": "8efcef78",
   "metadata": {},
   "outputs": [],
   "source": []
  },
  {
   "cell_type": "code",
   "execution_count": null,
   "id": "71e912f2",
   "metadata": {},
   "outputs": [],
   "source": []
  }
 ],
 "metadata": {
  "kernelspec": {
   "display_name": "Python 3 (ipykernel)",
   "language": "python",
   "name": "python3"
  },
  "language_info": {
   "codemirror_mode": {
    "name": "ipython",
    "version": 3
   },
   "file_extension": ".py",
   "mimetype": "text/x-python",
   "name": "python",
   "nbconvert_exporter": "python",
   "pygments_lexer": "ipython3",
   "version": "3.10.9"
  },
  "toc": {
   "base_numbering": 1,
   "nav_menu": {},
   "number_sections": false,
   "sideBar": true,
   "skip_h1_title": false,
   "title_cell": "Table of Contents",
   "title_sidebar": "Contents",
   "toc_cell": false,
   "toc_position": {
    "height": "calc(100% - 180px)",
    "left": "10px",
    "top": "150px",
    "width": "313.4px"
   },
   "toc_section_display": true,
   "toc_window_display": true
  }
 },
 "nbformat": 4,
 "nbformat_minor": 5
}
