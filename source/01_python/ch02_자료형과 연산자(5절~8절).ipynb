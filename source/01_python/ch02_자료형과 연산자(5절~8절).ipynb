{
 "cells": [
  {
   "cell_type": "code",
   "execution_count": null,
   "id": "4314e4f0",
   "metadata": {},
   "outputs": [],
   "source": [
    "from IPython.display import display, HTML\n",
    "display(HTML(\"\"\"\n",
    "<style>\n",
    "div.container{width:90% !important;}\n",
    "div.cell.code_cell.rendered{width:100%;}\n",
    "div.input_prompt{padding:0px;}\n",
    "div.CodeMirror {font-family:Consolas; font-size:12pt;}\n",
    "div.text_cell_render.rendered_html{font-size:12pt;}\n",
    "div.output {font-size:12pt; font-weight:bold;}\n",
    "div.input {font-family:Consolas; font-size:12pt;}\n",
    "div.prompt {min-width:70px;}\n",
    "div#toc-wrapper{padding-top:120px;}\n",
    "div.text_cell_render ul li{font-size:12pt;padding:5px;}\n",
    "table.dataframe{font-size:12px;}\n",
    "</style>\n",
    "\"\"\"))"
   ]
  },
  {
   "cell_type": "markdown",
   "id": "4094f04b",
   "metadata": {},
   "source": [
    "<b><font size=\"7\" color=\"red\">ch02. 자료형과 연산자</font></b>\n",
    "\n",
    "# 5절. 연산자\n",
    "\n",
    "\n",
    "## 5.1 산술연산자 : +,-,*,/( 결과 float),//(몫),%(나머지),**(제곱)\n"
   ]
  },
  {
   "cell_type": "code",
   "execution_count": null,
   "id": "bc13dba0",
   "metadata": {},
   "outputs": [],
   "source": [
    "print(\"10*5승 =\",10**5)\n",
    "print(\"5/2(결과 실수) =\", 5/2)\n",
    "print(\"5//2(몫) =\", 5//2)\n",
    "print(\"5%2(나머지)=\", 5%2)"
   ]
  },
  {
   "cell_type": "raw",
   "id": "bf4c2bd5",
   "metadata": {},
   "source": [
    "# 정수끼리 연산은 결과가 정수 (단 / 제외)\n",
    "# 정수와 실수, 실수끼리 연산 결과는 실수\n",
    "print(\"4**2\", 4**2)\n"
   ]
  },
  {
   "cell_type": "code",
   "execution_count": null,
   "id": "3fef8c31",
   "metadata": {},
   "outputs": [],
   "source": [
    "# quiz1. 정수를 입력받아 짝수인지 홀수인지 여부를 출력\n",
    "num = int(input(\"정수를 입력하세요:\"))\n",
    "result = num % 2 # -1, 0, 1\n",
    "if result:\n",
    "    temp = \"홀수\"\n",
    "else:\n",
    "    temp = \"짝수\"\n",
    "print(f\"입력하신 수는 {num}, 2로 나눈 나머지는 {result}라서 {temp}를 입력하셨습니다\") "
   ]
  },
  {
   "cell_type": "code",
   "execution_count": null,
   "id": "3cf92bc4",
   "metadata": {},
   "outputs": [],
   "source": [
    "# quiz2. 정수를 입력받아 5의 배수인지 여부를 출력\n",
    "num = int(input(\"정수를 입력하세요:\"))\n",
    "if num%5:\n",
    "    print(\"5의 배수가 아닙니다.\")\n",
    "else:\n",
    "    print(\"5의 배수입니다.\")"
   ]
  },
  {
   "cell_type": "code",
   "execution_count": null,
   "id": "37399cbd",
   "metadata": {},
   "outputs": [],
   "source": [
    "# quiz3. 국, 영, 수 점수를 입력받아 다음셀에서 다음과 같이 출력하도록 구현하시오.\n",
    "kor = int(input(\"국어?\"))\n",
    "eng = int(input(\"영어?\"))\n",
    "mat = int(input(\"수학?\"))\n",
    "sum = kor + eng + mat\n",
    "avg = sum / 3"
   ]
  },
  {
   "cell_type": "code",
   "execution_count": null,
   "id": "7ec74511",
   "metadata": {},
   "outputs": [],
   "source": [
    "print(\"국어 : {:3d}\\t영어 : {:3d}\\t수학 : {:3d}\".format(kor, eng, mat))\n",
    "print(\"총점 : {:3d}\\t평균 : {:5.1f}\".format(sum, avg))"
   ]
  },
  {
   "cell_type": "markdown",
   "id": "913b28d0",
   "metadata": {},
   "source": [
    "## 5.2 할당연산자  : =,+=,-=,/=,*=,//=,%="
   ]
  },
  {
   "cell_type": "code",
   "execution_count": null,
   "id": "3df8a1dd",
   "metadata": {},
   "outputs": [],
   "source": [
    "a = 10\n",
    "a += 5 # a = a + 5와 동일\n",
    "print(f\"a = {a}\")"
   ]
  },
  {
   "cell_type": "code",
   "execution_count": null,
   "id": "c8f74f13",
   "metadata": {},
   "outputs": [],
   "source": [
    "a -= 5 # a = a-5\n",
    "print(\"5빼기 :\", a) # 10\n",
    "a *= 10 # a*10\n",
    "print(\"10배 :\", a) #100\n",
    "a //= 5 # a = a//5\n",
    "print(\"5나눈 몫 :\", a)"
   ]
  },
  {
   "cell_type": "markdown",
   "id": "eb42a57a",
   "metadata": {},
   "source": [
    "## 5.3 논리연산자 : &, and, |, or, not"
   ]
  },
  {
   "cell_type": "code",
   "execution_count": null,
   "id": "426eaa91",
   "metadata": {},
   "outputs": [],
   "source": [
    "# & : 논리연산자, 비트연산사\n",
    "print ( (10>3) & (10>5) )#  논리연산 True & True\n",
    "print (12 & 1 ) # 비트 연산      1 1 0 0 (12) \n",
    "                          #      0 0 0 1  (1)\n",
    "                          # & :  0 0 0 0\n"
   ]
  },
  {
   "cell_type": "code",
   "execution_count": null,
   "id": "53c899f6",
   "metadata": {},
   "outputs": [],
   "source": [
    "# and : 논리연산자 False로 판별되는 첫번째 항의 결과 반환\n",
    "            #모든 항이 True면, 마지막항의 결과 반환\n",
    "print ( (10>3) and (10>5) )\n",
    "print ( 0 and 1 )"
   ]
  },
  {
   "cell_type": "code",
   "execution_count": null,
   "id": "c3f440ac",
   "metadata": {},
   "outputs": [],
   "source": [
    "# / :논리연산, 비트연산\n",
    "result = True | False\n",
    "print('논리연산{연산자 안 뒤에 논리형일 때}', result)\n",
    "restlt = False | 3 # 0000(0)\n",
    "                    # 0011(3)\n",
    "print('비트연산(연산자 앞이나 뒤에 숫자일 때):', restlt)"
   ]
  },
  {
   "cell_type": "code",
   "execution_count": null,
   "id": "f74ab824",
   "metadata": {},
   "outputs": [],
   "source": [
    "# or 논리연산. 참으로 판별되는 첫번째 항의 결과 반환\n",
    "              # 모든 항이 거짓이면 마지막항이 반환\n",
    "print(False or 0 or '' or None or [])\n",
    "print(False or 0 or 'Hong' or None or [])"
   ]
  },
  {
   "cell_type": "code",
   "execution_count": null,
   "id": "d1865d1f",
   "metadata": {},
   "outputs": [],
   "source": [
    "not 10>5"
   ]
  },
  {
   "cell_type": "markdown",
   "id": "9541ac0b",
   "metadata": {},
   "source": [
    "## 5.4  비교연산자 : >, >=, <, <=, ==(같다), !=(다르다)"
   ]
  },
  {
   "cell_type": "code",
   "execution_count": null,
   "id": "32148e0a",
   "metadata": {},
   "outputs": [],
   "source": [
    "# 비교연산자는 이항, 삼항, 사항, .... 다항연산자\n",
    "x = 95\n",
    "print( (90<=x) & (x<=100) )\n",
    "print( 90 <= x <= 100)\n",
    "print( 90 <= x <= 100 > 10)"
   ]
  },
  {
   "cell_type": "code",
   "execution_count": null,
   "id": "6b2389b1",
   "metadata": {},
   "outputs": [],
   "source": [
    "# 비교연산자 비트연산자(|,&)의 우선순위보다 낮다\n",
    "print ( (10>5) & (10>7) )\n",
    "print ( 10>5 & 10>7 ) # 괄호가 없으면 우선순위가 높은 5&10부터 실행\n",
    "print ( 10 > 0 > 7 )\n",
    "# 0101(5) & 1010(10)"
   ]
  },
  {
   "cell_type": "code",
   "execution_count": null,
   "id": "cb68d08c",
   "metadata": {},
   "outputs": [],
   "source": [
    "address = \"목동\"\n",
    "age = 29\n",
    "# print( address==\"목동\" & age<=30)\n",
    "print ((address==\"목동\") & (age<=30))\n",
    "print (address==\"목동\" and age<=30)\n"
   ]
  },
  {
   "cell_type": "code",
   "execution_count": null,
   "id": "f90b44cb",
   "metadata": {},
   "outputs": [],
   "source": [
    "\"김길동\" < \"홍길동\""
   ]
  },
  {
   "cell_type": "code",
   "execution_count": null,
   "id": "a1dbf01f",
   "metadata": {},
   "outputs": [],
   "source": [
    "# 문자는 ASCII  코드 순으로 비교: 특수문자 < 숫자문자 < 대문자 < 소문자(abc순으로)\n",
    "\"scott\" < \"tiger\""
   ]
  },
  {
   "cell_type": "markdown",
   "id": "4252da52",
   "metadata": {},
   "source": [
    "## 5.5 비트연산 : &, |, ^(XOR),~(반대)\n",
    "```\n",
    "x    y   x&y   x|y    x^y     ~x\n",
    "---------------------------------\n",
    "0    0    0     0      0       1\n",
    "0    1    0     1      1       0\n",
    "1    0    0     1      1       0\n",
    "1    1    1     1      0       1\n",
    "```"
   ]
  },
  {
   "cell_type": "code",
   "execution_count": null,
   "id": "80ccb50a",
   "metadata": {},
   "outputs": [],
   "source": [
    "a = 15 # 1111(8+4+2+1) \n",
    "b =  2 # 0010 \n",
    "print(\"  a= {0:2} : {0:04b}\".format(a))\n",
    "print(\"  b= {0:2} : {0:04b}\".format(b))\n",
    "print(\"a&b= {0:2} : {0:04b}\".format(a&b))\n",
    "print(\"a|b= {0:2} : {0:04b}\".format(a|b))\n",
    "print(\"a^b= {0:2} : {0:04b}\".format(a^b))"
   ]
  },
  {
   "cell_type": "markdown",
   "id": "d07295ee",
   "metadata": {},
   "source": [
    "# 6절 문자열 다루기\n",
    "- 문자열변수[from:to:step] : 일부 문자 추출\n",
    "- len(문자열변수)\n",
    "\n",
    "- upper() : 대문자로 \n",
    "- lower() : 소문자로\n",
    "- title() : 각 어절의 앞글자만 대문자로\n",
    "- capitalize() : 첫문자만 대문자로\n",
    "- count(\"찾을문자\") : \"찾을문자\"가 몇개 들어있는지 갯수 반환\n",
    "- find(\"찾을문자\") : \"찾을문자\"가 왼쪽부터 몇번째에 있는지 index를 반환(없으면 -1)\n",
    "- rfind(\"찾을문자\") : \"찾을문자\"가 오른쪽부터 몇번째에 있는지 index를 반환\n",
    "\n",
    "  cf. index(\"찾을문자\") : \"찾을문자\"가 왼쪽부터 몇번째에 있는지 index를 반환(없으면 에러)\n",
    "- startwith(\"특정문자\") : \"특정문자\"로 시작하는지 여부 반환\n",
    "- endwith(\"특정문자\") : \"특정문자\"로 끝나는지 여부 반환\n",
    "\n",
    "- strip() : 좌우공백제거(trim)\n",
    "- lstrip() : 왼쪽 공백 제거\n",
    "- rstrip() : 오른쪽 공백 제거\n",
    "- split() : 문자열을 공백이나 다른 문자 기준으로 나누어 리스트로 반환\n",
    "- isdigit() : 문자열이 숫자문자열인지 여부 반환\n",
    "- islower() : 문자열이 소문자인지 여부 반환\n",
    "- isupper() : 문자열이 대문자인지 여부 반환\n",
    "- replace(oidStr, newStr) : oidStr을 newStr로 변경"
   ]
  },
  {
   "cell_type": "code",
   "execution_count": null,
   "id": "e5a3722a",
   "metadata": {},
   "outputs": [],
   "source": [
    "temp = \"python is easy. python is smart. python\"\n",
    "temp, len(temp)\n"
   ]
  },
  {
   "cell_type": "code",
   "execution_count": null,
   "id": "e1d40d04",
   "metadata": {},
   "outputs": [],
   "source": [
    "temp = \"python is easy. python is smart. python\"\n",
    "     #  012345678901234567890123456487890123\n",
    "print(\"대문자로 :\", temp.upper())\n",
    "print(\"소문자로 :\", temp.lower())\n",
    "print(\"title() :\", temp.title())\n",
    "print(\"capitalize() :\", temp.capitalize())\n",
    "print(\"C이 몇번 나오는지 :\", temp.count(\"C\"))\n",
    "print(\"python이 몇번 나오는지 :\", temp.count(\"python\"))\n",
    "print(\"대소문자 구분없이 python이 몇번 :\", temp.lower().count(\"python\"))\n",
    "print(\"대소문자 구분없이 python이 몇번 :\", temp.upper().count(\"PYTHON\"))\n",
    "print(\"대소문자 구분없이 python이 몇번 :\", temp.title().count(\"Python\"))\n",
    "print(\"python이 나오는 첫index 위치 :\", temp.find(\"python\"))\n",
    "print(\"python이 나오는 마지막 index 위치 :\", temp.rfind(\"python\"))\n",
    "print(\"C가 나오는 index 위치 :\", temp.find(\"C\")) # 찾을문자가 없을 경우 -1\n",
    "print(\"python이 나오는 첫index 위치 :\", temp.index(\"python\"))\n",
    "# print(\"java이 나오는 첫index 위치 :\", temp.index(\"java\")) 찾을문자가 없을 경우 에러\n",
    "print(\"python으로 시작하는지 여부\", temp.startswith(\"python\"))\n",
    "print(\"대소문자 구분없이 python으로 시작하는지 여부\", temp.lower().startswith(\"python\"))\n",
    "print(\"python으로 끝나는지 여부\", temp.endswith(\"python\"))\n",
    "print(\"n으로 끝나는지 여부\", temp.endswith(\"n\"))\n",
    "print(\"python을 R로 변경\", temp.replace(\"python\", \"R\"))"
   ]
  },
  {
   "cell_type": "code",
   "execution_count": null,
   "id": "61e4fff3",
   "metadata": {},
   "outputs": [],
   "source": [
    "temp = \"    python is eay    \"\n",
    "notdigit = \"1000\"\n",
    "print(\"좌우 공백 제거 : [{}]\".format(temp.strip()) )\n",
    "print(\"왼쪽 공백 제거 : [{}]\".format(temp.lstrip()) )\n",
    "print(\"오른쪽 공백 제거 : [{}]\".format(temp.rstrip()) )\n",
    "print(\"isdigit(숫자문자)인지 여부 :\", notdigit.isdigit()) \n",
    "print(\"replace후 isdigit :\", notdigit.replace (\",\",\"\").isdigit()) \n",
    "print(\"대문자인지 여부 :\", temp.isupper()) \n",
    "print(\"소문자인지 여부 :\", temp.islower()) "
   ]
  },
  {
   "cell_type": "code",
   "execution_count": null,
   "id": "fa5c2d14",
   "metadata": {},
   "outputs": [],
   "source": [
    "names = \"홍길동 김길동       박길동 주길동 고길동\"\n",
    "name_list = names.split()\n",
    "print(\"space단위로 names 분리(list로 반환):\", names.split())\n",
    "print(name_list[0], name_list[1])"
   ]
  },
  {
   "cell_type": "code",
   "execution_count": null,
   "id": "4c820f30",
   "metadata": {},
   "outputs": [],
   "source": [
    "date_str = \"2025-09-17\"\n",
    "date_list = date_str.split(\"-\")\n",
    "print(date_list)\n",
    "print(\"년도 :\", date_list[0])\n",
    "print(\"월 :\", date_list[1])\n",
    "print(\"일 :\", date_list[2])"
   ]
  },
  {
   "cell_type": "code",
   "execution_count": null,
   "id": "8f91c190",
   "metadata": {},
   "outputs": [],
   "source": [
    "# str_ = \"ABC\"\n",
    "str_ = [\"A\",\"B\",\"C\"]\n",
    "str_[0], str_[1], str_[2]"
   ]
  },
  {
   "cell_type": "code",
   "execution_count": null,
   "id": "907c4cec",
   "metadata": {},
   "outputs": [],
   "source": [
    "# ' - ' 을 \"/\"로 바꾸기\n",
    "temp =  \"Python -  웹(HTML/CSS/JS) - Oracle/MySQL(DBMS) - DL/ML(M/DNN/CNN/RNN) - LLM(RAG)\" \n",
    "# temp.replace(\" - \", \"/\")\n",
    "# split() join() 이용하여 replace역할\n",
    "splited_temp = temp.split(\" - \")\n",
    "print('분리된 temp :',splited_temp)\n",
    "joind_temp = \"/\".join(splited_temp)# \"/\"로 매개변수 list를 연결\n",
    "print(\"join temp :\",joind_temp)"
   ]
  },
  {
   "cell_type": "code",
   "execution_count": null,
   "id": "5445c556",
   "metadata": {},
   "outputs": [],
   "source": [
    "# 문자열을 다룰 수 있는 함수들 목록\n",
    "dir(str)"
   ]
  },
  {
   "cell_type": "markdown",
   "id": "aca86c49",
   "metadata": {},
   "source": [
    "# 7절. 시간,날짜 다루기"
   ]
  },
  {
   "cell_type": "code",
   "execution_count": 2,
   "id": "dd21f04d",
   "metadata": {},
   "outputs": [
    {
     "data": {
      "text/plain": [
       "'C:\\\\Users\\\\Admin\\\\anaconda3\\\\lib\\\\datetime.py'"
      ]
     },
     "execution_count": 2,
     "metadata": {},
     "output_type": "execute_result"
    }
   ],
   "source": [
    "import datetime\n",
    "datetime.__file__"
   ]
  },
  {
   "cell_type": "code",
   "execution_count": 6,
   "id": "b7b7b7c3",
   "metadata": {},
   "outputs": [],
   "source": [
    "# datetime 모듈(datetime.py)안의 datetime, date, time만 load\n",
    "from datetime import datetime, date, time"
   ]
  },
  {
   "cell_type": "markdown",
   "id": "9180c753",
   "metadata": {},
   "source": [
    "# 7.1 시간과 날짜"
   ]
  },
  {
   "cell_type": "code",
   "execution_count": 8,
   "id": "0a406c10",
   "metadata": {},
   "outputs": [
    {
     "data": {
      "text/plain": [
       "datetime.datetime(2025, 9, 11, 9, 30)"
      ]
     },
     "execution_count": 8,
     "metadata": {},
     "output_type": "execute_result"
    }
   ],
   "source": [
    "# 특정 시점을 갖는 datetime 객체 생성\n",
    "thatday = datetime(2025,9,11,9,30)\n",
    "thatday"
   ]
  },
  {
   "cell_type": "code",
   "execution_count": 13,
   "id": "625b65b0",
   "metadata": {},
   "outputs": [
    {
     "name": "stdout",
     "output_type": "stream",
     "text": [
      "25년09월11일(Thursday) 09:30:00\n",
      "25년09월11일(Thursday) 09:30:00\n",
      "Thu Sep 11 09:30:00 2025\n"
     ]
    }
   ],
   "source": [
    "# 날짜를 문자열로 전환\n",
    "print(\"{:%y년%m월%d일(%A) %H:%M:%S}\".format(thatday))\n",
    "print(thatday.strftime(\"%y년%m월%d일(%A) %H:%M:%S\"))\n",
    "print(thatday.ctime()) #ctime : 사람이 읽기 쉬운 형태로 convert"
   ]
  },
  {
   "cell_type": "code",
   "execution_count": 26,
   "id": "ea778ad5",
   "metadata": {},
   "outputs": [
    {
     "name": "stdout",
     "output_type": "stream",
     "text": [
      "2025-09-17 14:28:31.835368\n",
      "Wed Sep 17 14:28:31 2025\n",
      "2025년09월17일 PM 02:28:31\n"
     ]
    }
   ],
   "source": [
    "# 지금을 저장하는 datetime 객체 생성\n",
    "now = datetime.now()\n",
    "print(now)\n",
    "print(now.ctime())\n",
    "print(now.strftime(\"%Y년%m월%d일 %p %I:%M:%S\"))"
   ]
  },
  {
   "cell_type": "code",
   "execution_count": 24,
   "id": "cd9b6de7",
   "metadata": {},
   "outputs": [
    {
     "name": "stdout",
     "output_type": "stream",
     "text": [
      "6 days, 4:55:28.408685\n",
      "6\n"
     ]
    }
   ],
   "source": [
    "diff = now-thatday\n",
    "print(diff)\n",
    "print(diff.days)"
   ]
  },
  {
   "cell_type": "markdown",
   "id": "47c44f39",
   "metadata": {},
   "source": [
    "# 7.2 날짜"
   ]
  },
  {
   "cell_type": "code",
   "execution_count": 25,
   "id": "0773a1a0",
   "metadata": {},
   "outputs": [
    {
     "data": {
      "text/plain": [
       "datetime.date(2025, 9, 11)"
      ]
     },
     "execution_count": 25,
     "metadata": {},
     "output_type": "execute_result"
    }
   ],
   "source": [
    "# 특정한 날짜를 갖는 date 객체 생성\n",
    "someday  = date(2025,9 ,11)\n",
    "someday"
   ]
  },
  {
   "cell_type": "code",
   "execution_count": 27,
   "id": "9f043932",
   "metadata": {},
   "outputs": [
    {
     "name": "stdout",
     "output_type": "stream",
     "text": [
      "2025-09-11\n",
      "2025년 09월 11일 00:00\n"
     ]
    }
   ],
   "source": [
    "print(someday)\n",
    "print(someday.strftime(\"%Y년 %m월 %d일 %H:%M\"))"
   ]
  },
  {
   "cell_type": "code",
   "execution_count": 28,
   "id": "84b65b8a",
   "metadata": {},
   "outputs": [
    {
     "name": "stdout",
     "output_type": "stream",
     "text": [
      "True\n"
     ]
    }
   ],
   "source": [
    "# 오늘을 갖는 date 객체 생성\n",
    "today1 = date.today()\n",
    "today2 = datetime.now().date()\n",
    "print(today1 == today2)"
   ]
  },
  {
   "cell_type": "code",
   "execution_count": 29,
   "id": "7f7574a5",
   "metadata": {},
   "outputs": [
    {
     "name": "stdout",
     "output_type": "stream",
     "text": [
      "2025년09월17일 00:00\n",
      "2025년09월17일 00:00\n"
     ]
    }
   ],
   "source": [
    "print(today1.strftime(\"%Y년%m월%d일 %H:%M\"))\n",
    "print(today2.strftime(\"%Y년%m월%d일 %H:%M\"))"
   ]
  },
  {
   "cell_type": "code",
   "execution_count": 31,
   "id": "3309715e",
   "metadata": {},
   "outputs": [
    {
     "name": "stdout",
     "output_type": "stream",
     "text": [
      "-6 days, 0:00:00\n",
      "-6\n"
     ]
    }
   ],
   "source": [
    "diff = someday - today1\n",
    "print(diff)\n",
    "print(diff.days)"
   ]
  },
  {
   "cell_type": "markdown",
   "id": "015b08c0",
   "metadata": {},
   "source": [
    "# 7.3 시간"
   ]
  },
  {
   "cell_type": "code",
   "execution_count": 33,
   "id": "08fe670f",
   "metadata": {},
   "outputs": [
    {
     "data": {
      "text/plain": [
       "datetime.time(14, 39)"
      ]
     },
     "execution_count": 33,
     "metadata": {},
     "output_type": "execute_result"
    }
   ],
   "source": [
    "# 특정한 시간을 저장하는 time 객체 생성\n",
    "t = time(14,39,0)\n",
    "t"
   ]
  },
  {
   "cell_type": "code",
   "execution_count": 37,
   "id": "d9160f44",
   "metadata": {},
   "outputs": [
    {
     "name": "stdout",
     "output_type": "stream",
     "text": [
      " PM 02:39\n"
     ]
    }
   ],
   "source": [
    "# print(t.strftime(\"%Y년%m월%d일 %p %I:%M\"))\n",
    "print(t.strftime(\" %p %I:%M\"))"
   ]
  },
  {
   "cell_type": "code",
   "execution_count": 38,
   "id": "6b422255",
   "metadata": {},
   "outputs": [
    {
     "name": "stdout",
     "output_type": "stream",
     "text": [
      "14:43:54.985932\n"
     ]
    }
   ],
   "source": [
    "# 현재 시간\n",
    "nowtime =  datetime.now().time()\n",
    "print(nowtime)"
   ]
  },
  {
   "cell_type": "markdown",
   "id": "38599736",
   "metadata": {},
   "source": [
    "# 8절. 연습문제"
   ]
  },
  {
   "cell_type": "code",
   "execution_count": 47,
   "id": "59f31042",
   "metadata": {},
   "outputs": [
    {
     "name": "stdout",
     "output_type": "stream",
     "text": [
      "홍길동님의 나이는 23살입니다\n"
     ]
    }
   ],
   "source": [
    "#1. 이름과 나이 변수를 다음 형식으로 출력하도록 format() 함수를 이용해 형식화하세요\n",
    "#[출력형식 : 홍길동님의 나이는 23살입니다]\n",
    "\n",
    "\n",
    "\n",
    "\n",
    "\n",
    "\n",
    "name = \"홍길동\"\n",
    "age = 23\n",
    "print(name + '님의 나이는 ' + str(age) + '살입니다')"
   ]
  },
  {
   "cell_type": "code",
   "execution_count": 41,
   "id": "b5ad593e",
   "metadata": {},
   "outputs": [
    {
     "name": "stdout",
     "output_type": "stream",
     "text": [
      "첫 번째 정수 입력: 10\n",
      "두 번째 정수 입력: 20\n",
      "덧셈: 30\n",
      "뺄셈: -10\n",
      "곱셈: 200\n",
      "나눗셈: 0.5\n",
      "몫: 0\n",
      "나머지: 10\n"
     ]
    }
   ],
   "source": [
    "#2. 두 정수를 입력받아 두 수의 덧셈, 뺄셈, 곱셈, 나눗셈, 몫, 나머지를 출력하세요\n",
    "\n",
    "\n",
    "\n",
    "\n",
    "a = int(input(\"첫 번째 정수 입력: \"))\n",
    "b = int(input(\"두 번째 정수 입력: \"))\n",
    "print(\"덧셈:\", a + b)\n",
    "print(\"뺄셈:\", a - b)\n",
    "print(\"곱셈:\", a * b)\n",
    "if b != 0:\n",
    "    print(\"나눗셈:\", a / b)\n",
    "    print(\"몫:\", a // b)\n",
    "    print(\"나머지:\", a % b)\n",
    "else:\n",
    "    print(\"나눗셈, 몫, 나머지는 0으로 나눌 수 없습니다.\")"
   ]
  },
  {
   "cell_type": "code",
   "execution_count": 46,
   "id": "316e5fbd",
   "metadata": {},
   "outputs": [
    {
     "name": "stdout",
     "output_type": "stream",
     "text": [
      "World Hello\n"
     ]
    }
   ],
   "source": [
    "#3. 문자열의 분리하기와 합치기 기능을 이용하여 ‘Hello World’가 할당된 변수를 이용하여 ‘World Hello’로 출력하세요\n",
    "\n",
    "\n",
    "\n",
    "\n",
    "\n",
    "text = \"Hello World\"\n",
    "words = text.split()  \n",
    "reversed_text = \" \".join(words[::-1])\n",
    "print(reversed_text)"
   ]
  },
  {
   "cell_type": "code",
   "execution_count": 44,
   "id": "e22f079e",
   "metadata": {},
   "outputs": [
    {
     "name": "stdout",
     "output_type": "stream",
     "text": [
      "bcdefa\n"
     ]
    }
   ],
   "source": [
    "#4. x = 'abcdef＇를 이용하여 ‘bcdefa’로 출력하세요(문자 슬라이싱이용).\n",
    "\n",
    "\n",
    "\n",
    "x = 'abcdef'\n",
    "result = x[1:] + x[0]\n",
    "print(result)"
   ]
  },
  {
   "cell_type": "code",
   "execution_count": 48,
   "id": "c48e95be",
   "metadata": {},
   "outputs": [
    {
     "name": "stdout",
     "output_type": "stream",
     "text": [
      "fedcba\n"
     ]
    }
   ],
   "source": [
    "#5. x = ‘abcdef’를 이용하여 ‘fedcba’로 출력하세요\n",
    "\n",
    "x = 'abcdef'\n",
    "print(x[::-1])"
   ]
  },
  {
   "cell_type": "code",
   "execution_count": null,
   "id": "17c98fbf",
   "metadata": {},
   "outputs": [],
   "source": [
    "#6.오늘의 온도를 섭씨온도로 입력받아 화씨 온도로 변환하는 프로그램을 작성하세요. 화씨 온도는 소수점이 있을 경우만  두번째 자리까지 출력되고, 소수점이하 값이 없는 경우 소수점을 출력하지 않도록 합니다.(다음은 섭씨와 화씨의 변환 공식입니다. C는 섭씨, F는 화씨)\n",
    "C = (F-32) / 1.8\n",
    "F = (C*1.8) + 32![image.png](attachment:image.png)"
   ]
  },
  {
   "cell_type": "code",
   "execution_count": null,
   "id": "b5cd8ea5",
   "metadata": {},
   "outputs": [],
   "source": [
    "#7. 다음 중 변수 선언으로 잘못된 것을 모두 고르시오?\n"
   ]
  },
  {
   "cell_type": "code",
   "execution_count": null,
   "id": "f8715b4e",
   "metadata": {},
   "outputs": [],
   "source": [
    "#8.다음의 코드의 실행결과는?\n"
   ]
  },
  {
   "cell_type": "code",
   "execution_count": null,
   "id": "1776547d",
   "metadata": {},
   "outputs": [],
   "source": [
    "#9.다음 중 파이썬 3.x 버전에서 연산식과 그 결과의 출력이 잘못된 것은?\n"
   ]
  },
  {
   "cell_type": "code",
   "execution_count": null,
   "id": "e529a123",
   "metadata": {},
   "outputs": [],
   "source": [
    "#10.아래 프로그램의 결과는?\n"
   ]
  },
  {
   "cell_type": "code",
   "execution_count": null,
   "id": "b942e82c",
   "metadata": {},
   "outputs": [],
   "source": [
    "#11. split()함수를 이용하여 str_의 값 중 ＂나라＂를 출력하는 프로그램을 완성하시오\n"
   ]
  },
  {
   "cell_type": "code",
   "execution_count": null,
   "id": "89f42479",
   "metadata": {},
   "outputs": [],
   "source": []
  },
  {
   "cell_type": "code",
   "execution_count": null,
   "id": "2e0e6083",
   "metadata": {},
   "outputs": [],
   "source": []
  },
  {
   "cell_type": "code",
   "execution_count": null,
   "id": "49941b44",
   "metadata": {},
   "outputs": [],
   "source": []
  },
  {
   "cell_type": "code",
   "execution_count": null,
   "id": "04ab16bd",
   "metadata": {},
   "outputs": [],
   "source": []
  },
  {
   "cell_type": "code",
   "execution_count": null,
   "id": "aa090ff9",
   "metadata": {},
   "outputs": [],
   "source": []
  },
  {
   "cell_type": "code",
   "execution_count": null,
   "id": "2ee6052a",
   "metadata": {},
   "outputs": [],
   "source": []
  },
  {
   "cell_type": "code",
   "execution_count": null,
   "id": "cea07eae",
   "metadata": {},
   "outputs": [],
   "source": []
  },
  {
   "cell_type": "code",
   "execution_count": null,
   "id": "55e1c249",
   "metadata": {},
   "outputs": [],
   "source": []
  },
  {
   "cell_type": "code",
   "execution_count": null,
   "id": "241cd798",
   "metadata": {},
   "outputs": [],
   "source": []
  },
  {
   "cell_type": "code",
   "execution_count": null,
   "id": "2c29c663",
   "metadata": {},
   "outputs": [],
   "source": []
  },
  {
   "cell_type": "code",
   "execution_count": null,
   "id": "826a8f9c",
   "metadata": {},
   "outputs": [],
   "source": []
  },
  {
   "cell_type": "code",
   "execution_count": null,
   "id": "7fc72c53",
   "metadata": {},
   "outputs": [],
   "source": []
  },
  {
   "cell_type": "code",
   "execution_count": null,
   "id": "f4e0c2c0",
   "metadata": {},
   "outputs": [],
   "source": []
  },
  {
   "cell_type": "code",
   "execution_count": null,
   "id": "fad10ceb",
   "metadata": {},
   "outputs": [],
   "source": []
  },
  {
   "cell_type": "code",
   "execution_count": null,
   "id": "9bf15707",
   "metadata": {},
   "outputs": [],
   "source": []
  },
  {
   "cell_type": "code",
   "execution_count": null,
   "id": "3452f053",
   "metadata": {},
   "outputs": [],
   "source": []
  },
  {
   "cell_type": "code",
   "execution_count": null,
   "id": "db8d0293",
   "metadata": {},
   "outputs": [],
   "source": []
  },
  {
   "cell_type": "code",
   "execution_count": null,
   "id": "eb6ba5c3",
   "metadata": {},
   "outputs": [],
   "source": []
  },
  {
   "cell_type": "code",
   "execution_count": null,
   "id": "980a987d",
   "metadata": {},
   "outputs": [],
   "source": []
  },
  {
   "cell_type": "code",
   "execution_count": null,
   "id": "31a36a8f",
   "metadata": {},
   "outputs": [],
   "source": []
  },
  {
   "cell_type": "code",
   "execution_count": null,
   "id": "4d977a63",
   "metadata": {},
   "outputs": [],
   "source": []
  },
  {
   "cell_type": "code",
   "execution_count": null,
   "id": "e31f7340",
   "metadata": {},
   "outputs": [],
   "source": []
  },
  {
   "cell_type": "code",
   "execution_count": null,
   "id": "25b31869",
   "metadata": {},
   "outputs": [],
   "source": []
  },
  {
   "cell_type": "code",
   "execution_count": null,
   "id": "c9e75697",
   "metadata": {},
   "outputs": [],
   "source": []
  },
  {
   "cell_type": "code",
   "execution_count": null,
   "id": "1ea67a18",
   "metadata": {},
   "outputs": [],
   "source": []
  },
  {
   "cell_type": "code",
   "execution_count": null,
   "id": "67d60b3d",
   "metadata": {},
   "outputs": [],
   "source": []
  },
  {
   "cell_type": "code",
   "execution_count": null,
   "id": "fc29c3eb",
   "metadata": {},
   "outputs": [],
   "source": []
  },
  {
   "cell_type": "code",
   "execution_count": null,
   "id": "c5cab8cc",
   "metadata": {},
   "outputs": [],
   "source": []
  },
  {
   "cell_type": "code",
   "execution_count": null,
   "id": "511d815b",
   "metadata": {},
   "outputs": [],
   "source": []
  },
  {
   "cell_type": "code",
   "execution_count": null,
   "id": "427688ec",
   "metadata": {},
   "outputs": [],
   "source": []
  },
  {
   "cell_type": "code",
   "execution_count": null,
   "id": "93ffb187",
   "metadata": {},
   "outputs": [],
   "source": []
  },
  {
   "cell_type": "code",
   "execution_count": null,
   "id": "fac858d6",
   "metadata": {},
   "outputs": [],
   "source": []
  },
  {
   "cell_type": "code",
   "execution_count": null,
   "id": "46ed464a",
   "metadata": {},
   "outputs": [],
   "source": []
  },
  {
   "cell_type": "code",
   "execution_count": null,
   "id": "f578a432",
   "metadata": {},
   "outputs": [],
   "source": []
  },
  {
   "cell_type": "code",
   "execution_count": null,
   "id": "9001f7ac",
   "metadata": {},
   "outputs": [],
   "source": []
  },
  {
   "cell_type": "code",
   "execution_count": null,
   "id": "0a80c42f",
   "metadata": {},
   "outputs": [],
   "source": []
  },
  {
   "cell_type": "code",
   "execution_count": null,
   "id": "a7c4c246",
   "metadata": {},
   "outputs": [],
   "source": []
  },
  {
   "cell_type": "code",
   "execution_count": null,
   "id": "954a8231",
   "metadata": {},
   "outputs": [],
   "source": []
  },
  {
   "cell_type": "code",
   "execution_count": null,
   "id": "197f1289",
   "metadata": {},
   "outputs": [],
   "source": []
  },
  {
   "cell_type": "code",
   "execution_count": null,
   "id": "bd9aff07",
   "metadata": {},
   "outputs": [],
   "source": []
  },
  {
   "cell_type": "code",
   "execution_count": null,
   "id": "32a0d7bf",
   "metadata": {},
   "outputs": [],
   "source": []
  },
  {
   "cell_type": "code",
   "execution_count": null,
   "id": "73efc21c",
   "metadata": {},
   "outputs": [],
   "source": []
  },
  {
   "cell_type": "code",
   "execution_count": null,
   "id": "e0b2ad50",
   "metadata": {},
   "outputs": [],
   "source": []
  },
  {
   "cell_type": "code",
   "execution_count": null,
   "id": "b91e132d",
   "metadata": {},
   "outputs": [],
   "source": []
  },
  {
   "cell_type": "code",
   "execution_count": null,
   "id": "7fcfce39",
   "metadata": {},
   "outputs": [],
   "source": []
  },
  {
   "cell_type": "code",
   "execution_count": null,
   "id": "15047d75",
   "metadata": {},
   "outputs": [],
   "source": []
  },
  {
   "cell_type": "code",
   "execution_count": null,
   "id": "e9500c8e",
   "metadata": {},
   "outputs": [],
   "source": []
  },
  {
   "cell_type": "code",
   "execution_count": null,
   "id": "32398a80",
   "metadata": {},
   "outputs": [],
   "source": []
  },
  {
   "cell_type": "code",
   "execution_count": null,
   "id": "d3cadadc",
   "metadata": {},
   "outputs": [],
   "source": []
  },
  {
   "cell_type": "code",
   "execution_count": null,
   "id": "7c5935f7",
   "metadata": {},
   "outputs": [],
   "source": []
  },
  {
   "cell_type": "code",
   "execution_count": null,
   "id": "cc081840",
   "metadata": {},
   "outputs": [],
   "source": []
  },
  {
   "cell_type": "code",
   "execution_count": null,
   "id": "9f59714e",
   "metadata": {},
   "outputs": [],
   "source": []
  },
  {
   "cell_type": "code",
   "execution_count": null,
   "id": "ab453241",
   "metadata": {},
   "outputs": [],
   "source": []
  },
  {
   "cell_type": "code",
   "execution_count": null,
   "id": "069f5b7d",
   "metadata": {},
   "outputs": [],
   "source": []
  },
  {
   "cell_type": "code",
   "execution_count": null,
   "id": "25e09772",
   "metadata": {},
   "outputs": [],
   "source": []
  },
  {
   "cell_type": "code",
   "execution_count": null,
   "id": "389d9127",
   "metadata": {},
   "outputs": [],
   "source": []
  },
  {
   "cell_type": "code",
   "execution_count": null,
   "id": "b89dce6c",
   "metadata": {},
   "outputs": [],
   "source": []
  },
  {
   "cell_type": "code",
   "execution_count": null,
   "id": "f1e0912a",
   "metadata": {},
   "outputs": [],
   "source": []
  },
  {
   "cell_type": "code",
   "execution_count": null,
   "id": "2d2ef68c",
   "metadata": {},
   "outputs": [],
   "source": []
  },
  {
   "cell_type": "code",
   "execution_count": null,
   "id": "5d29be23",
   "metadata": {},
   "outputs": [],
   "source": []
  },
  {
   "cell_type": "code",
   "execution_count": null,
   "id": "5fe4d2aa",
   "metadata": {},
   "outputs": [],
   "source": []
  },
  {
   "cell_type": "code",
   "execution_count": null,
   "id": "a22b110b",
   "metadata": {},
   "outputs": [],
   "source": []
  },
  {
   "cell_type": "code",
   "execution_count": null,
   "id": "da343913",
   "metadata": {},
   "outputs": [],
   "source": []
  },
  {
   "cell_type": "code",
   "execution_count": null,
   "id": "c28a950c",
   "metadata": {},
   "outputs": [],
   "source": []
  },
  {
   "cell_type": "code",
   "execution_count": null,
   "id": "aa1f9b6e",
   "metadata": {},
   "outputs": [],
   "source": []
  },
  {
   "cell_type": "code",
   "execution_count": null,
   "id": "49b1a990",
   "metadata": {},
   "outputs": [],
   "source": []
  },
  {
   "cell_type": "code",
   "execution_count": null,
   "id": "aacba895",
   "metadata": {},
   "outputs": [],
   "source": []
  },
  {
   "cell_type": "code",
   "execution_count": null,
   "id": "b18b2478",
   "metadata": {},
   "outputs": [],
   "source": []
  },
  {
   "cell_type": "code",
   "execution_count": null,
   "id": "76b64c54",
   "metadata": {},
   "outputs": [],
   "source": []
  },
  {
   "cell_type": "code",
   "execution_count": null,
   "id": "c3399578",
   "metadata": {},
   "outputs": [],
   "source": []
  },
  {
   "cell_type": "code",
   "execution_count": null,
   "id": "9c5948fa",
   "metadata": {},
   "outputs": [],
   "source": []
  },
  {
   "cell_type": "code",
   "execution_count": null,
   "id": "af97308c",
   "metadata": {},
   "outputs": [],
   "source": []
  },
  {
   "cell_type": "code",
   "execution_count": null,
   "id": "0a31ff76",
   "metadata": {},
   "outputs": [],
   "source": []
  },
  {
   "cell_type": "code",
   "execution_count": null,
   "id": "c79bf03d",
   "metadata": {},
   "outputs": [],
   "source": []
  },
  {
   "cell_type": "code",
   "execution_count": null,
   "id": "06cbd3e0",
   "metadata": {},
   "outputs": [],
   "source": []
  },
  {
   "cell_type": "code",
   "execution_count": null,
   "id": "4025a809",
   "metadata": {},
   "outputs": [],
   "source": []
  },
  {
   "cell_type": "code",
   "execution_count": null,
   "id": "d51952ca",
   "metadata": {},
   "outputs": [],
   "source": []
  },
  {
   "cell_type": "code",
   "execution_count": null,
   "id": "8fe4f951",
   "metadata": {},
   "outputs": [],
   "source": []
  },
  {
   "cell_type": "code",
   "execution_count": null,
   "id": "0c058649",
   "metadata": {},
   "outputs": [],
   "source": []
  }
 ],
 "metadata": {
  "kernelspec": {
   "display_name": "Python 3 (ipykernel)",
   "language": "python",
   "name": "python3"
  },
  "language_info": {
   "codemirror_mode": {
    "name": "ipython",
    "version": 3
   },
   "file_extension": ".py",
   "mimetype": "text/x-python",
   "name": "python",
   "nbconvert_exporter": "python",
   "pygments_lexer": "ipython3",
   "version": "3.10.9"
  },
  "toc": {
   "base_numbering": 1,
   "nav_menu": {},
   "number_sections": false,
   "sideBar": true,
   "skip_h1_title": false,
   "title_cell": "Table of Contents",
   "title_sidebar": "Contents",
   "toc_cell": false,
   "toc_position": {
    "height": "calc(100% - 180px)",
    "left": "10px",
    "top": "150px",
    "width": "306.712px"
   },
   "toc_section_display": true,
   "toc_window_display": true
  }
 },
 "nbformat": 4,
 "nbformat_minor": 5
}
