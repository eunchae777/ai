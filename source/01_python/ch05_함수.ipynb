{
 "cells": [
  {
   "cell_type": "code",
   "execution_count": 1,
   "id": "1277e013",
   "metadata": {},
   "outputs": [
    {
     "data": {
      "text/html": [
       "\n",
       "<style>\n",
       "div.container{width:90% !important;}\n",
       "div.cell.code_cell.rendered{width:100%;}\n",
       "div.input_prompt{padding:0px;}\n",
       "div.CodeMirror {font-family:Consolas; font-size:12pt;}\n",
       "div.text_cell_render.rendered_html{font-size:12pt;}\n",
       "div.output {font-size:12pt; font-weight:bold;}\n",
       "div.input {font-family:Consolas; font-size:12pt;}\n",
       "div.prompt {min-width:70px;}\n",
       "div#toc-wrapper{padding-top:120px;}\n",
       "div.text_cell_render ul li{font-size:12pt;padding:5px;}\n",
       "table.dataframe{font-size:12px;}\n",
       "</style>\n"
      ],
      "text/plain": [
       "<IPython.core.display.HTML object>"
      ]
     },
     "metadata": {},
     "output_type": "display_data"
    }
   ],
   "source": [
    "from IPython.display import display, HTML\n",
    "display(HTML(\"\"\"\n",
    "<style>\n",
    "div.container{width:90% !important;}\n",
    "div.cell.code_cell.rendered{width:100%;}\n",
    "div.input_prompt{padding:0px;}\n",
    "div.CodeMirror {font-family:Consolas; font-size:12pt;}\n",
    "div.text_cell_render.rendered_html{font-size:12pt;}\n",
    "div.output {font-size:12pt; font-weight:bold;}\n",
    "div.input {font-family:Consolas; font-size:12pt;}\n",
    "div.prompt {min-width:70px;}\n",
    "div#toc-wrapper{padding-top:120px;}\n",
    "div.text_cell_render ul li{font-size:12pt;padding:5px;}\n",
    "table.dataframe{font-size:12px;}\n",
    "</style>\n",
    "\"\"\"))"
   ]
  },
  {
   "cell_type": "markdown",
   "id": "f11a7549",
   "metadata": {},
   "source": [
    "<b><font size=\"7\" color=\"red\">ch05. 함수</font></b>\n",
    "- 반복해서 사용할 코드를 묶어 놓고 그것에 이름을 붙인 것\n",
    "- 오버로딩 불가(같은 이름의 함수 덮어씀)\n",
    "- 함수 정의\n",
    "```\n",
    "def 함수명([매개변수1, 매개변수2, ..]): \n",
    "    명령어1\n",
    "    명령어2....\n",
    "    \n",
    "```\n",
    "# 1절 함수의 정의 및 사용\n",
    "## 1.1 함수정의"
   ]
  },
  {
   "cell_type": "code",
   "execution_count": 2,
   "id": "3e73b589",
   "metadata": {},
   "outputs": [],
   "source": [
    "def my_massage(x, msg): # msg를 x번 출력하는 함수 정의\n",
    "    for i in range(x): \n",
    "        print(i, msg)"
   ]
  },
  {
   "cell_type": "code",
   "execution_count": 3,
   "id": "24674fc7",
   "metadata": {},
   "outputs": [
    {
     "name": "stdout",
     "output_type": "stream",
     "text": [
      "0 Hello\n",
      "1 Hello\n",
      "2 Hello\n"
     ]
    }
   ],
   "source": [
    "# 함수 사용 == 함수 호출\n",
    "my_massage(3, 'Hello')"
   ]
  },
  {
   "cell_type": "code",
   "execution_count": 4,
   "id": "c1bfe436",
   "metadata": {},
   "outputs": [
    {
     "name": "stdout",
     "output_type": "stream",
     "text": [
      "0 Hello\n",
      "1 Hello\n",
      "0 Python\n",
      "1 Python\n",
      "2 Python\n"
     ]
    }
   ],
   "source": [
    "# 함수 이름 변경\n",
    "my_msg = my_massage\n",
    "my_massage(2, 'Hello')\n",
    "my_msg(3, 'Python')"
   ]
  },
  {
   "cell_type": "code",
   "execution_count": 5,
   "id": "c62a55a8",
   "metadata": {},
   "outputs": [
    {
     "data": {
      "text/plain": [
       "(function, function)"
      ]
     },
     "execution_count": 5,
     "metadata": {},
     "output_type": "execute_result"
    }
   ],
   "source": [
    "type(my_msg), type(my_massage)"
   ]
  },
  {
   "cell_type": "code",
   "execution_count": 6,
   "id": "cdc4a4c6",
   "metadata": {},
   "outputs": [
    {
     "name": "stdout",
     "output_type": "stream",
     "text": [
      "Hello\n"
     ]
    }
   ],
   "source": [
    "print('Hello')# 파이썬 내장 함수(import 하지 않고 사용할 수 있는 함수)\n",
    "print = 5\n",
    "# print('Hello')\n"
   ]
  },
  {
   "cell_type": "code",
   "execution_count": 7,
   "id": "b84611d6",
   "metadata": {},
   "outputs": [
    {
     "name": "stdout",
     "output_type": "stream",
     "text": [
      "Hello\n"
     ]
    }
   ],
   "source": [
    "del print\n",
    "print('Hello')"
   ]
  },
  {
   "cell_type": "code",
   "execution_count": 8,
   "id": "466f830b",
   "metadata": {},
   "outputs": [
    {
     "name": "stdout",
     "output_type": "stream",
     "text": [
      "0 Hello\n",
      "1 Hello\n"
     ]
    }
   ],
   "source": [
    "my_massage(2, 'Hello')"
   ]
  },
  {
   "cell_type": "code",
   "execution_count": 9,
   "id": "f7dc2056",
   "metadata": {},
   "outputs": [
    {
     "name": "stdout",
     "output_type": "stream",
     "text": [
      "0 Hello\n",
      "1 Hello\n"
     ]
    }
   ],
   "source": [
    "my_massage = 5\n",
    "my_msg(2, 'Hello')"
   ]
  },
  {
   "cell_type": "code",
   "execution_count": 10,
   "id": "cbd6efe1",
   "metadata": {},
   "outputs": [
    {
     "ename": "TypeError",
     "evalue": "'int' object is not callable",
     "output_type": "error",
     "traceback": [
      "\u001b[1;31m---------------------------------------------------------------------------\u001b[0m",
      "\u001b[1;31mTypeError\u001b[0m                                 Traceback (most recent call last)",
      "Cell \u001b[1;32mIn[10], line 1\u001b[0m\n\u001b[1;32m----> 1\u001b[0m \u001b[43mmy_massage\u001b[49m\u001b[43m(\u001b[49m\u001b[38;5;241;43m2\u001b[39;49m\u001b[43m,\u001b[49m\u001b[43m \u001b[49m\u001b[38;5;124;43m'\u001b[39;49m\u001b[38;5;124;43mHello\u001b[39;49m\u001b[38;5;124;43m'\u001b[39;49m\u001b[43m)\u001b[49m\n",
      "\u001b[1;31mTypeError\u001b[0m: 'int' object is not callable"
     ]
    }
   ],
   "source": [
    "my_massage(2, 'Hello')"
   ]
  },
  {
   "cell_type": "code",
   "execution_count": null,
   "id": "65491069",
   "metadata": {},
   "outputs": [],
   "source": [
    "del my_massage # 변수 및 함수 제거하여도\n",
    "my_massage(2, 'Hello')# 사용자 정의함수, 라이브러리 함수는 del하여도 사용불가"
   ]
  },
  {
   "cell_type": "code",
   "execution_count": null,
   "id": "48ceac35",
   "metadata": {},
   "outputs": [],
   "source": [
    "# 함수 중복 정의 불가(오버로딘 불가)\n",
    "def my_hello():\n",
    "    print('Hello Python')\n",
    "    print('Hello World')\n",
    "def my_hello(cnt): # cnt번 출력\n",
    "    for i in range(cnt):\n",
    "        print('Hello, Python', end=\"\\t\")\n",
    "        print('Hello, World')"
   ]
  },
  {
   "cell_type": "code",
   "execution_count": null,
   "id": "8b545504",
   "metadata": {},
   "outputs": [],
   "source": [
    "my_hello()"
   ]
  },
  {
   "cell_type": "code",
   "execution_count": null,
   "id": "8eed0b72",
   "metadata": {},
   "outputs": [],
   "source": [
    "my_hello(2)"
   ]
  },
  {
   "cell_type": "code",
   "execution_count": null,
   "id": "43b6726b",
   "metadata": {},
   "outputs": [],
   "source": [
    "my_hello"
   ]
  },
  {
   "cell_type": "code",
   "execution_count": null,
   "id": "3fcd96d9",
   "metadata": {},
   "outputs": [],
   "source": [
    "__name__"
   ]
  },
  {
   "cell_type": "code",
   "execution_count": null,
   "id": "1f0e160a",
   "metadata": {},
   "outputs": [],
   "source": [
    "if __name__ == '__main__':\n",
    "    my_hello(2)"
   ]
  },
  {
   "cell_type": "code",
   "execution_count": null,
   "id": "caf54ae1",
   "metadata": {},
   "outputs": [],
   "source": [
    "from ch05 import my_hello # ch05모듈안의 my_hello만 메모리 로드"
   ]
  },
  {
   "cell_type": "code",
   "execution_count": null,
   "id": "b62991f6",
   "metadata": {},
   "outputs": [],
   "source": [
    "ch05.my_hello(3)"
   ]
  },
  {
   "cell_type": "markdown",
   "id": "219473db",
   "metadata": {},
   "source": [
    "## 1.2 docstring"
   ]
  },
  {
   "cell_type": "code",
   "execution_count": null,
   "id": "3c6e6c24",
   "metadata": {},
   "outputs": [],
   "source": [
    "def my_function():\n",
    "    \"\"\"\n",
    "    함수의 첫 라인에 독스트링을 포함할 수 있습니다\n",
    "    독스트링은 함수의 설명서를 달아주는 역할\n",
    "    주석보다 많은 기능(함수 호출시 shift+tab으로 독스트링을 볼 수 있음)\n",
    "    \"\"\"\n",
    "    pass"
   ]
  },
  {
   "cell_type": "code",
   "execution_count": null,
   "id": "5936520d",
   "metadata": {},
   "outputs": [],
   "source": [
    "print(my_function.__doc__)"
   ]
  },
  {
   "cell_type": "code",
   "execution_count": null,
   "id": "ee5eff77",
   "metadata": {},
   "outputs": [],
   "source": [
    "def fibonacci(n):\n",
    "    '''\n",
    "    매개변수로 들어온 n값 미만의 피보나치 수열을 출력하는 함수\n",
    "    ex. n=10 : 0 1 1 2 3 5 8\n",
    "       n=100 : 0 1 1 2 3 5 8 13 21 34 55 89\n",
    "    '''\n",
    "    a, b = 0, 1 # 함수 내에 선언한 변수 : 지역변수 (반:전역변수)\n",
    "    while a < n:\n",
    "        print(a, end= ' ')\n",
    "        a, b = b, a+b\n",
    "    print() # 개행"
   ]
  },
  {
   "cell_type": "code",
   "execution_count": null,
   "id": "525823b5",
   "metadata": {},
   "outputs": [],
   "source": [
    "fibonacci(10000)"
   ]
  },
  {
   "cell_type": "code",
   "execution_count": null,
   "id": "1a6d20ce",
   "metadata": {},
   "outputs": [],
   "source": [
    "a, b # 지역변수는 함수내에서만 사용가능"
   ]
  },
  {
   "cell_type": "markdown",
   "id": "b6369046",
   "metadata": {},
   "source": [
    "## 1.3 지역변수(local var)와 전역변수(global var)"
   ]
  },
  {
   "cell_type": "code",
   "execution_count": null,
   "id": "e7813fc3",
   "metadata": {},
   "outputs": [],
   "source": [
    "global_var = 100\n",
    "def func1():\n",
    "    print('함수안 :', global_var)\n",
    "func1()\n",
    "print('함수밖 :', global_var)"
   ]
  },
  {
   "cell_type": "code",
   "execution_count": null,
   "id": "902473fb",
   "metadata": {},
   "outputs": [],
   "source": [
    "def func2():\n",
    "    local_var = 200 # 지역변수(함수내에서 할당)\n",
    "    print('함수안 :', local_var)\n",
    "func2()"
   ]
  },
  {
   "cell_type": "code",
   "execution_count": null,
   "id": "57798ad2",
   "metadata": {},
   "outputs": [],
   "source": [
    "# print('함수밖에서 지역변수 :', local_var) # 에러"
   ]
  },
  {
   "cell_type": "code",
   "execution_count": null,
   "id": "accf3ebb",
   "metadata": {},
   "outputs": [],
   "source": [
    "g_var = 100 # 전역변수\n",
    "def func3():\n",
    "    g_var = 200 # 지역변수 (함수내에서 할당)\n",
    "    print('지역변수 g_var :', g_var)\n",
    "func3()\n",
    "print('전역변수 g_var :', g_var)"
   ]
  },
  {
   "cell_type": "code",
   "execution_count": null,
   "id": "94155674",
   "metadata": {},
   "outputs": [],
   "source": [
    "# 렉시컬 특성 : 변수가 어디서 선언되었는지에 따라\n",
    "# 변수의 범위가 정해짐(지역vs전역)\n",
    "g_var = 100 # 전역변수\n",
    "def func3():\n",
    "    g_var = 200 # 지역변수 (함수내에서 할당)\n",
    "    print('지역변수 g_var :', g_var)\n",
    "func3()\n",
    "print('전역변수 g_var :', g_var)"
   ]
  },
  {
   "cell_type": "code",
   "execution_count": null,
   "id": "10a50bee",
   "metadata": {},
   "outputs": [],
   "source": [
    "# 렉시컬 특성 \n",
    "g_var = 100 # 전역변수\n",
    "def func3():\n",
    "    global g_var # 함수내에서의 g_var는 전역변수를 쓰겠다\n",
    "    print('전역변수 g_var :', g_var)\n",
    "    g_var = 200 # 전역변수 g_var에 200할당\n",
    "func3()\n",
    "print('전역변수 g_var :', g_var)"
   ]
  },
  {
   "cell_type": "markdown",
   "id": "a57e4335",
   "metadata": {},
   "source": [
    "## 1.4 값에 의한 호출\n",
    "- 함수에 인수로 전달되는 변수가 스칼라변수(문자, 숫자, 논리형)일 때"
   ]
  },
  {
   "cell_type": "code",
   "execution_count": null,
   "id": "672a5c6b",
   "metadata": {},
   "outputs": [],
   "source": [
    "foo = 'a' # 전역변수\n",
    "id(foo)"
   ]
  },
  {
   "cell_type": "code",
   "execution_count": null,
   "id": "152a141d",
   "metadata": {},
   "outputs": [],
   "source": [
    "def func1(f): # 매개변수는 지역변수\n",
    "    print('Brfore :', f, '의 주소는 ', id(f))\n",
    "    f = f*3\n",
    "    print('After :', f, '의 주소는 ', id(f))\n",
    "func1(foo)"
   ]
  },
  {
   "cell_type": "code",
   "execution_count": null,
   "id": "921c1c68",
   "metadata": {},
   "outputs": [],
   "source": [
    "print('foo = ', foo, '의 주소는', id(foo))"
   ]
  },
  {
   "cell_type": "markdown",
   "id": "a8b3947a",
   "metadata": {},
   "source": [
    "## 1.5 참조에 의한 호출\n",
    "- 함수에 인수로 전달되는 변수가 리스트, 튜플, 셋, 딕셔너리, 기타 객체일 경우"
   ]
  },
  {
   "cell_type": "code",
   "execution_count": null,
   "id": "7099bc45",
   "metadata": {},
   "outputs": [],
   "source": [
    "L = [1, 2, 3, 4, 5]\n",
    "id(L)"
   ]
  },
  {
   "cell_type": "code",
   "execution_count": null,
   "id": "58ab4e51",
   "metadata": {},
   "outputs": [],
   "source": [
    "def func2(f): # 매개변수는 지역변수\n",
    "    print('Brfore :', f, '의 주소는 ', id(f))\n",
    "    f.append(6)\n",
    "    print('After :', f, '의 주소는 ', id(f))\n",
    "func2(L)"
   ]
  },
  {
   "cell_type": "code",
   "execution_count": null,
   "id": "8b2d0e57",
   "metadata": {},
   "outputs": [],
   "source": [
    "print('L=', L, '의 주소는', id(L))"
   ]
  },
  {
   "cell_type": "markdown",
   "id": "ea0a9416",
   "metadata": {},
   "source": [
    "# 2절 함수의 실행 결과를 반환하는 return"
   ]
  },
  {
   "cell_type": "code",
   "execution_count": null,
   "id": "230ab7c5",
   "metadata": {},
   "outputs": [],
   "source": [
    "def fibonacci_print(n):\n",
    "    '매개변수로 들어온 n값 미만의 피보나치 수열을 출력하는 함수'\n",
    "    a, b = 0, 1 # 함수 내에 선언한 변수 : 지역변수 (반:전역변수)\n",
    "    while a < n:\n",
    "        print(a, end= ' ')\n",
    "        a, b = b, a+b\n",
    "    print() # 개행\n",
    "def fibonacci(n):\n",
    "    \"n미만의 피보나치수열을 리스트로 return\"\n",
    "    result = [] # 피보나치수열을 append할 리스트\n",
    "    a, b = 0, 1\n",
    "    while a<n:\n",
    "        result.append(a) # 리스트에 append\n",
    "        a, b = b, a+b\n",
    "    return result"
   ]
  },
  {
   "cell_type": "code",
   "execution_count": null,
   "id": "700ea657",
   "metadata": {},
   "outputs": [],
   "source": [
    "x = fibonacci(10)\n",
    "print(x)\n",
    "print(type(x))"
   ]
  },
  {
   "cell_type": "code",
   "execution_count": null,
   "id": "03246765",
   "metadata": {},
   "outputs": [],
   "source": [
    "x = fibonacci_print(10)\n",
    "print('x=',x)\n",
    "print(type(x))"
   ]
  },
  {
   "cell_type": "markdown",
   "id": "39169d12",
   "metadata": {},
   "source": [
    "### 여러개 값 return\n",
    "- 여러개값을 갖는 투플로 return"
   ]
  },
  {
   "cell_type": "code",
   "execution_count": null,
   "id": "9bbf9763",
   "metadata": {},
   "outputs": [],
   "source": [
    "def swap(a, b):\n",
    "    '매개변수의 순서를 바꿔서 return'\n",
    "    return b, a # return (b, a)"
   ]
  },
  {
   "cell_type": "code",
   "execution_count": null,
   "id": "9e03815d",
   "metadata": {},
   "outputs": [],
   "source": [
    "x = 5; y = 10\n",
    "print('함수 실행 전 x, y =', x, y)\n",
    "x, y = swap(x, y)\n",
    "print('함수 실행 후 x, y =', x, y)"
   ]
  },
  {
   "cell_type": "markdown",
   "id": "a0cec41c",
   "metadata": {},
   "source": [
    "# 3절 함수의 매개변수 ★\n",
    "## 3.1 기본값을 갖는 매개변수\n"
   ]
  },
  {
   "cell_type": "code",
   "execution_count": null,
   "id": "4797b663",
   "metadata": {},
   "outputs": [],
   "source": [
    "def make_url(ip, port=80): # 순서인수 > 기본값을 갖는 매개변수\n",
    "    return \"http://{}:{}\".format(ip, port)"
   ]
  },
  {
   "cell_type": "code",
   "execution_count": null,
   "id": "596ee2ec",
   "metadata": {},
   "outputs": [],
   "source": [
    "print(make_url(\"localhost\", 8090))\n",
    "print(make_url(\"www.naver.com\"))\n",
    "print(make_url(port=9090, ip=\"localhost\"))"
   ]
  },
  {
   "cell_type": "code",
   "execution_count": null,
   "id": "0f3f8c3c",
   "metadata": {},
   "outputs": [],
   "source": [
    "# def make_url(port=80, ip): # 순서인수 > 기본값을 갖는 매개변수\n",
    "#     return \"http://{}:{}\".format(ip, port)"
   ]
  },
  {
   "cell_type": "markdown",
   "id": "cc52d54d",
   "metadata": {},
   "source": [
    "## 3.2 기본변수를 기본값으로 갖는 매개변수\n",
    "- 기본변수가 스칼라변수(문자, 숫자, 논리형)일 때\n",
    "- 기본변수가 리스트, 셋, 딕셔너리, 기타 객체일때"
   ]
  },
  {
   "cell_type": "code",
   "execution_count": null,
   "id": "e5edafc3",
   "metadata": {},
   "outputs": [],
   "source": [
    "i = 80\n",
    "# 기본변수가 스칼라변수일 때 : 함수가 정의되는 시점으로 기본값 셋팅\n",
    "def make_url(ip, port=80)\n",
    "    return \"http://{}:{}\".format(ip, port)"
   ]
  },
  {
   "cell_type": "code",
   "execution_count": null,
   "id": "26591d59",
   "metadata": {},
   "outputs": [],
   "source": [
    "i = 90\n",
    "make_url(\"localhost\")"
   ]
  },
  {
   "cell_type": "code",
   "execution_count": null,
   "id": "902cf15e",
   "metadata": {},
   "outputs": [],
   "source": [
    "list_ = []\n",
    "# 기본변수가 리스트, 셋, 딕셔너리, 객체일 때 : 함수가 실행되는 시점으오 기본값 셋팅\n",
    "def func3(a, L=list_):\n",
    "    L.append(a)\n",
    "    return L\n",
    "print(func3(10))"
   ]
  },
  {
   "cell_type": "code",
   "execution_count": null,
   "id": "ae6cd370",
   "metadata": {},
   "outputs": [],
   "source": [
    "print(func3(30))"
   ]
  },
  {
   "cell_type": "code",
   "execution_count": null,
   "id": "6279f037",
   "metadata": {},
   "outputs": [],
   "source": [
    "print(\"list_=\", list_)"
   ]
  },
  {
   "cell_type": "code",
   "execution_count": null,
   "id": "0245fbbd",
   "metadata": {},
   "outputs": [],
   "source": [
    "print(func3(50))"
   ]
  },
  {
   "cell_type": "code",
   "execution_count": null,
   "id": "a6ef8df1",
   "metadata": {},
   "outputs": [],
   "source": [
    "# 실행 할 때마다 l을 공유하는게 싫으면\n",
    "def func3(a, L=None):\n",
    "    if L is None:\n",
    "        L =[]\n",
    "    L.append(a)\n",
    "    return L\n",
    "print(func3(10))\n",
    "print(func3(10))\n",
    "print(func3(10))\n",
    "print(func3(10, [1,2,3]))"
   ]
  },
  {
   "cell_type": "markdown",
   "id": "fc2f9f55",
   "metadata": {},
   "source": [
    "## 3.3 순서인수,키워드인수\n",
    "- 순서인수 : 함수에 정의된 순서대로 전달방식\n",
    "- 키워드인수 : 인수의 이름을 명시하는 방식\n",
    "- 함수 정의시 순서인수와 키워드인수를 같이 올 때는 순서인수 > 키워드인수 순으로"
   ]
  },
  {
   "cell_type": "code",
   "execution_count": null,
   "id": "2f4c4148",
   "metadata": {},
   "outputs": [],
   "source": [
    "def func3(a, L=None):\n",
    "    if L is None:\n",
    "        L =[]\n",
    "    L.append(a)\n",
    "    return L"
   ]
  },
  {
   "cell_type": "code",
   "execution_count": null,
   "id": "827767b8",
   "metadata": {},
   "outputs": [],
   "source": [
    "lst =[]\n",
    "print(func3(10, lst))     # 순서인수 : 함수 정의된 순서대로 전달하는 방식\n",
    "print(func3(L=lst, a=20)) # 키워드인수 : 인수의 이름을 명시하여 전달하는 방식"
   ]
  },
  {
   "cell_type": "markdown",
   "id": "b70c57d0",
   "metadata": {},
   "source": [
    "## 3.4 튜플매개변수를 이용한 가변인수 설정\n",
    "- 가변인수 : 매개변수의 갯수가 가변"
   ]
  },
  {
   "cell_type": "code",
   "execution_count": null,
   "id": "8bb080e8",
   "metadata": {},
   "outputs": [],
   "source": [
    "# 파이썬은 함수의 종복정의(오버로딩)을 지원하지 않음\n",
    "def add(a, b):\n",
    "    return a+b\n",
    "def add(a, b, c):\n",
    "    return a+b+c"
   ]
  },
  {
   "cell_type": "code",
   "execution_count": null,
   "id": "0f3eccd7",
   "metadata": {},
   "outputs": [],
   "source": [
    "add(3, 5, 2)"
   ]
  },
  {
   "cell_type": "code",
   "execution_count": null,
   "id": "d77d5048",
   "metadata": {},
   "outputs": [],
   "source": [
    "# args앞에 * : args가 튜플로 전달받는다\n",
    "def add(*args):\n",
    "    # print('args =', args)\n",
    "    '전달받은 매개변수들의 합을 return. 매개변수가 없는 경우 0을 return'\n",
    "    sum  = 0 # 누적변수\n",
    "    for num in args:\n",
    "        sum += num # sum = sum+num\n",
    "    return sum "
   ]
  },
  {
   "cell_type": "code",
   "execution_count": null,
   "id": "cec892ad",
   "metadata": {},
   "outputs": [],
   "source": [
    "print(add())\n",
    "print(add(1))\n",
    "print(add(1, 3))\n",
    "print(add(1, 2, 3, 4, 5, 6, 7, 8, 9, 10))\n"
   ]
  },
  {
   "cell_type": "code",
   "execution_count": null,
   "id": "462efceb",
   "metadata": {},
   "outputs": [],
   "source": [
    "subject = ('Python', 'web', 'JavaScript', 'DBMS')\n",
    "'-'.join(subject)"
   ]
  },
  {
   "cell_type": "code",
   "execution_count": null,
   "id": "591e856c",
   "metadata": {},
   "outputs": [],
   "source": [
    "# 튜플 매개변수와 일반 매개변수가 같이 있을 때\n",
    "def concat(*subject, sep):\n",
    "    return sep.join(subject)"
   ]
  },
  {
   "cell_type": "code",
   "execution_count": null,
   "id": "7b50c417",
   "metadata": {},
   "outputs": [],
   "source": [
    "concat('Python', 'web', 'JavaScript', 'DBMS', '-')"
   ]
  },
  {
   "cell_type": "code",
   "execution_count": null,
   "id": "76fbe9f5",
   "metadata": {},
   "outputs": [],
   "source": [
    "# 해결책1 : 매개변수 이름을 지정해서 호출\n",
    "concat('Python', 'web', 'JavaScript', 'DBMS', sep='-')"
   ]
  },
  {
   "cell_type": "code",
   "execution_count": null,
   "id": "b82a3cc0",
   "metadata": {},
   "outputs": [],
   "source": [
    "# 해결책2 : 기본값을 갖는 키워드인수 사용\n",
    "def concat(*subject, sep=' ~ '): #튜플매개변수 > 키워드인수\n",
    "    return sep.join(subject)\n",
    "print(concat('Python', 'web', 'JavaScript', 'DBMS', '-'))\n",
    "print(concat('Python', 'web', 'JavaScript', 'DBMS', sep='-'))"
   ]
  },
  {
   "cell_type": "code",
   "execution_count": null,
   "id": "cc0e3d07",
   "metadata": {},
   "outputs": [],
   "source": [
    "# 해결책3 : sep을 순서인수로 앞으로 (추천)\n",
    "def concat(sep, *subject):\n",
    "    return sep.join(subject)"
   ]
  },
  {
   "cell_type": "code",
   "execution_count": null,
   "id": "c5ab2e5a",
   "metadata": {},
   "outputs": [],
   "source": [
    " concat('~', 'Python', 'Web', 'DB', 'MLDL')"
   ]
  },
  {
   "cell_type": "markdown",
   "id": "64644b0e",
   "metadata": {},
   "source": [
    "## 3.5 딕셔너리 매개변수\n",
    "- 딕셔너리 인수 : 여러개의 키워드 인수를 딕셔너리 형태로 받아서 가변인수로 처리"
   ]
  },
  {
   "cell_type": "code",
   "execution_count": null,
   "id": "808f2b6d",
   "metadata": {},
   "outputs": [],
   "source": [
    "def func5(**args): # **args : 딕셔너리로 전달받음\n",
    "    print('이름 :', args.get('name','몰라'))\n",
    "    print('나이 :', args.get('age', 30))\n",
    "    print('전화 :', args.get('tel','없음'))\n",
    "    print('주소 :', args.get('address','서울 관악'))"
   ]
  },
  {
   "cell_type": "code",
   "execution_count": null,
   "id": "80b9ebca",
   "metadata": {},
   "outputs": [],
   "source": [
    "def func5(**args):\n",
    "    '''딕셔너리 매개변수로 받아 adress 키가 없으면 서울시 관악구로 추가하고 키-값을 출력'''\n",
    "    print(args)\n",
    "    print(type(args))\n",
    "    if 'address' not in args: # args에 address키가 없으면 if문 True\n",
    "        # args['address'] = '서울시 관악구'\n",
    "        # args,update({'address': '서울시 관악구'})\n",
    "        args.update(address='서울시 관악구')\n",
    "    for key, value in args.items():\n",
    "        print(\"{} : {}\".format(key, value))"
   ]
  },
  {
   "cell_type": "code",
   "execution_count": null,
   "id": "070a89f6",
   "metadata": {},
   "outputs": [],
   "source": [
    "func5(name='홍길동', age=30, tel='010-9999-9999', address='서울 관악구')"
   ]
  },
  {
   "cell_type": "markdown",
   "id": "4995dfdb",
   "metadata": {},
   "source": [
    "## 3.6 함수 정의시 매개변수의 순서\n",
    "- 순서인수 >  튜플인수(*) > 키워드인수(기본값) > 딕셔너리인수(**)"
   ]
  },
  {
   "cell_type": "code",
   "execution_count": null,
   "id": "7d7f703c",
   "metadata": {},
   "outputs": [],
   "source": [
    "# 순서인수 > 튜플인수 > 딕셔너리인수\n",
    "def func6(a, b, *c, **d):\n",
    "    print('순서인수 a = ', a)\n",
    "    print('순서인수 b = ', b)\n",
    "    print('튜플인수 c = ', c)\n",
    "    print('딕셔너리인수 d = ', d)"
   ]
  },
  {
   "cell_type": "code",
   "execution_count": null,
   "id": "cf02f0b8",
   "metadata": {},
   "outputs": [],
   "source": [
    "func6(10, 20, 1,2,3,4,5,6,7,8,9, 'a','b',True, name='홍', age=30, address='신림')"
   ]
  },
  {
   "cell_type": "code",
   "execution_count": null,
   "id": "351fd2f8",
   "metadata": {},
   "outputs": [],
   "source": [
    "# 순서인수 >  튜플인수(*) > 키워드인수(기본값) > 딕셔너리인수(**)\n",
    "def func7(a, b, c, *d, e=10, **f):\n",
    "    print('순서인수 a =', a)\n",
    "    print('순서인수 b =', b)\n",
    "    print('순서인수 c =', c)\n",
    "    print('튜플인수 d =', d)\n",
    "    print('키워드인수(기본값 10) e =', e)\n",
    "    print('딕셔너리인수 f =', f)"
   ]
  },
  {
   "cell_type": "code",
   "execution_count": null,
   "id": "e94e189a",
   "metadata": {},
   "outputs": [],
   "source": [
    "func7(10, 20, 30, e=100)"
   ]
  },
  {
   "cell_type": "code",
   "execution_count": null,
   "id": "532415fb",
   "metadata": {},
   "outputs": [],
   "source": [
    "func7(10, 20, 30)"
   ]
  },
  {
   "cell_type": "code",
   "execution_count": null,
   "id": "6a31c534",
   "metadata": {},
   "outputs": [],
   "source": [
    "func7(10, 20, 30, 1,2,3,4,5, e=100, shape='rect', width=20, height=30)"
   ]
  },
  {
   "cell_type": "markdown",
   "id": "933a929e",
   "metadata": {},
   "source": [
    "## 3.7 인수의 언패킹\n",
    "### 튜플인수 언패킹\n",
    "- 언패킹\n",
    "- 패킹 : 함수 정의시 매개변수앞에 * 붙임(튜플매개변수)"
   ]
  },
  {
   "cell_type": "code",
   "execution_count": null,
   "id": "c1bbad0f",
   "metadata": {},
   "outputs": [],
   "source": [
    "def add(*args):\n",
    "#     print(args)\n",
    "    sum = 0 \n",
    "    for num in args:\n",
    "        sum += num\n",
    "    return sum"
   ]
  },
  {
   "cell_type": "code",
   "execution_count": null,
   "id": "4191ef6c",
   "metadata": {},
   "outputs": [],
   "source": [
    "add(1, 2, 3)"
   ]
  },
  {
   "cell_type": "code",
   "execution_count": null,
   "id": "a082e89e",
   "metadata": {},
   "outputs": [],
   "source": [
    "numbers = (1, 2, 3)\n",
    "add( *numbers )"
   ]
  },
  {
   "cell_type": "markdown",
   "id": "b3722f73",
   "metadata": {},
   "source": [
    "## 딕셔너리 인수 언패킹"
   ]
  },
  {
   "cell_type": "code",
   "execution_count": null,
   "id": "6e2733ca",
   "metadata": {},
   "outputs": [],
   "source": [
    "def func8(**data):\n",
    "    print(data)\n",
    "    for item in data.items():\n",
    "        print(item)"
   ]
  },
  {
   "cell_type": "code",
   "execution_count": null,
   "id": "4df16d9c",
   "metadata": {},
   "outputs": [],
   "source": [
    "func8(shape='rect', width=40, height=30)"
   ]
  },
  {
   "cell_type": "code",
   "execution_count": null,
   "id": "7538a468",
   "metadata": {},
   "outputs": [],
   "source": [
    "info = {'shape':'rect', 'width':40, 'height':30}\n",
    "func8(**info)"
   ]
  },
  {
   "cell_type": "markdown",
   "id": "c141979f",
   "metadata": {},
   "source": [
    "# 4절 람다식\n",
    "- return 한 줄짜리 작은 익명함수 \n",
    "## 4.1 람다식 연습"
   ]
  },
  {
   "cell_type": "code",
   "execution_count": null,
   "id": "47f63873",
   "metadata": {},
   "outputs": [],
   "source": [
    "def add(a, b):\n",
    "    return a+b\n",
    "print(add(3, 5))\n",
    "print(type(add))"
   ]
  },
  {
   "cell_type": "code",
   "execution_count": null,
   "id": "6ba31a4e",
   "metadata": {},
   "outputs": [],
   "source": [
    "add2 = lambda a, b : a + b \n",
    "print(add2(3, 5))\n",
    "print(type(add2))"
   ]
  },
  {
   "cell_type": "code",
   "execution_count": null,
   "id": "95d21e12",
   "metadata": {},
   "outputs": [],
   "source": [
    "# ex1. 매개변수로 들어온 값이 짝수인지 홀수인지 return 함수를 람다식으로 만들어보세요\n",
    "def even_add_chk(num):\n",
    "#     if num%2:\n",
    "#         result = \"홀수\"\n",
    "#     else:\n",
    "#         result = \"짝수\"\n",
    "    result = \"홀수\" if num%2 else \"짝수\"\n",
    "even_odd_chk1 = lambda num : \"홀수\" if num%2 else \"짝수\"\n",
    "even_odd_chk(5), even_odd_chk1(-4)"
   ]
  },
  {
   "cell_type": "code",
   "execution_count": null,
   "id": "ac1fd089",
   "metadata": {},
   "outputs": [],
   "source": [
    "# ex2. 두 매개변수의 차이를 return하는 함수를 람다식으로 만들어보세요.\n",
    "diff = lambda a, b : a-b if a>b else b-a \n",
    "diff(5, 1), diff(1, 5)"
   ]
  },
  {
   "cell_type": "code",
   "execution_count": null,
   "id": "e365abf1",
   "metadata": {},
   "outputs": [],
   "source": [
    "# ex3. 매개변수로 잔액을 받아, 잔액이 0이상이면 잔액을 return, 음수면 'negative' 를 return\n",
    "ex3 = lambda balance : balance if balance>=0 else 'negative'\n",
    "ex3(1000), ex3(-100)"
   ]
  },
  {
   "cell_type": "code",
   "execution_count": null,
   "id": "334fe84e",
   "metadata": {},
   "outputs": [],
   "source": [
    "# ex4. 점수를 입력받아 학점을 80점 이사은 'A팀', 60점 이상은 'B팀', 60점 미만은 '재시험'\n",
    "# 100점초과, 0점미만은 '유효하지 않음'을 return\n",
    "def levelChk(score):\n",
    "    if 80<=score<=100:\n",
    "        return 'A팀'\n",
    "    elif 60<=score<80:\n",
    "        return 'B팀'\n",
    "    elif 0<=score<60:\n",
    "        return '재시험'\n",
    "    else:\n",
    "        return '유효하지 않음'\n",
    "ex4 = lambda score : 'A팀' if 80<=score<=100 else \\\n",
    "                      'B팀' if 60<=score<80 else \\\n",
    "                      '재시험' if 0<=score<60 else \\\n",
    "                      '유효하지 않음'  \n",
    "levelChk(8), ex4(160)"
   ]
  },
  {
   "cell_type": "code",
   "execution_count": null,
   "id": "04558c2e",
   "metadata": {},
   "outputs": [],
   "source": [
    "# 점수를 입력받아 학점을 return\n",
    "score_grade = lambda score : 'A학점' if 90<=score<=100 else \\\n",
    "                             'B학점' if 80<=score<90 else \\\n",
    "                             'C학점' if 70<=score<80 else \\\n",
    "                             'D학점' if 60<=score<70 else \\\n",
    "                             'F학점' if 0<=score<60 else \\\n",
    "                             '유효하지 않는 점수'\n",
    "score_grade(60), score_grade(120)"
   ]
  },
  {
   "cell_type": "code",
   "execution_count": null,
   "id": "a776cfd4",
   "metadata": {},
   "outputs": [],
   "source": [
    "# ex5 safe_index함수를 람다식으로\n",
    "def safe_index(lst, item, start=0):\n",
    "    return lst.index(item, start) if item in lst[start:] else -1\n",
    "#     if item in lst[start:]:\n",
    "#         return lst.index(item, start) # start번째부터 item이 있는 index를 반환\n",
    "#     else:\n",
    "#         return -1\n",
    "ex5 = lambda lst, item, start=0 : lst.index(item, start) if item in lst[start:] else \\\n",
    "                                  -1\n",
    "lst = [3, 2, 3]\n",
    "safe_index(lst, 4), ex5(lst, 3, 1)"
   ]
  },
  {
   "cell_type": "code",
   "execution_count": null,
   "id": "d40527af",
   "metadata": {},
   "outputs": [],
   "source": [
    "# 람다식을 list에 들어갈 수 있음\n",
    "add = lambda a, b : a + b\n",
    "sub = lambda a, b : a - b\n",
    "mul = lambda a, b : a * b\n",
    "div = lambda a, b : a / b if b else '두번째 인자가 0이면 못 나줘요'\n",
    "operations = [add, sub, mul, div] # 사칙연산 함수들\n",
    "\n",
    "def act_operations(a, b, operations=operations): # a,b의 연산 결과를 return\n",
    "    result = []\n",
    "    for op in  operations: \n",
    "        result.append(op(a, b))\n",
    "    return result\n",
    "\n",
    "act_operations(20, 5)\n",
    "    "
   ]
  },
  {
   "cell_type": "code",
   "execution_count": null,
   "id": "58be77a0",
   "metadata": {},
   "outputs": [],
   "source": [
    "act_operations(8, 2, [lambda x,y : x**y, lambda x,y : 10*x+y])"
   ]
  },
  {
   "cell_type": "code",
   "execution_count": null,
   "id": "69101e9c",
   "metadata": {},
   "outputs": [],
   "source": [
    "(lambda x,y : 10*x+y)(5, 3)"
   ]
  },
  {
   "cell_type": "code",
   "execution_count": null,
   "id": "8dad4269",
   "metadata": {},
   "outputs": [],
   "source": [
    "operations.append(lambda x, y : x**y)\n",
    "len(operations)"
   ]
  },
  {
   "cell_type": "code",
   "execution_count": null,
   "id": "e63cc0e5",
   "metadata": {},
   "outputs": [],
   "source": [
    "act_operations(8, 2) # 기본값을 갖는 변수(기본 변수)가 리스트먄 기본값은 호출할 시점"
   ]
  },
  {
   "cell_type": "markdown",
   "id": "461d9aa1",
   "metadata": {},
   "source": [
    "## 4.2 함수의 매개변수(인수)에 람다식 사용\n",
    "- 람다식을 사용하는 곳 : 함수의 매개변수 > return 문\n",
    "### (1) map"
   ]
  },
  {
   "cell_type": "code",
   "execution_count": null,
   "id": "c5e3d5be",
   "metadata": {},
   "outputs": [],
   "source": [
    "def map_template(func, L=[]):\n",
    "    result = []\n",
    "    for item in  L:\n",
    "        result.append( func(item) )\n",
    "    return result"
   ]
  },
  {
   "cell_type": "code",
   "execution_count": null,
   "id": "ee86974a",
   "metadata": {},
   "outputs": [],
   "source": [
    "list_data =[1,2,3,4,5,6,7,8,9]\n",
    "# def x_2(x):\n",
    "#    return x*2\n",
    "x_2 = lambda x : x*2\n",
    "map_template(x_2, list_data)"
   ]
  },
  {
   "cell_type": "code",
   "execution_count": null,
   "id": "efbaf826",
   "metadata": {},
   "outputs": [],
   "source": [
    "map_template(lambda x:x*2, list_data)"
   ]
  },
  {
   "cell_type": "code",
   "execution_count": null,
   "id": "d78a6584",
   "metadata": {},
   "outputs": [],
   "source": [
    "# 리스트 컴프리헨션\n",
    "[item*2 for item in list_data]"
   ]
  },
  {
   "cell_type": "code",
   "execution_count": null,
   "id": "90573a86",
   "metadata": {},
   "outputs": [],
   "source": [
    "list(map(lambda x:x*2, list_data))"
   ]
  },
  {
   "cell_type": "code",
   "execution_count": null,
   "id": "5585c44e",
   "metadata": {},
   "outputs": [],
   "source": [
    "for data in map(lambda x:x*2, list_data):\n",
    "    print(data, end= ' ')"
   ]
  },
  {
   "cell_type": "code",
   "execution_count": null,
   "id": "a58fb8de",
   "metadata": {},
   "outputs": [],
   "source": [
    "'''\n",
    "예제 1. prices = ['5,000', '5000', '6,000', '1000','5,000', '5000', '6,000', '1000’]를 [5000,5000,6000,1000]식으로 바꾸시오\n",
    "'''\n",
    "prices = ['5,000', '5000', '6,000', '1000','5,000', '5000', '6,000', '1000']\n",
    "def toint(value):\n",
    "    return int(value.replace(',',''))\n",
    "prices_int = map(lambda value : int(value.replace(',','')), prices)\n",
    "for prices in prices_int:\n",
    "    print(prices, end=' ')"
   ]
  },
  {
   "cell_type": "code",
   "execution_count": null,
   "id": "cd744b8a",
   "metadata": {},
   "outputs": [],
   "source": [
    "'''\n",
    "예제 2. members1을 members2로\n",
    "members1 = [{'name':'홍길동', 'birth':'2000-01-01’},\n",
    "{'name':'신길동', 'birth':'1995-12-18'},]\n",
    "members2 = [\n",
    "{'name':'홍길동', 'year':2000, 'month':1,'day':1},\n",
    "{'name':'신길동', 'year':1995, 'month':12, 'day':18},]\n",
    "'''"
   ]
  },
  {
   "cell_type": "code",
   "execution_count": null,
   "id": "b729f04c",
   "metadata": {},
   "outputs": [],
   "source": [
    "members1 = [{'name':'홍길동', 'birth':'2000-01-01'},\n",
    "            {'name':'신길동', 'birth':'1995-12-18'},]"
   ]
  },
  {
   "cell_type": "code",
   "execution_count": null,
   "id": "4b1b7817",
   "metadata": {},
   "outputs": [],
   "source": [
    "# '2025-01-01' => {'year':2000, 'month':1,'day':1} \n",
    "def split_date(date):\n",
    "    split_date = date.split('-')\n",
    "    return {\n",
    "        'year':int(split_date[0]),\n",
    "        'month':int(split_date[1]),\n",
    "        'day':int(split_date[2])\n",
    "    }\n",
    "split_date('2025-01-01'), split_date('1995-12-12')"
   ]
  },
  {
   "cell_type": "code",
   "execution_count": null,
   "id": "8f130205",
   "metadata": {},
   "outputs": [],
   "source": [
    "# '2025-01-01' => {'year':2000, 'month':1,'day':1} \n",
    "def split_date(date):\n",
    "    return {\n",
    "        'year':int(date.split('-')[0]),\n",
    "        'month':int(date.split('-')[1]),\n",
    "        'day':int(date.split('-')[2])\n",
    "    }\n",
    "split_date('2025-01-01'), split_date('1995-12-12')"
   ]
  },
  {
   "cell_type": "code",
   "execution_count": null,
   "id": "9b71b85f",
   "metadata": {},
   "outputs": [],
   "source": [
    "# {'birth''2025-01-01' => {'year':2000, 'month':1,'day':1} \n",
    "def split_date(date):\n",
    "    return {\n",
    "        'year':int(date['birth'].split('-')[0]),\n",
    "        'month':int(date['birth'].split('-')[1]),\n",
    "        'day':int(date['birth'].split('-')[2])\n",
    "    }\n",
    "split_date({'birth':'2025-01-01'})"
   ]
  },
  {
   "cell_type": "code",
   "execution_count": null,
   "id": "fd7ea0dc",
   "metadata": {},
   "outputs": [],
   "source": [
    "# {'name':'홍길동', 'birth':'2000-01-01’}=>{'name':'홍길동', 'year':2000, 'month':1,'day':1}\n",
    "def member_preprocessing(member):\n",
    "    return{\n",
    "        'name' : member.get('name','이름없음'),# member['name']\n",
    "        'year' : int(member.get('birth').split('-')[0]),   \n",
    "        'month': int(member.get('birth').split('-')[1]),  \n",
    "        'day'  : int(member.get('birth').split('-')[2])                     \n",
    "    }\n",
    "member_preprocessing({'name':'홍길동', 'birth':'2000-01-01'})"
   ]
  },
  {
   "cell_type": "code",
   "execution_count": null,
   "id": "a1323dbe",
   "metadata": {},
   "outputs": [],
   "source": [
    "members2 = list(map(lambda member: {\n",
    "                                    'name' : member.get('name','이름없음'),\n",
    "                                    'year' : int(member.get('birth').split('-')[0]),   \n",
    "                                    'month': int(member.get('birth').split('-')[1]),  \n",
    "                                    'day'  : int(member.get('birth').split('-')[2])         \n",
    "                                    }, members1\n",
    "                   ) \n",
    "               )\n",
    "members2"
   ]
  },
  {
   "cell_type": "code",
   "execution_count": null,
   "id": "8c05d092",
   "metadata": {},
   "outputs": [],
   "source": [
    "'''\n",
    "예제3. members2를 members1로 전환\n",
    "'''\n",
    "members1"
   ]
  },
  {
   "cell_type": "code",
   "execution_count": null,
   "id": "923bfb03",
   "metadata": {},
   "outputs": [],
   "source": [
    "# {'year':2000, 'month':1,'day':1}  => '2025-01-01' \n",
    "def join_date(data):\n",
    "    return \"{}-{:02}-{:02}\".format(data.get('year'), data.get('month'), data.get('day'))\n",
    "join_date({'year':2000, 'month':1,'day':1})"
   ]
  },
  {
   "cell_type": "code",
   "execution_count": null,
   "id": "5b0878ca",
   "metadata": {},
   "outputs": [],
   "source": [
    "# {'year':2000, 'month':1,'day':1}  => {'birth': '2025-01-01' }\n",
    "def join_date(data):\n",
    "    return {\"birth\" : \"{year}-{month:02}-{day:02}\".format(**data)}\n",
    "join_date({'year':2000, 'month':1,'day':1})"
   ]
  },
  {
   "cell_type": "code",
   "execution_count": null,
   "id": "d9c7cb02",
   "metadata": {},
   "outputs": [],
   "source": [
    "# {'name':'hong', year':2000, 'month':1,'day':1}  => {'name':'hong',birth':'2025-01-01'}\n",
    "def members_preprocessing(member):\n",
    "    return {\n",
    "        'name': member.get('name'),\n",
    "        'birth':\"{year}-{month:02}-{day:02}\".format(**member)\n",
    "    }\n",
    "members_preprocessing({'name':'hong', 'year':2000, 'month':1,'day':1})"
   ]
  },
  {
   "cell_type": "code",
   "execution_count": null,
   "id": "185e6089",
   "metadata": {},
   "outputs": [],
   "source": [
    "list(map(lambda member :{\n",
    "        'name':member.get('name'),\n",
    "        'birth':\"{year}-{month:02}-{day:02}\".format(**member)\n",
    "    },members2))"
   ]
  },
  {
   "cell_type": "markdown",
   "id": "e8eb70b8",
   "metadata": {},
   "source": [
    "### (2) filter"
   ]
  },
  {
   "cell_type": "code",
   "execution_count": null,
   "id": "19ed2b7d",
   "metadata": {},
   "outputs": [],
   "source": [
    "def filter_template(func, L=[]):\n",
    "    result = []\n",
    "    for item in L:\n",
    "        if func(item): \n",
    "            result.append(item)\n",
    "    return result"
   ]
  },
  {
   "cell_type": "code",
   "execution_count": null,
   "id": "4c3c6061",
   "metadata": {},
   "outputs": [],
   "source": [
    "list_data = [1,2,3,4,5,6,7,8,9]\n",
    "def odd_chk(value):\n",
    "    return  value%2!=0\n",
    "#    if value%2:\n",
    "#       return True\n",
    "#    else:\n",
    "#        return False\n",
    "filter_template(lambda value : value%2!=0, list_data)"
   ]
  },
  {
   "cell_type": "code",
   "execution_count": null,
   "id": "79c3fef5",
   "metadata": {},
   "outputs": [],
   "source": [
    "# 리스트컴프리헨션\n",
    "[value for value in list_data if value%2!=0]"
   ]
  },
  {
   "cell_type": "code",
   "execution_count": null,
   "id": "e586d8d1",
   "metadata": {},
   "outputs": [],
   "source": [
    "list(filter(lambda value : value%2!=0, list_data))"
   ]
  },
  {
   "cell_type": "code",
   "execution_count": null,
   "id": "7f1fe576",
   "metadata": {},
   "outputs": [],
   "source": [
    "# 예제 : 다음 리스트에서 소수점 이하가 0인 수만 추출하시오(filter/리스트컴프리헨션)\n",
    "L = [1, 1.2, 1.5, 3.0, 10.5, 100, -2.0, -12.2]\n",
    "list(filter(lambda x : x%1==0, L))"
   ]
  },
  {
   "cell_type": "code",
   "execution_count": null,
   "id": "433b4dfe",
   "metadata": {},
   "outputs": [],
   "source": [
    "[ item for item in L if item%1==0]"
   ]
  },
  {
   "cell_type": "markdown",
   "id": "18721636",
   "metadata": {},
   "source": [
    "### (3) sort"
   ]
  },
  {
   "cell_type": "code",
   "execution_count": null,
   "id": "87ad7101",
   "metadata": {},
   "outputs": [],
   "source": [
    "p = [10, 3, 6, 1]\n",
    "p.sort(reverse=True)\n",
    "p"
   ]
  },
  {
   "cell_type": "code",
   "execution_count": null,
   "id": "d8945fcd",
   "metadata": {},
   "outputs": [],
   "source": [
    "# 무조선 0번째 item 을 기준으로 오름차순 정렬\n",
    "pairs = [(2, 'two'),(1, 'one'), (3, 'three'),(4, 'four')]\n",
    "pairs.sort()\n",
    "pairs"
   ]
  },
  {
   "cell_type": "code",
   "execution_count": null,
   "id": "3864d886",
   "metadata": {},
   "outputs": [],
   "source": [
    "# 1번째 item 기준으로 내림차순 정렬\n",
    "pairs.sort(key=lambda data:data[1], reverse=True)\n",
    "pairs"
   ]
  },
  {
   "cell_type": "code",
   "execution_count": null,
   "id": "dd5fb636",
   "metadata": {},
   "outputs": [],
   "source": [
    "# 0번 item이 큰 순(오름차순)\n",
    "number_2d = [[9,9], [1, 100], [10,200, 2]]\n",
    "number_2d.sort()\n",
    "print(number_2d)\n",
    "# 합이 큰순으로 정렬\n",
    "number_2d.sort(key=lambda items : sum(items), reverse=True)\n",
    "print(number_2d)"
   ]
  },
  {
   "cell_type": "code",
   "execution_count": null,
   "id": "e6706c95",
   "metadata": {},
   "outputs": [],
   "source": [
    "students = [{'name':'홍','store':99},\n",
    "            {'name':'김','store':50},\n",
    "            {'name':'박','store':77},\n",
    "            {'store':100},]"
   ]
  },
  {
   "cell_type": "code",
   "execution_count": null,
   "id": "b8fe492e",
   "metadata": {},
   "outputs": [],
   "source": [
    "name_select = lambda data : data.get('name','힣')\n",
    "name_select({'name': '홍', 'score':99})"
   ]
  },
  {
   "cell_type": "code",
   "execution_count": null,
   "id": "4eb701c5",
   "metadata": {},
   "outputs": [],
   "source": [
    "# studrnts를 name순으로 정렬(ㄱㄴㄷ순)\n",
    "students.sort(key=lambda data : data.get('name','힣'))"
   ]
  },
  {
   "cell_type": "code",
   "execution_count": null,
   "id": "165609a6",
   "metadata": {},
   "outputs": [],
   "source": [
    "# students를 score 큰 순 정렬\n",
    "students.sort(key=lambda data : data.get('score', 0), reverse=True)\n",
    "students"
   ]
  },
  {
   "cell_type": "code",
   "execution_count": null,
   "id": "b2b2e0db",
   "metadata": {},
   "outputs": [],
   "source": [
    "# 예제 : books 정렬(no, title, price)"
   ]
  },
  {
   "cell_type": "code",
   "execution_count": null,
   "id": "1617233b",
   "metadata": {},
   "outputs": [],
   "source": [
    "books = \\\n",
    "   [{'no':1, 'title':'더트릭컬', 'writer':'폴빠','price':'19,800'},\n",
    "    {'no':2, 'title':'흔한남매', 'writer':'백난도', 'price':'15,120'},\n",
    "    {'no':3, 'title':'단 한 번의 삶', 'writer':'김영하', 'price':'15,120'},\n",
    "    {'no':4, 'title':'가격잘못', 'writer':'홍길동', 'price':'ㅁ'},\n",
    "    {'no':5, 'title':'가격이숫자', 'writer':'백난도', 'price':30200},\n",
    "    {'no':6, 'title':'가격이없음', 'writer':'이길동'},] "
   ]
  },
  {
   "cell_type": "code",
   "execution_count": null,
   "id": "b1bcc499",
   "metadata": {},
   "outputs": [],
   "source": [
    "# no기준으로 sort\n",
    "books.sort(key = lambda book : book['no'])\n",
    "books"
   ]
  },
  {
   "cell_type": "code",
   "execution_count": null,
   "id": "1377f504",
   "metadata": {},
   "outputs": [],
   "source": [
    "# title 기준으로 sort\n",
    "books.sort(key = lambda book : book['title'])\n",
    "books"
   ]
  },
  {
   "cell_type": "code",
   "execution_count": null,
   "id": "9a1ddc0f",
   "metadata": {},
   "outputs": [],
   "source": [
    "# price 기준으로 sort\n",
    "books.sort(key = lambda book : book.get('price', 0))\n",
    "books"
   ]
  },
  {
   "cell_type": "code",
   "execution_count": null,
   "id": "2109d7bf",
   "metadata": {},
   "outputs": [],
   "source": [
    "# 30200=> 30200, '12,000'=>12000, '5000'=>5000, 'ㅁ'=>0, None=>0\n",
    "def parse_int(price):\n",
    "    if isinstance(price, str) and price.replace(',','').isdigit():\n",
    "        return int(price.replace(',',''))\n",
    "    elif isinstance(price, int):\n",
    "        return price\n",
    "    else:\n",
    "        return 0\n",
    "    \n",
    "    \n",
    "pairs_int = lambda price : int(price.replace(',',''))if isinstance(price, str) and price.replace(',','').isdigit() else \\\n",
    "                            pairs if isinstance(price, int) else 0\n",
    "\n",
    "print(parse_int('12,000'), parse_int(30200), parse_int('ㅁ'), parse_int(None))"
   ]
  },
  {
   "cell_type": "code",
   "execution_count": null,
   "id": "0b4650e5",
   "metadata": {},
   "outputs": [],
   "source": [
    "# {'no': 5, 'title': '가격이숫자', 'writer': '백난도', 'price': '12,000'} => 12000\n",
    "parse_int = lambda book : \\\n",
    "            int(book.get('price').replace(',','')) \\\n",
    "                    if isinstance(book.get('price'), str) and \\\n",
    "                                book.get('price').replace(',','').isdigit() else \\\n",
    "            price if isinstance(book.get('price'), int) else \\\n",
    "            0\n",
    "\n",
    "parse_int({'no': 5, 'title': '가격이숫자', 'writer': '백난도', 'price': 'ㅁ'})"
   ]
  },
  {
   "cell_type": "code",
   "execution_count": null,
   "id": "1b4d087f",
   "metadata": {},
   "outputs": [],
   "source": [
    "copyBooks = books.copy() # 복제\n",
    "copyBooks.sort(key=lambda book : \\\n",
    "            int(book.get('price').replace(',','')) \\\n",
    "                    if isinstance(book.get('price'), str) and \\\n",
    "                                book.get('price').replace(',','').isdigit() else \\\n",
    "           book.get('price') if isinstance(book.get('price'), int) else \\\n",
    "            0,\n",
    "              reverse=True)\n",
    "copyBooks"
   ]
  },
  {
   "cell_type": "markdown",
   "id": "1d9268b6",
   "metadata": {},
   "source": [
    "# 5절 파이썬 내장함수\n",
    "- import 하지 않고 바로 사용 가능한 함수\n",
    "- 키워드(if,while,...)처럼 간주되므로, 식별자(변수명, 함수명,클래스명)로 사용하는 것을 피한다"
   ]
  },
  {
   "cell_type": "code",
   "execution_count": 13,
   "id": "3976a722",
   "metadata": {},
   "outputs": [],
   "source": [
    "a = 10"
   ]
  },
  {
   "cell_type": "code",
   "execution_count": 12,
   "id": "4f0ca140",
   "metadata": {},
   "outputs": [
    {
     "data": {
      "text/plain": [
       "{'__name__': '__main__',\n",
       " '__doc__': 'Automatically created module for IPython interactive environment',\n",
       " '__package__': None,\n",
       " '__loader__': None,\n",
       " '__spec__': None,\n",
       " '__builtin__': <module 'builtins' (built-in)>,\n",
       " '__builtins__': <module 'builtins' (built-in)>,\n",
       " '_ih': ['',\n",
       "  'from IPython.display import display, HTML\\ndisplay(HTML(\"\"\"\\n<style>\\ndiv.container{width:90% !important;}\\ndiv.cell.code_cell.rendered{width:100%;}\\ndiv.input_prompt{padding:0px;}\\ndiv.CodeMirror {font-family:Consolas; font-size:12pt;}\\ndiv.text_cell_render.rendered_html{font-size:12pt;}\\ndiv.output {font-size:12pt; font-weight:bold;}\\ndiv.input {font-family:Consolas; font-size:12pt;}\\ndiv.prompt {min-width:70px;}\\ndiv#toc-wrapper{padding-top:120px;}\\ndiv.text_cell_render ul li{font-size:12pt;padding:5px;}\\ntable.dataframe{font-size:12px;}\\n</style>\\n\"\"\"))',\n",
       "  'def my_massage(x, msg): # msg를 x번 출력하는 함수 정의\\n    for i in range(x): \\n        print(i, msg)',\n",
       "  \"# 함수 사용 == 함수 호출\\nmy_massage(3, 'Hello')\",\n",
       "  \"# 함수 이름 변경\\nmy_msg = my_massage\\nmy_massage(2, 'Hello')\\nmy_msg(3, 'Python')\",\n",
       "  'type(my_msg), type(my_massage)',\n",
       "  \"print('Hello')# 파이썬 내장 함수(import 하지 않고 사용할 수 있는 함수)\\nprint = 5\\n# print('Hello')\",\n",
       "  \"del print\\nprint('Hello')\",\n",
       "  \"my_massage(2, 'Hello')\",\n",
       "  \"my_massage = 5\\nmy_msg(2, 'Hello')\",\n",
       "  \"my_massage(2, 'Hello')\",\n",
       "  'globals() # 전역변수 리스트',\n",
       "  'globals() # 전역변수 리스트'],\n",
       " '_oh': {5: (function, function), 11: {...}},\n",
       " '_dh': [WindowsPath('C:/ai/source/01_python')],\n",
       " 'In': ['',\n",
       "  'from IPython.display import display, HTML\\ndisplay(HTML(\"\"\"\\n<style>\\ndiv.container{width:90% !important;}\\ndiv.cell.code_cell.rendered{width:100%;}\\ndiv.input_prompt{padding:0px;}\\ndiv.CodeMirror {font-family:Consolas; font-size:12pt;}\\ndiv.text_cell_render.rendered_html{font-size:12pt;}\\ndiv.output {font-size:12pt; font-weight:bold;}\\ndiv.input {font-family:Consolas; font-size:12pt;}\\ndiv.prompt {min-width:70px;}\\ndiv#toc-wrapper{padding-top:120px;}\\ndiv.text_cell_render ul li{font-size:12pt;padding:5px;}\\ntable.dataframe{font-size:12px;}\\n</style>\\n\"\"\"))',\n",
       "  'def my_massage(x, msg): # msg를 x번 출력하는 함수 정의\\n    for i in range(x): \\n        print(i, msg)',\n",
       "  \"# 함수 사용 == 함수 호출\\nmy_massage(3, 'Hello')\",\n",
       "  \"# 함수 이름 변경\\nmy_msg = my_massage\\nmy_massage(2, 'Hello')\\nmy_msg(3, 'Python')\",\n",
       "  'type(my_msg), type(my_massage)',\n",
       "  \"print('Hello')# 파이썬 내장 함수(import 하지 않고 사용할 수 있는 함수)\\nprint = 5\\n# print('Hello')\",\n",
       "  \"del print\\nprint('Hello')\",\n",
       "  \"my_massage(2, 'Hello')\",\n",
       "  \"my_massage = 5\\nmy_msg(2, 'Hello')\",\n",
       "  \"my_massage(2, 'Hello')\",\n",
       "  'globals() # 전역변수 리스트',\n",
       "  'globals() # 전역변수 리스트'],\n",
       " 'Out': {5: (function, function), 11: {...}},\n",
       " 'get_ipython': <bound method InteractiveShell.get_ipython of <ipykernel.zmqshell.ZMQInteractiveShell object at 0x0000029493DFF730>>,\n",
       " 'exit': <IPython.core.autocall.ZMQExitAutocall at 0x29493e0fee0>,\n",
       " 'quit': <IPython.core.autocall.ZMQExitAutocall at 0x29493e0fee0>,\n",
       " 'open': <function io.open(file, mode='r', buffering=-1, encoding=None, errors=None, newline=None, closefd=True, opener=None)>,\n",
       " '_': {...},\n",
       " '__': (function, function),\n",
       " '___': '',\n",
       " '_i': 'globals() # 전역변수 리스트',\n",
       " '_ii': \"my_massage(2, 'Hello')\",\n",
       " '_iii': \"my_massage = 5\\nmy_msg(2, 'Hello')\",\n",
       " '_i1': 'from IPython.display import display, HTML\\ndisplay(HTML(\"\"\"\\n<style>\\ndiv.container{width:90% !important;}\\ndiv.cell.code_cell.rendered{width:100%;}\\ndiv.input_prompt{padding:0px;}\\ndiv.CodeMirror {font-family:Consolas; font-size:12pt;}\\ndiv.text_cell_render.rendered_html{font-size:12pt;}\\ndiv.output {font-size:12pt; font-weight:bold;}\\ndiv.input {font-family:Consolas; font-size:12pt;}\\ndiv.prompt {min-width:70px;}\\ndiv#toc-wrapper{padding-top:120px;}\\ndiv.text_cell_render ul li{font-size:12pt;padding:5px;}\\ntable.dataframe{font-size:12px;}\\n</style>\\n\"\"\"))',\n",
       " 'display': <function IPython.core.display_functions.display(*objs, include=None, exclude=None, metadata=None, transient=None, display_id=None, raw=False, clear=False, **kwargs)>,\n",
       " 'HTML': IPython.core.display.HTML,\n",
       " '_i2': 'def my_massage(x, msg): # msg를 x번 출력하는 함수 정의\\n    for i in range(x): \\n        print(i, msg)',\n",
       " 'my_massage': 5,\n",
       " '_i3': \"# 함수 사용 == 함수 호출\\nmy_massage(3, 'Hello')\",\n",
       " '_i4': \"# 함수 이름 변경\\nmy_msg = my_massage\\nmy_massage(2, 'Hello')\\nmy_msg(3, 'Python')\",\n",
       " 'my_msg': <function __main__.my_massage(x, msg)>,\n",
       " '_i5': 'type(my_msg), type(my_massage)',\n",
       " '_5': (function, function),\n",
       " '_i6': \"print('Hello')# 파이썬 내장 함수(import 하지 않고 사용할 수 있는 함수)\\nprint = 5\\n# print('Hello')\",\n",
       " '_i7': \"del print\\nprint('Hello')\",\n",
       " '_i8': \"my_massage(2, 'Hello')\",\n",
       " '_i9': \"my_massage = 5\\nmy_msg(2, 'Hello')\",\n",
       " '_i10': \"my_massage(2, 'Hello')\",\n",
       " '_i11': 'globals() # 전역변수 리스트',\n",
       " '_11': {...},\n",
       " '_i12': 'globals() # 전역변수 리스트'}"
      ]
     },
     "execution_count": 12,
     "metadata": {},
     "output_type": "execute_result"
    }
   ],
   "source": [
    "globals() # 전역변수 리스트"
   ]
  },
  {
   "cell_type": "code",
   "execution_count": 14,
   "id": "831f1670",
   "metadata": {},
   "outputs": [
    {
     "data": {
      "text/plain": [
       "False"
      ]
     },
     "execution_count": 14,
     "metadata": {},
     "output_type": "execute_result"
    }
   ],
   "source": [
    "all([True,True,True,False]) # 모든 요소가 다 True인지 여부"
   ]
  },
  {
   "cell_type": "markdown",
   "id": "bee72160",
   "metadata": {},
   "source": [
    "# 6절 연습문제\n",
    "## 실슬형"
   ]
  },
  {
   "cell_type": "code",
   "execution_count": 21,
   "id": "f9107196",
   "metadata": {},
   "outputs": [
    {
     "data": {
      "text/plain": [
       "{'최대값': 6, '최소값': 0}"
      ]
     },
     "execution_count": 21,
     "metadata": {},
     "output_type": "execute_result"
    }
   ],
   "source": [
    "# 실습형1.최대값 최소값을 리턴\n",
    "def get_max_min(data_list):\n",
    "    return max(data_list), min(data_list)\n",
    "\n",
    "get_max_min = lambda data_list : (max(data_list), min(data_list)) # 람다식으로 바꾸면 반드시 튜플로\n",
    "\n",
    "def get_max_min(data_list): # 메일받은 내용\n",
    "    return {\"최대값\": max(data_list), \"최소값\": min(data_list)}\n",
    "\n",
    "def get_max_min(data_list): # 약간 수정된 메일받은 내용\n",
    "    import sys\n",
    "    # 최소값은 큰값으로 초기화, 최대값은 작은값으로 초기화하는 경우\n",
    "    min_, max_ = sys.maxsize, -sys.maxsize \n",
    "    # 최소, 최대값을 무조건 0번째 값으로 초기화하는 경우\n",
    "    min_, max_ = data_list[0], data_list[0]\n",
    "    for data in data_list:\n",
    "        if min_< data:\n",
    "            min_ = data\n",
    "        if max_ > data:\n",
    "            max_ = data\n",
    "    return {\"최대값\": max(data_list), \"최소값\": min(data_list)}\n",
    "\n",
    "get_max_min([1,0,3,4,5,6,])"
   ]
  },
  {
   "cell_type": "code",
   "execution_count": 10,
   "id": "7b7ca104",
   "metadata": {},
   "outputs": [],
   "source": [
    "# 2.\n",
    "# 체질량 지수(Body Mass Index, BMI)는 체중과 키를 이용해 비만도를 나타내는 지수로 아래의 수식에 의해 계산됩니다. 함수의 인자로 체중(kg)과 신장(m)를입력받은 후 BMI값에 따라 ‘마른 체형‘, ‘표준‘, ‘비만‘, ‘고도비만‘ 중 하나의 상태를 출력하는 함수를 구현해 보세요.\n",
    "# •\n",
    "# getBMI(kg, m):\n",
    "# •\n",
    "# BMI지수 = 체중(kg) / 신장(m)의 제곱\n",
    "# •\n",
    "# BMI<18.5 : 마른체형\n",
    "# •\n",
    "# 18.5<=BMI<25 : 표준\n",
    "# •\n",
    "# 25<=BMI<30 : 비만\n",
    "# •\n",
    "# BMI >=30 : 고도비만\n",
    "\n"
   ]
  },
  {
   "cell_type": "code",
   "execution_count": 22,
   "id": "cf8ab19f",
   "metadata": {},
   "outputs": [
    {
     "name": "stdout",
     "output_type": "stream",
     "text": [
      "표준\n",
      "표준\n",
      "마른체형\n"
     ]
    },
    {
     "data": {
      "text/plain": [
       "(None, None, None)"
      ]
     },
     "execution_count": 22,
     "metadata": {},
     "output_type": "execute_result"
    }
   ],
   "source": [
    "def getBMI(kg, m):\n",
    "    bmi = kg / (m*m)\n",
    "    if bmi<18.5:\n",
    "        print('마른체형')\n",
    "    elif 18.5 <= bmi < 25.0:\n",
    "        print('표준')\n",
    "    elif 25.0 <= bmi < 30.0:\n",
    "        print('비만')\n",
    "    else:\n",
    "        print('고도비만')\n",
    "        \n",
    "getBMI(70, 1.75), getBMI(50, 1.6), getBMI(48, 1.65)\n"
   ]
  },
  {
   "cell_type": "code",
   "execution_count": 19,
   "id": "9c7dff85",
   "metadata": {},
   "outputs": [
    {
     "data": {
      "text/plain": [
       "{'넓이': 6.0, '둘레': 12.0}"
      ]
     },
     "execution_count": 19,
     "metadata": {},
     "output_type": "execute_result"
    }
   ],
   "source": [
    "# 실습형 3 : 직각삼각형 w, h로 area,perimeter (넓이, 둘레)\n",
    "import math\n",
    "def get_trianle(w, h):\n",
    "    area = w * h * 0.5\n",
    "    # math.sqrt() : 제곱근\n",
    "    perimeter = w + h + math.sqrt(w*w + h*h)\n",
    "    # return area, perimeter\n",
    "    return {'넓이': area, '둘레':perimeter}\n",
    "get_trianle(3, 4) "
   ]
  },
  {
   "cell_type": "code",
   "execution_count": 23,
   "id": "ea4aa921",
   "metadata": {},
   "outputs": [
    {
     "data": {
      "text/plain": [
       "33"
      ]
     },
     "execution_count": 23,
     "metadata": {},
     "output_type": "execute_result"
    }
   ],
   "source": [
    "# 실습형 4.fRom부터 end까지 모든 정수의 합 리턴 (변수명으로 from은 못 오고 frOm으로 함)\n",
    "def mysum(fRom, end):\n",
    "    sum = 0\n",
    "    for i in range(fRom, end+1):\n",
    "        sum += i\n",
    "    return sum\n",
    "\n",
    "def mysum(fRom, end): # 메일받은 내용\n",
    "    return sum(range(fRom, end+1))\n",
    "\n",
    "mysum = lambda fRom, end : sum(range(fRom, end+1))\n",
    "\n",
    "mysum(10, 12) # 10+11+12의 결과\n"
   ]
  },
  {
   "cell_type": "code",
   "execution_count": 24,
   "id": "58462968",
   "metadata": {},
   "outputs": [
    {
     "name": "stdout",
     "output_type": "stream",
     "text": [
      "['Seo', 'Dea', 'Kwa', 'Jej']\n",
      "['Seo', 'Dea', 'Kwa', 'Jej']\n"
     ]
    }
   ],
   "source": [
    "# 실습형 5. 문자열 리스트가 입력될 때 첫 세글자로만 구성된 리스트 return\n",
    "test = ['Seoul', 'Deagu', 'Kwangju', 'Jeju']\n",
    "def get_abbrs(list_):\n",
    "    return [x[:3] for x in list_]\n",
    "\n",
    "def get_addrs(list_): # 많은 메일을 받은 내용 : 위의 리스트컴프리헨션 추천\n",
    "    answer = []\n",
    "    for l in list_:\n",
    "        answer.append(l[:3])\n",
    "    return answer\n",
    "\n",
    "print(get_abbrs(test)) # 일반 함수 이용\n",
    "print((lambda l : [x[:3] for x in l])(test)) #람다식 이용"
   ]
  },
  {
   "cell_type": "code",
   "execution_count": 25,
   "id": "b7e35107",
   "metadata": {},
   "outputs": [
    {
     "data": {
      "text/plain": [
       "8"
      ]
     },
     "execution_count": 25,
     "metadata": {},
     "output_type": "execute_result"
    }
   ],
   "source": [
    "# 실습형 6 함수를 람다식으로 변경\n",
    "f = lambda x, y : x**y\n",
    "f(2,3)"
   ]
  },
  {
   "cell_type": "code",
   "execution_count": 27,
   "id": "92e8a5ed",
   "metadata": {},
   "outputs": [
    {
     "data": {
      "text/plain": [
       "[1, 4, 9, 16, 25]"
      ]
     },
     "execution_count": 27,
     "metadata": {},
     "output_type": "execute_result"
    }
   ],
   "source": [
    "# 실습형 7. 람다함수와 map함수 이용\n",
    "ex = [1,2,3,4,5]\n",
    "list(map(lambda x : x**2, ex))"
   ]
  },
  {
   "cell_type": "code",
   "execution_count": 28,
   "id": "6459b7dd",
   "metadata": {},
   "outputs": [
    {
     "data": {
      "text/plain": [
       "[1, 4, 9, 16, 25]"
      ]
     },
     "execution_count": 28,
     "metadata": {},
     "output_type": "execute_result"
    }
   ],
   "source": [
    "# 실습형 7. 리스트컴프리헨션 이용\n",
    "[x**2 for x in ex]"
   ]
  },
  {
   "cell_type": "code",
   "execution_count": 29,
   "id": "e447c6cc",
   "metadata": {},
   "outputs": [
    {
     "name": "stdout",
     "output_type": "stream",
     "text": [
      "1 2 3\n",
      "[1, 2, 3]\n"
     ]
    }
   ],
   "source": [
    "# 실습형 8.\n",
    "a = [1,2,3]\n",
    "print(*a)\n",
    "print(a)\n",
    "answer = '''\n",
    "별표(asterisk, *)는 함수의 인자(argument)로 사용될 때,\n",
    "시퀀스형 자료형의 각각의 값(element)을 하나의 값(element)으로\n",
    "넣어주게 된다(언패킹)\n",
    "그러므로 print(*a)의 의미는 사실 print(a[0], a[1], a[2])으로\n",
    "나타나게 된다\n",
    "'''"
   ]
  },
  {
   "cell_type": "code",
   "execution_count": 31,
   "id": "d7bbb95d",
   "metadata": {},
   "outputs": [
    {
     "data": {
      "text/plain": [
       "'2019-9-6'"
      ]
     },
     "execution_count": 31,
     "metadata": {},
     "output_type": "execute_result"
    }
   ],
   "source": [
    "# 실습형 9.\n",
    "date_info = {'year':'2019', 'month':9, 'day':6}\n",
    "result = \"{year}-{month}-{day}\".format(**date_info)\n",
    "# result = \"{year}-{month}-{day}\".format(year='2019', month=9, day=6)\n",
    "# '2024-09-06을 원하면'\n",
    "# result = \"{year}-{month:02}-{day:02}\".format(**date_info)\n",
    "result"
   ]
  },
  {
   "cell_type": "code",
   "execution_count": 33,
   "id": "850aa860",
   "metadata": {},
   "outputs": [
    {
     "name": "stdout",
     "output_type": "stream",
     "text": [
      "True\n",
      "False\n"
     ]
    }
   ],
   "source": [
    "# 실습형 10\n",
    "# 입력받은 n개의 벡터(리스트, 튜플, 셋, 딕셔너리)의 크기가 같은지를 return하는 함수\n",
    "def vector_size_check(*vector_var):\n",
    "    # print(vector_var)\n",
    "    result = set()\n",
    "    for vector in vector_var:\n",
    "        result.add(len(vector))\n",
    "    return len(result)==1\n",
    "\n",
    "def vector_size_check(*vector_var):\n",
    "    return len(set([len(vector) for vector in vector_var]))==1\n",
    "\n",
    "def vector_size_check(*vector_var): # 메일 받은 내용\n",
    "    return True if len(set([len(vec) for vec in vector_var])) == 1 else False\n",
    "\n",
    "print(vector_size_check([1,2], {10,20}, {'name':'홍', 'age':30}, (1,2)))\n",
    "print(vector_size_check([1,2], {10,20}, {'name':'홍', 'age':30}, (1,)))"
   ]
  },
  {
   "cell_type": "code",
   "execution_count": 34,
   "id": "6cef82da",
   "metadata": {},
   "outputs": [
    {
     "name": "stdout",
     "output_type": "stream",
     "text": [
      "True\n",
      "False\n"
     ]
    }
   ],
   "source": [
    "# 실습형 10 람다식으로 (리스트컴프리헨션)\n",
    "vector_size_check = lambda *vector_var :  \\\n",
    "        len(set([len(vector) for vector in vector_var]))==1\n",
    "\n",
    "print(vector_size_check([1,2], {10,20}, {'name':'홍', 'age':30}, (1,2)))\n",
    "print(vector_size_check([1,2], {10,20}, {'name':'홍', 'age':30}, (1,)))"
   ]
  },
  {
   "cell_type": "code",
   "execution_count": 35,
   "id": "7066de74",
   "metadata": {},
   "outputs": [
    {
     "data": {
      "text/plain": [
       "[10, 20, 30, 40]"
      ]
     },
     "execution_count": 35,
     "metadata": {},
     "output_type": "execute_result"
    }
   ],
   "source": [
    "# 실습형 11\n",
    "def scalar_vector_product(num, vector):\n",
    "    return [num*vec for vec in vector]\n",
    "\n",
    "def scalar_vector_product(x, lst): # 메일 받은 내용\n",
    "    return (map(lambda num : num*x, lst)) \n",
    "\n",
    "scalar_vector_product = lambda num, vector : [num*v for v in vector]\n",
    "\n",
    "scalar_vector_product(10, [1,2,3,4])"
   ]
  },
  {
   "cell_type": "markdown",
   "id": "406a5381",
   "metadata": {},
   "source": [
    "## 서술형"
   ]
  },
  {
   "cell_type": "code",
   "execution_count": 36,
   "id": "774a0957",
   "metadata": {},
   "outputs": [
    {
     "data": {
      "text/plain": [
       "[(4, 'a'), (3, 'b'), (2, 'c'), (1, 'd')]"
      ]
     },
     "execution_count": 36,
     "metadata": {},
     "output_type": "execute_result"
    }
   ],
   "source": [
    "# 서술형 1 (2)\n",
    "pairs = [(1, 'd'),(2, 'c'),(3,'b'),(4,'a')]\n",
    "pairs.sort(key=lambda pair : pair[1])\n",
    "pairs"
   ]
  },
  {
   "cell_type": "code",
   "execution_count": 37,
   "id": "d590ad0f",
   "metadata": {},
   "outputs": [
    {
     "name": "stdout",
     "output_type": "stream",
     "text": [
      "6(func함수에서 출력) 11(sub함수에서 출력) 6(func함수에서 출력) 12(sub함수에서 출력) "
     ]
    }
   ],
   "source": [
    "# 서술형 2. \n",
    "a = 10 # 전역변수\n",
    "def sub():\n",
    "    global a # 문제해결을 위한 코드\n",
    "    a += 1\n",
    "    print(a, end='(sub함수에서 출력) ')\n",
    "def func():\n",
    "    for i in range(2):\n",
    "        a = 5 # 지역변수\n",
    "        a += 1\n",
    "        print(a, end='(func함수에서 출력) ')\n",
    "        sub()\n",
    "func()\n",
    "answer ='''\n",
    "오류가 발생하는 라인 : 원래 3줄(a += 1부분)\n",
    "a = a+1 : a에 값을 할당하면 지역변수가 됨\n",
    "          지역변수 a+1를 계산할 수 없음\n",
    "문제해결을 위해 : 에러나는 줄 앞에 global a 선언\n",
    "'''"
   ]
  },
  {
   "cell_type": "code",
   "execution_count": 38,
   "id": "34d6578a",
   "metadata": {},
   "outputs": [
    {
     "name": "stdout",
     "output_type": "stream",
     "text": [
      "100\n"
     ]
    }
   ],
   "source": [
    "# 서술형 3. 실행결과\n",
    "var = 100\n",
    "def func(var): # 매개변수로 들어온 변수는 지역변수\n",
    "    var = 200  # 그러므로 var는 전역변수가 아니고 지역변수\n",
    "func(var)\n",
    "print(var)"
   ]
  },
  {
   "cell_type": "code",
   "execution_count": 40,
   "id": "47a30ba2",
   "metadata": {},
   "outputs": [
    {
     "data": {
      "text/plain": [
       "5"
      ]
     },
     "execution_count": 40,
     "metadata": {},
     "output_type": "execute_result"
    }
   ],
   "source": [
    "# 서술형 4. 실행결과\n",
    "def my_func(func, *args):\n",
    "    return func(*args)\n",
    "import numpy as np\n",
    "my_func(np.add, 2, 3)"
   ]
  },
  {
   "cell_type": "code",
   "execution_count": 41,
   "id": "0ca4df7c",
   "metadata": {},
   "outputs": [
    {
     "data": {
      "text/plain": [
       "5"
      ]
     },
     "execution_count": 41,
     "metadata": {},
     "output_type": "execute_result"
    }
   ],
   "source": [
    "np.add(2,3)"
   ]
  },
  {
   "cell_type": "code",
   "execution_count": 42,
   "id": "eea30cba",
   "metadata": {},
   "outputs": [
    {
     "data": {
      "text/plain": [
       "9"
      ]
     },
     "execution_count": 42,
     "metadata": {},
     "output_type": "execute_result"
    }
   ],
   "source": [
    "# 서술형 5 실행결과\n",
    "def my_func(func, *args):\n",
    "    return func(*args)\n",
    "my_func(lambda a, b : a**b, 3, 2)  "
   ]
  },
  {
   "cell_type": "code",
   "execution_count": null,
   "id": "0a2141ba",
   "metadata": {},
   "outputs": [],
   "source": [
    "# 서술형 6 (1) 함수의 오버로딩 불가"
   ]
  },
  {
   "cell_type": "code",
   "execution_count": 43,
   "id": "8a7ba21d",
   "metadata": {},
   "outputs": [
    {
     "name": "stdout",
     "output_type": "stream",
     "text": [
      "(1) [10]\n",
      "(2) [10, 20]\n",
      "(3) [30]\n"
     ]
    }
   ],
   "source": [
    "# 서술형 7 (4) func([], a=40) a는 순서인수라서 무조건 첫 매개변수는 a로\n",
    "list_ = []\n",
    "def func(a, L=None):\n",
    "    if L is None:\n",
    "        L = []\n",
    "    L.append(a)\n",
    "    return L\n",
    "print('(1)',func(10, list_))\n",
    "print('(2)',func(20, L=list_))\n",
    "print('(3)',func(a=30))"
   ]
  },
  {
   "cell_type": "code",
   "execution_count": 44,
   "id": "4b9e36a4",
   "metadata": {},
   "outputs": [],
   "source": [
    "# 서술형 8. lambda"
   ]
  },
  {
   "cell_type": "code",
   "execution_count": null,
   "id": "2e273c35",
   "metadata": {},
   "outputs": [],
   "source": []
  },
  {
   "cell_type": "code",
   "execution_count": null,
   "id": "488e03d0",
   "metadata": {},
   "outputs": [],
   "source": []
  },
  {
   "cell_type": "code",
   "execution_count": null,
   "id": "e9ee3f46",
   "metadata": {},
   "outputs": [],
   "source": []
  },
  {
   "cell_type": "code",
   "execution_count": null,
   "id": "134fc258",
   "metadata": {},
   "outputs": [],
   "source": []
  },
  {
   "cell_type": "code",
   "execution_count": null,
   "id": "b459aec7",
   "metadata": {},
   "outputs": [],
   "source": []
  },
  {
   "cell_type": "code",
   "execution_count": null,
   "id": "23f8a1b1",
   "metadata": {},
   "outputs": [],
   "source": []
  },
  {
   "cell_type": "code",
   "execution_count": null,
   "id": "2fdc4896",
   "metadata": {},
   "outputs": [],
   "source": []
  },
  {
   "cell_type": "code",
   "execution_count": null,
   "id": "94c0c01c",
   "metadata": {},
   "outputs": [],
   "source": []
  },
  {
   "cell_type": "code",
   "execution_count": null,
   "id": "93b7e1e6",
   "metadata": {},
   "outputs": [],
   "source": []
  },
  {
   "cell_type": "code",
   "execution_count": null,
   "id": "db2ca0ce",
   "metadata": {},
   "outputs": [],
   "source": []
  },
  {
   "cell_type": "code",
   "execution_count": null,
   "id": "2bb2f601",
   "metadata": {},
   "outputs": [],
   "source": []
  },
  {
   "cell_type": "code",
   "execution_count": null,
   "id": "58c6019b",
   "metadata": {},
   "outputs": [],
   "source": []
  },
  {
   "cell_type": "code",
   "execution_count": null,
   "id": "08aa6913",
   "metadata": {},
   "outputs": [],
   "source": []
  },
  {
   "cell_type": "code",
   "execution_count": null,
   "id": "3597ede7",
   "metadata": {},
   "outputs": [],
   "source": []
  },
  {
   "cell_type": "code",
   "execution_count": null,
   "id": "bf55d901",
   "metadata": {},
   "outputs": [],
   "source": []
  },
  {
   "cell_type": "code",
   "execution_count": null,
   "id": "5b5ba773",
   "metadata": {},
   "outputs": [],
   "source": []
  },
  {
   "cell_type": "code",
   "execution_count": null,
   "id": "1483e1be",
   "metadata": {},
   "outputs": [],
   "source": []
  },
  {
   "cell_type": "code",
   "execution_count": null,
   "id": "e74612a8",
   "metadata": {},
   "outputs": [],
   "source": []
  },
  {
   "cell_type": "code",
   "execution_count": null,
   "id": "66e16b44",
   "metadata": {},
   "outputs": [],
   "source": []
  },
  {
   "cell_type": "code",
   "execution_count": null,
   "id": "df9ae1e5",
   "metadata": {},
   "outputs": [],
   "source": []
  },
  {
   "cell_type": "code",
   "execution_count": null,
   "id": "eb2a5bf9",
   "metadata": {},
   "outputs": [],
   "source": []
  },
  {
   "cell_type": "code",
   "execution_count": null,
   "id": "7879c554",
   "metadata": {},
   "outputs": [],
   "source": []
  },
  {
   "cell_type": "code",
   "execution_count": null,
   "id": "223c5e8e",
   "metadata": {},
   "outputs": [],
   "source": []
  },
  {
   "cell_type": "code",
   "execution_count": null,
   "id": "f88d4500",
   "metadata": {},
   "outputs": [],
   "source": []
  },
  {
   "cell_type": "code",
   "execution_count": null,
   "id": "a0420c74",
   "metadata": {},
   "outputs": [],
   "source": []
  },
  {
   "cell_type": "code",
   "execution_count": null,
   "id": "e6d92909",
   "metadata": {},
   "outputs": [],
   "source": []
  },
  {
   "cell_type": "code",
   "execution_count": null,
   "id": "f1516ae3",
   "metadata": {},
   "outputs": [],
   "source": []
  },
  {
   "cell_type": "code",
   "execution_count": null,
   "id": "c35d97e5",
   "metadata": {},
   "outputs": [],
   "source": []
  },
  {
   "cell_type": "code",
   "execution_count": null,
   "id": "feb88c0a",
   "metadata": {},
   "outputs": [],
   "source": []
  },
  {
   "cell_type": "code",
   "execution_count": null,
   "id": "14c07798",
   "metadata": {},
   "outputs": [],
   "source": []
  },
  {
   "cell_type": "code",
   "execution_count": null,
   "id": "06067d63",
   "metadata": {},
   "outputs": [],
   "source": []
  },
  {
   "cell_type": "code",
   "execution_count": null,
   "id": "cb65c912",
   "metadata": {},
   "outputs": [],
   "source": []
  },
  {
   "cell_type": "code",
   "execution_count": null,
   "id": "d70e3bb2",
   "metadata": {},
   "outputs": [],
   "source": []
  },
  {
   "cell_type": "code",
   "execution_count": null,
   "id": "b013b82a",
   "metadata": {},
   "outputs": [],
   "source": []
  },
  {
   "cell_type": "code",
   "execution_count": null,
   "id": "b0abb432",
   "metadata": {},
   "outputs": [],
   "source": []
  },
  {
   "cell_type": "code",
   "execution_count": null,
   "id": "42542485",
   "metadata": {},
   "outputs": [],
   "source": []
  },
  {
   "cell_type": "code",
   "execution_count": null,
   "id": "176d4f2b",
   "metadata": {},
   "outputs": [],
   "source": []
  },
  {
   "cell_type": "code",
   "execution_count": null,
   "id": "cb5d73f6",
   "metadata": {},
   "outputs": [],
   "source": []
  },
  {
   "cell_type": "code",
   "execution_count": null,
   "id": "521779ed",
   "metadata": {},
   "outputs": [],
   "source": []
  },
  {
   "cell_type": "code",
   "execution_count": null,
   "id": "e067c233",
   "metadata": {},
   "outputs": [],
   "source": []
  },
  {
   "cell_type": "code",
   "execution_count": null,
   "id": "c3e8d6af",
   "metadata": {},
   "outputs": [],
   "source": []
  },
  {
   "cell_type": "code",
   "execution_count": null,
   "id": "cad0b250",
   "metadata": {},
   "outputs": [],
   "source": []
  },
  {
   "cell_type": "code",
   "execution_count": null,
   "id": "919afebf",
   "metadata": {},
   "outputs": [],
   "source": []
  },
  {
   "cell_type": "code",
   "execution_count": null,
   "id": "bbc7f0a9",
   "metadata": {},
   "outputs": [],
   "source": []
  },
  {
   "cell_type": "code",
   "execution_count": null,
   "id": "b1fb4cd7",
   "metadata": {},
   "outputs": [],
   "source": []
  },
  {
   "cell_type": "code",
   "execution_count": null,
   "id": "da5c2b54",
   "metadata": {},
   "outputs": [],
   "source": []
  },
  {
   "cell_type": "code",
   "execution_count": null,
   "id": "0b4e496f",
   "metadata": {},
   "outputs": [],
   "source": []
  },
  {
   "cell_type": "code",
   "execution_count": null,
   "id": "1438ed5d",
   "metadata": {},
   "outputs": [],
   "source": []
  },
  {
   "cell_type": "code",
   "execution_count": null,
   "id": "759b7195",
   "metadata": {},
   "outputs": [],
   "source": []
  },
  {
   "cell_type": "code",
   "execution_count": null,
   "id": "b9b4412a",
   "metadata": {},
   "outputs": [],
   "source": []
  },
  {
   "cell_type": "code",
   "execution_count": null,
   "id": "86c50f2e",
   "metadata": {},
   "outputs": [],
   "source": []
  },
  {
   "cell_type": "code",
   "execution_count": null,
   "id": "f9cb3e88",
   "metadata": {},
   "outputs": [],
   "source": []
  },
  {
   "cell_type": "code",
   "execution_count": null,
   "id": "258e3e5b",
   "metadata": {},
   "outputs": [],
   "source": []
  },
  {
   "cell_type": "code",
   "execution_count": null,
   "id": "53a22db9",
   "metadata": {},
   "outputs": [],
   "source": []
  },
  {
   "cell_type": "code",
   "execution_count": null,
   "id": "bb1c73e3",
   "metadata": {},
   "outputs": [],
   "source": []
  },
  {
   "cell_type": "code",
   "execution_count": null,
   "id": "659e0442",
   "metadata": {},
   "outputs": [],
   "source": []
  },
  {
   "cell_type": "code",
   "execution_count": null,
   "id": "839311e4",
   "metadata": {},
   "outputs": [],
   "source": []
  },
  {
   "cell_type": "code",
   "execution_count": null,
   "id": "535e640c",
   "metadata": {},
   "outputs": [],
   "source": []
  }
 ],
 "metadata": {
  "kernelspec": {
   "display_name": "Python 3 (ipykernel)",
   "language": "python",
   "name": "python3"
  },
  "language_info": {
   "codemirror_mode": {
    "name": "ipython",
    "version": 3
   },
   "file_extension": ".py",
   "mimetype": "text/x-python",
   "name": "python",
   "nbconvert_exporter": "python",
   "pygments_lexer": "ipython3",
   "version": "3.10.9"
  },
  "toc": {
   "base_numbering": 1,
   "nav_menu": {},
   "number_sections": false,
   "sideBar": true,
   "skip_h1_title": false,
   "title_cell": "Table of Contents",
   "title_sidebar": "Contents",
   "toc_cell": false,
   "toc_position": {
    "height": "calc(100% - 180px)",
    "left": "10px",
    "top": "150px",
    "width": "236px"
   },
   "toc_section_display": true,
   "toc_window_display": true
  }
 },
 "nbformat": 4,
 "nbformat_minor": 5
}
